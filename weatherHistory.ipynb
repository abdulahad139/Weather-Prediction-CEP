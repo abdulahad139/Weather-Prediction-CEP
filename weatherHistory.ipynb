{
  "cells": [
    {
      "cell_type": "markdown",
      "metadata": {
        "id": "_KL_CkXUjtGw"
      },
      "source": [
        "# **Machine Learning CEP**\n",
        "\n",
        "**Group: G2**\n",
        "\n",
        "Roll no:\n",
        "\n",
        "1. Farzam Nasir (CS-22137)\n",
        "2. Abdul Ahad (CS-22139)\n",
        "3. Hamza Ali (CS-22146)\n"
      ]
    },
    {
      "cell_type": "markdown",
      "metadata": {
        "id": "iI49kfIsuk6s"
      },
      "source": [
        "# ***Importing necessary libraries***\n"
      ]
    },
    {
      "cell_type": "code",
      "execution_count": null,
      "metadata": {
        "colab": {
          "base_uri": "https://localhost:8080/"
        },
        "id": "m-UG-UqyNQ-V",
        "outputId": "3637feaf-a29f-4b5c-d046-1fa6fc2da305"
      },
      "outputs": [
        {
          "output_type": "stream",
          "name": "stdout",
          "text": [
            "Collecting scikeras\n",
            "  Downloading scikeras-0.13.0-py3-none-any.whl.metadata (3.1 kB)\n",
            "Requirement already satisfied: keras>=3.2.0 in /usr/local/lib/python3.11/dist-packages (from scikeras) (3.8.0)\n",
            "Requirement already satisfied: scikit-learn>=1.4.2 in /usr/local/lib/python3.11/dist-packages (from scikeras) (1.6.1)\n",
            "Requirement already satisfied: absl-py in /usr/local/lib/python3.11/dist-packages (from keras>=3.2.0->scikeras) (1.4.0)\n",
            "Requirement already satisfied: numpy in /usr/local/lib/python3.11/dist-packages (from keras>=3.2.0->scikeras) (2.0.2)\n",
            "Requirement already satisfied: rich in /usr/local/lib/python3.11/dist-packages (from keras>=3.2.0->scikeras) (13.9.4)\n",
            "Requirement already satisfied: namex in /usr/local/lib/python3.11/dist-packages (from keras>=3.2.0->scikeras) (0.0.9)\n",
            "Requirement already satisfied: h5py in /usr/local/lib/python3.11/dist-packages (from keras>=3.2.0->scikeras) (3.13.0)\n",
            "Requirement already satisfied: optree in /usr/local/lib/python3.11/dist-packages (from keras>=3.2.0->scikeras) (0.15.0)\n",
            "Requirement already satisfied: ml-dtypes in /usr/local/lib/python3.11/dist-packages (from keras>=3.2.0->scikeras) (0.4.1)\n",
            "Requirement already satisfied: packaging in /usr/local/lib/python3.11/dist-packages (from keras>=3.2.0->scikeras) (24.2)\n",
            "Requirement already satisfied: scipy>=1.6.0 in /usr/local/lib/python3.11/dist-packages (from scikit-learn>=1.4.2->scikeras) (1.15.3)\n",
            "Requirement already satisfied: joblib>=1.2.0 in /usr/local/lib/python3.11/dist-packages (from scikit-learn>=1.4.2->scikeras) (1.5.0)\n",
            "Requirement already satisfied: threadpoolctl>=3.1.0 in /usr/local/lib/python3.11/dist-packages (from scikit-learn>=1.4.2->scikeras) (3.6.0)\n",
            "Requirement already satisfied: typing-extensions>=4.5.0 in /usr/local/lib/python3.11/dist-packages (from optree->keras>=3.2.0->scikeras) (4.13.2)\n",
            "Requirement already satisfied: markdown-it-py>=2.2.0 in /usr/local/lib/python3.11/dist-packages (from rich->keras>=3.2.0->scikeras) (3.0.0)\n",
            "Requirement already satisfied: pygments<3.0.0,>=2.13.0 in /usr/local/lib/python3.11/dist-packages (from rich->keras>=3.2.0->scikeras) (2.19.1)\n",
            "Requirement already satisfied: mdurl~=0.1 in /usr/local/lib/python3.11/dist-packages (from markdown-it-py>=2.2.0->rich->keras>=3.2.0->scikeras) (0.1.2)\n",
            "Downloading scikeras-0.13.0-py3-none-any.whl (26 kB)\n",
            "Installing collected packages: scikeras\n",
            "Successfully installed scikeras-0.13.0\n"
          ]
        }
      ],
      "source": [
        "import numpy as np\n",
        "import pandas as pd\n",
        "import matplotlib.pyplot as plt\n",
        "import seaborn as sns\n",
        "import pickle\n",
        "from sklearn.linear_model import LinearRegression,LogisticRegression\n",
        "from sklearn.metrics import accuracy_score,confusion_matrix,classification_report,roc_curve, auc,precision_score,f1_score,recall_score\n",
        "from sklearn.model_selection import train_test_split,GridSearchCV\n",
        "from sklearn.preprocessing import normalize,MinMaxScaler,StandardScaler,LabelEncoder\n",
        "from sklearn.naive_bayes import GaussianNB\n",
        "from tensorflow.keras.models import Sequential\n",
        "from tensorflow.keras.layers import Dense,BatchNormalization,Dropout\n",
        "# from tensorflow.keras.wrappers.scikit_learn import KerasClassifier\n",
        "!pip install scikeras\n",
        "from scikeras.wrappers import KerasClassifier\n",
        "from keras.models import Sequential\n",
        "import tensorflow as tf\n",
        "from imblearn.over_sampling import SMOTE\n",
        "import warnings\n",
        "warnings.filterwarnings(\"ignore\")\n",
        "from sklearn.neighbors import KNeighborsClassifier\n",
        "import ipywidgets as widgets\n",
        "from IPython.display import display, clear_output\n",
        "import torch\n",
        "import torch.nn as nn"
      ]
    },
    {
      "cell_type": "markdown",
      "metadata": {
        "id": "8XZ-CJDLNiVm"
      },
      "source": [
        "# ***Data Analysis***\n",
        "\n",
        "**Analyzing the dataset and checking the feature values.**"
      ]
    },
    {
      "cell_type": "markdown",
      "metadata": {
        "id": "YvTqg6x3Y_IS"
      },
      "source": [
        "## Loading the dataset"
      ]
    },
    {
      "cell_type": "code",
      "execution_count": null,
      "metadata": {
        "id": "rOMeAS2bNV1z"
      },
      "outputs": [],
      "source": [
        "data = pd.read_csv(\"weatherHistory.csv\")"
      ]
    },
    {
      "cell_type": "code",
      "execution_count": null,
      "metadata": {
        "colab": {
          "base_uri": "https://localhost:8080/",
          "height": 414
        },
        "id": "jI199OCTNaGf",
        "outputId": "3dba5489-bba3-4ca7-d716-a8bc06987d6c"
      },
      "outputs": [
        {
          "output_type": "execute_result",
          "data": {
            "text/plain": [
              "                  Formatted Date        Summary Precip Type  Temperature (C)  \\\n",
              "0  2006-04-01 00:00:00.000 +0200  Partly Cloudy        rain         9.472222   \n",
              "1  2006-04-01 01:00:00.000 +0200  Partly Cloudy        rain         9.355556   \n",
              "2  2006-04-01 02:00:00.000 +0200  Mostly Cloudy        rain         9.377778   \n",
              "3  2006-04-01 03:00:00.000 +0200  Partly Cloudy        rain         8.288889   \n",
              "4  2006-04-01 04:00:00.000 +0200  Mostly Cloudy        rain         8.755556   \n",
              "\n",
              "   Apparent Temperature (C)  Humidity  Wind Speed (km/h)  \\\n",
              "0                  7.388889      0.89            14.1197   \n",
              "1                  7.227778      0.86            14.2646   \n",
              "2                  9.377778      0.89             3.9284   \n",
              "3                  5.944444      0.83            14.1036   \n",
              "4                  6.977778      0.83            11.0446   \n",
              "\n",
              "   Wind Bearing (degrees)  Visibility (km)  Loud Cover  Pressure (millibars)  \\\n",
              "0                   251.0          15.8263         0.0               1015.13   \n",
              "1                   259.0          15.8263         0.0               1015.63   \n",
              "2                   204.0          14.9569         0.0               1015.94   \n",
              "3                   269.0          15.8263         0.0               1016.41   \n",
              "4                   259.0          15.8263         0.0               1016.51   \n",
              "\n",
              "                       Daily Summary  \n",
              "0  Partly cloudy throughout the day.  \n",
              "1  Partly cloudy throughout the day.  \n",
              "2  Partly cloudy throughout the day.  \n",
              "3  Partly cloudy throughout the day.  \n",
              "4  Partly cloudy throughout the day.  "
            ],
            "text/html": [
              "\n",
              "  <div id=\"df-9fe6702f-88f1-491d-991d-1536103e147f\" class=\"colab-df-container\">\n",
              "    <div>\n",
              "<style scoped>\n",
              "    .dataframe tbody tr th:only-of-type {\n",
              "        vertical-align: middle;\n",
              "    }\n",
              "\n",
              "    .dataframe tbody tr th {\n",
              "        vertical-align: top;\n",
              "    }\n",
              "\n",
              "    .dataframe thead th {\n",
              "        text-align: right;\n",
              "    }\n",
              "</style>\n",
              "<table border=\"1\" class=\"dataframe\">\n",
              "  <thead>\n",
              "    <tr style=\"text-align: right;\">\n",
              "      <th></th>\n",
              "      <th>Formatted Date</th>\n",
              "      <th>Summary</th>\n",
              "      <th>Precip Type</th>\n",
              "      <th>Temperature (C)</th>\n",
              "      <th>Apparent Temperature (C)</th>\n",
              "      <th>Humidity</th>\n",
              "      <th>Wind Speed (km/h)</th>\n",
              "      <th>Wind Bearing (degrees)</th>\n",
              "      <th>Visibility (km)</th>\n",
              "      <th>Loud Cover</th>\n",
              "      <th>Pressure (millibars)</th>\n",
              "      <th>Daily Summary</th>\n",
              "    </tr>\n",
              "  </thead>\n",
              "  <tbody>\n",
              "    <tr>\n",
              "      <th>0</th>\n",
              "      <td>2006-04-01 00:00:00.000 +0200</td>\n",
              "      <td>Partly Cloudy</td>\n",
              "      <td>rain</td>\n",
              "      <td>9.472222</td>\n",
              "      <td>7.388889</td>\n",
              "      <td>0.89</td>\n",
              "      <td>14.1197</td>\n",
              "      <td>251.0</td>\n",
              "      <td>15.8263</td>\n",
              "      <td>0.0</td>\n",
              "      <td>1015.13</td>\n",
              "      <td>Partly cloudy throughout the day.</td>\n",
              "    </tr>\n",
              "    <tr>\n",
              "      <th>1</th>\n",
              "      <td>2006-04-01 01:00:00.000 +0200</td>\n",
              "      <td>Partly Cloudy</td>\n",
              "      <td>rain</td>\n",
              "      <td>9.355556</td>\n",
              "      <td>7.227778</td>\n",
              "      <td>0.86</td>\n",
              "      <td>14.2646</td>\n",
              "      <td>259.0</td>\n",
              "      <td>15.8263</td>\n",
              "      <td>0.0</td>\n",
              "      <td>1015.63</td>\n",
              "      <td>Partly cloudy throughout the day.</td>\n",
              "    </tr>\n",
              "    <tr>\n",
              "      <th>2</th>\n",
              "      <td>2006-04-01 02:00:00.000 +0200</td>\n",
              "      <td>Mostly Cloudy</td>\n",
              "      <td>rain</td>\n",
              "      <td>9.377778</td>\n",
              "      <td>9.377778</td>\n",
              "      <td>0.89</td>\n",
              "      <td>3.9284</td>\n",
              "      <td>204.0</td>\n",
              "      <td>14.9569</td>\n",
              "      <td>0.0</td>\n",
              "      <td>1015.94</td>\n",
              "      <td>Partly cloudy throughout the day.</td>\n",
              "    </tr>\n",
              "    <tr>\n",
              "      <th>3</th>\n",
              "      <td>2006-04-01 03:00:00.000 +0200</td>\n",
              "      <td>Partly Cloudy</td>\n",
              "      <td>rain</td>\n",
              "      <td>8.288889</td>\n",
              "      <td>5.944444</td>\n",
              "      <td>0.83</td>\n",
              "      <td>14.1036</td>\n",
              "      <td>269.0</td>\n",
              "      <td>15.8263</td>\n",
              "      <td>0.0</td>\n",
              "      <td>1016.41</td>\n",
              "      <td>Partly cloudy throughout the day.</td>\n",
              "    </tr>\n",
              "    <tr>\n",
              "      <th>4</th>\n",
              "      <td>2006-04-01 04:00:00.000 +0200</td>\n",
              "      <td>Mostly Cloudy</td>\n",
              "      <td>rain</td>\n",
              "      <td>8.755556</td>\n",
              "      <td>6.977778</td>\n",
              "      <td>0.83</td>\n",
              "      <td>11.0446</td>\n",
              "      <td>259.0</td>\n",
              "      <td>15.8263</td>\n",
              "      <td>0.0</td>\n",
              "      <td>1016.51</td>\n",
              "      <td>Partly cloudy throughout the day.</td>\n",
              "    </tr>\n",
              "  </tbody>\n",
              "</table>\n",
              "</div>\n",
              "    <div class=\"colab-df-buttons\">\n",
              "\n",
              "  <div class=\"colab-df-container\">\n",
              "    <button class=\"colab-df-convert\" onclick=\"convertToInteractive('df-9fe6702f-88f1-491d-991d-1536103e147f')\"\n",
              "            title=\"Convert this dataframe to an interactive table.\"\n",
              "            style=\"display:none;\">\n",
              "\n",
              "  <svg xmlns=\"http://www.w3.org/2000/svg\" height=\"24px\" viewBox=\"0 -960 960 960\">\n",
              "    <path d=\"M120-120v-720h720v720H120Zm60-500h600v-160H180v160Zm220 220h160v-160H400v160Zm0 220h160v-160H400v160ZM180-400h160v-160H180v160Zm440 0h160v-160H620v160ZM180-180h160v-160H180v160Zm440 0h160v-160H620v160Z\"/>\n",
              "  </svg>\n",
              "    </button>\n",
              "\n",
              "  <style>\n",
              "    .colab-df-container {\n",
              "      display:flex;\n",
              "      gap: 12px;\n",
              "    }\n",
              "\n",
              "    .colab-df-convert {\n",
              "      background-color: #E8F0FE;\n",
              "      border: none;\n",
              "      border-radius: 50%;\n",
              "      cursor: pointer;\n",
              "      display: none;\n",
              "      fill: #1967D2;\n",
              "      height: 32px;\n",
              "      padding: 0 0 0 0;\n",
              "      width: 32px;\n",
              "    }\n",
              "\n",
              "    .colab-df-convert:hover {\n",
              "      background-color: #E2EBFA;\n",
              "      box-shadow: 0px 1px 2px rgba(60, 64, 67, 0.3), 0px 1px 3px 1px rgba(60, 64, 67, 0.15);\n",
              "      fill: #174EA6;\n",
              "    }\n",
              "\n",
              "    .colab-df-buttons div {\n",
              "      margin-bottom: 4px;\n",
              "    }\n",
              "\n",
              "    [theme=dark] .colab-df-convert {\n",
              "      background-color: #3B4455;\n",
              "      fill: #D2E3FC;\n",
              "    }\n",
              "\n",
              "    [theme=dark] .colab-df-convert:hover {\n",
              "      background-color: #434B5C;\n",
              "      box-shadow: 0px 1px 3px 1px rgba(0, 0, 0, 0.15);\n",
              "      filter: drop-shadow(0px 1px 2px rgba(0, 0, 0, 0.3));\n",
              "      fill: #FFFFFF;\n",
              "    }\n",
              "  </style>\n",
              "\n",
              "    <script>\n",
              "      const buttonEl =\n",
              "        document.querySelector('#df-9fe6702f-88f1-491d-991d-1536103e147f button.colab-df-convert');\n",
              "      buttonEl.style.display =\n",
              "        google.colab.kernel.accessAllowed ? 'block' : 'none';\n",
              "\n",
              "      async function convertToInteractive(key) {\n",
              "        const element = document.querySelector('#df-9fe6702f-88f1-491d-991d-1536103e147f');\n",
              "        const dataTable =\n",
              "          await google.colab.kernel.invokeFunction('convertToInteractive',\n",
              "                                                    [key], {});\n",
              "        if (!dataTable) return;\n",
              "\n",
              "        const docLinkHtml = 'Like what you see? Visit the ' +\n",
              "          '<a target=\"_blank\" href=https://colab.research.google.com/notebooks/data_table.ipynb>data table notebook</a>'\n",
              "          + ' to learn more about interactive tables.';\n",
              "        element.innerHTML = '';\n",
              "        dataTable['output_type'] = 'display_data';\n",
              "        await google.colab.output.renderOutput(dataTable, element);\n",
              "        const docLink = document.createElement('div');\n",
              "        docLink.innerHTML = docLinkHtml;\n",
              "        element.appendChild(docLink);\n",
              "      }\n",
              "    </script>\n",
              "  </div>\n",
              "\n",
              "\n",
              "    <div id=\"df-f8780008-2207-450b-9a87-e30a1038e4cf\">\n",
              "      <button class=\"colab-df-quickchart\" onclick=\"quickchart('df-f8780008-2207-450b-9a87-e30a1038e4cf')\"\n",
              "                title=\"Suggest charts\"\n",
              "                style=\"display:none;\">\n",
              "\n",
              "<svg xmlns=\"http://www.w3.org/2000/svg\" height=\"24px\"viewBox=\"0 0 24 24\"\n",
              "     width=\"24px\">\n",
              "    <g>\n",
              "        <path d=\"M19 3H5c-1.1 0-2 .9-2 2v14c0 1.1.9 2 2 2h14c1.1 0 2-.9 2-2V5c0-1.1-.9-2-2-2zM9 17H7v-7h2v7zm4 0h-2V7h2v10zm4 0h-2v-4h2v4z\"/>\n",
              "    </g>\n",
              "</svg>\n",
              "      </button>\n",
              "\n",
              "<style>\n",
              "  .colab-df-quickchart {\n",
              "      --bg-color: #E8F0FE;\n",
              "      --fill-color: #1967D2;\n",
              "      --hover-bg-color: #E2EBFA;\n",
              "      --hover-fill-color: #174EA6;\n",
              "      --disabled-fill-color: #AAA;\n",
              "      --disabled-bg-color: #DDD;\n",
              "  }\n",
              "\n",
              "  [theme=dark] .colab-df-quickchart {\n",
              "      --bg-color: #3B4455;\n",
              "      --fill-color: #D2E3FC;\n",
              "      --hover-bg-color: #434B5C;\n",
              "      --hover-fill-color: #FFFFFF;\n",
              "      --disabled-bg-color: #3B4455;\n",
              "      --disabled-fill-color: #666;\n",
              "  }\n",
              "\n",
              "  .colab-df-quickchart {\n",
              "    background-color: var(--bg-color);\n",
              "    border: none;\n",
              "    border-radius: 50%;\n",
              "    cursor: pointer;\n",
              "    display: none;\n",
              "    fill: var(--fill-color);\n",
              "    height: 32px;\n",
              "    padding: 0;\n",
              "    width: 32px;\n",
              "  }\n",
              "\n",
              "  .colab-df-quickchart:hover {\n",
              "    background-color: var(--hover-bg-color);\n",
              "    box-shadow: 0 1px 2px rgba(60, 64, 67, 0.3), 0 1px 3px 1px rgba(60, 64, 67, 0.15);\n",
              "    fill: var(--button-hover-fill-color);\n",
              "  }\n",
              "\n",
              "  .colab-df-quickchart-complete:disabled,\n",
              "  .colab-df-quickchart-complete:disabled:hover {\n",
              "    background-color: var(--disabled-bg-color);\n",
              "    fill: var(--disabled-fill-color);\n",
              "    box-shadow: none;\n",
              "  }\n",
              "\n",
              "  .colab-df-spinner {\n",
              "    border: 2px solid var(--fill-color);\n",
              "    border-color: transparent;\n",
              "    border-bottom-color: var(--fill-color);\n",
              "    animation:\n",
              "      spin 1s steps(1) infinite;\n",
              "  }\n",
              "\n",
              "  @keyframes spin {\n",
              "    0% {\n",
              "      border-color: transparent;\n",
              "      border-bottom-color: var(--fill-color);\n",
              "      border-left-color: var(--fill-color);\n",
              "    }\n",
              "    20% {\n",
              "      border-color: transparent;\n",
              "      border-left-color: var(--fill-color);\n",
              "      border-top-color: var(--fill-color);\n",
              "    }\n",
              "    30% {\n",
              "      border-color: transparent;\n",
              "      border-left-color: var(--fill-color);\n",
              "      border-top-color: var(--fill-color);\n",
              "      border-right-color: var(--fill-color);\n",
              "    }\n",
              "    40% {\n",
              "      border-color: transparent;\n",
              "      border-right-color: var(--fill-color);\n",
              "      border-top-color: var(--fill-color);\n",
              "    }\n",
              "    60% {\n",
              "      border-color: transparent;\n",
              "      border-right-color: var(--fill-color);\n",
              "    }\n",
              "    80% {\n",
              "      border-color: transparent;\n",
              "      border-right-color: var(--fill-color);\n",
              "      border-bottom-color: var(--fill-color);\n",
              "    }\n",
              "    90% {\n",
              "      border-color: transparent;\n",
              "      border-bottom-color: var(--fill-color);\n",
              "    }\n",
              "  }\n",
              "</style>\n",
              "\n",
              "      <script>\n",
              "        async function quickchart(key) {\n",
              "          const quickchartButtonEl =\n",
              "            document.querySelector('#' + key + ' button');\n",
              "          quickchartButtonEl.disabled = true;  // To prevent multiple clicks.\n",
              "          quickchartButtonEl.classList.add('colab-df-spinner');\n",
              "          try {\n",
              "            const charts = await google.colab.kernel.invokeFunction(\n",
              "                'suggestCharts', [key], {});\n",
              "          } catch (error) {\n",
              "            console.error('Error during call to suggestCharts:', error);\n",
              "          }\n",
              "          quickchartButtonEl.classList.remove('colab-df-spinner');\n",
              "          quickchartButtonEl.classList.add('colab-df-quickchart-complete');\n",
              "        }\n",
              "        (() => {\n",
              "          let quickchartButtonEl =\n",
              "            document.querySelector('#df-f8780008-2207-450b-9a87-e30a1038e4cf button');\n",
              "          quickchartButtonEl.style.display =\n",
              "            google.colab.kernel.accessAllowed ? 'block' : 'none';\n",
              "        })();\n",
              "      </script>\n",
              "    </div>\n",
              "\n",
              "    </div>\n",
              "  </div>\n"
            ],
            "application/vnd.google.colaboratory.intrinsic+json": {
              "type": "dataframe",
              "variable_name": "data",
              "summary": "{\n  \"name\": \"data\",\n  \"rows\": 96453,\n  \"fields\": [\n    {\n      \"column\": \"Formatted Date\",\n      \"properties\": {\n        \"dtype\": \"object\",\n        \"num_unique_values\": 96429,\n        \"samples\": [\n          \"2008-10-17 17:00:00.000 +0200\",\n          \"2014-11-02 03:00:00.000 +0100\",\n          \"2008-06-18 01:00:00.000 +0200\"\n        ],\n        \"semantic_type\": \"\",\n        \"description\": \"\"\n      }\n    },\n    {\n      \"column\": \"Summary\",\n      \"properties\": {\n        \"dtype\": \"category\",\n        \"num_unique_values\": 27,\n        \"samples\": [\n          \"Humid and Mostly Cloudy\",\n          \"Windy and Partly Cloudy\",\n          \"Humid and Partly Cloudy\"\n        ],\n        \"semantic_type\": \"\",\n        \"description\": \"\"\n      }\n    },\n    {\n      \"column\": \"Precip Type\",\n      \"properties\": {\n        \"dtype\": \"category\",\n        \"num_unique_values\": 2,\n        \"samples\": [\n          \"snow\",\n          \"rain\"\n        ],\n        \"semantic_type\": \"\",\n        \"description\": \"\"\n      }\n    },\n    {\n      \"column\": \"Temperature (C)\",\n      \"properties\": {\n        \"dtype\": \"number\",\n        \"std\": 9.551546320656923,\n        \"min\": -21.822222222222223,\n        \"max\": 39.90555555555555,\n        \"num_unique_values\": 7574,\n        \"samples\": [\n          34.8111111111111,\n          14.955555555555556\n        ],\n        \"semantic_type\": \"\",\n        \"description\": \"\"\n      }\n    },\n    {\n      \"column\": \"Apparent Temperature (C)\",\n      \"properties\": {\n        \"dtype\": \"number\",\n        \"std\": 10.696847392119263,\n        \"min\": -27.716666666666665,\n        \"max\": 39.34444444444444,\n        \"num_unique_values\": 8984,\n        \"samples\": [\n          32.01111111111111,\n          3.1611111111111097\n        ],\n        \"semantic_type\": \"\",\n        \"description\": \"\"\n      }\n    },\n    {\n      \"column\": \"Humidity\",\n      \"properties\": {\n        \"dtype\": \"number\",\n        \"std\": 0.19547273906722662,\n        \"min\": 0.0,\n        \"max\": 1.0,\n        \"num_unique_values\": 90,\n        \"samples\": [\n          0.81,\n          0.8\n        ],\n        \"semantic_type\": \"\",\n        \"description\": \"\"\n      }\n    },\n    {\n      \"column\": \"Wind Speed (km/h)\",\n      \"properties\": {\n        \"dtype\": \"number\",\n        \"std\": 6.9135710125921515,\n        \"min\": 0.0,\n        \"max\": 63.8526,\n        \"num_unique_values\": 2484,\n        \"samples\": [\n          23.3611,\n          33.1016\n        ],\n        \"semantic_type\": \"\",\n        \"description\": \"\"\n      }\n    },\n    {\n      \"column\": \"Wind Bearing (degrees)\",\n      \"properties\": {\n        \"dtype\": \"number\",\n        \"std\": 107.38342838070538,\n        \"min\": 0.0,\n        \"max\": 359.0,\n        \"num_unique_values\": 360,\n        \"samples\": [\n          128.0,\n          15.0\n        ],\n        \"semantic_type\": \"\",\n        \"description\": \"\"\n      }\n    },\n    {\n      \"column\": \"Visibility (km)\",\n      \"properties\": {\n        \"dtype\": \"number\",\n        \"std\": 4.192123191422925,\n        \"min\": 0.0,\n        \"max\": 16.1,\n        \"num_unique_values\": 949,\n        \"samples\": [\n          4.395300000000001,\n          6.6332\n        ],\n        \"semantic_type\": \"\",\n        \"description\": \"\"\n      }\n    },\n    {\n      \"column\": \"Loud Cover\",\n      \"properties\": {\n        \"dtype\": \"number\",\n        \"std\": 0.0,\n        \"min\": 0.0,\n        \"max\": 0.0,\n        \"num_unique_values\": 1,\n        \"samples\": [\n          0.0\n        ],\n        \"semantic_type\": \"\",\n        \"description\": \"\"\n      }\n    },\n    {\n      \"column\": \"Pressure (millibars)\",\n      \"properties\": {\n        \"dtype\": \"number\",\n        \"std\": 116.96990568258147,\n        \"min\": 0.0,\n        \"max\": 1046.38,\n        \"num_unique_values\": 4979,\n        \"samples\": [\n          987.38\n        ],\n        \"semantic_type\": \"\",\n        \"description\": \"\"\n      }\n    },\n    {\n      \"column\": \"Daily Summary\",\n      \"properties\": {\n        \"dtype\": \"category\",\n        \"num_unique_values\": 214,\n        \"samples\": [\n          \"Partly cloudy until evening.\"\n        ],\n        \"semantic_type\": \"\",\n        \"description\": \"\"\n      }\n    }\n  ]\n}"
            }
          },
          "metadata": {},
          "execution_count": 3
        }
      ],
      "source": [
        "data.head()"
      ]
    },
    {
      "cell_type": "code",
      "execution_count": null,
      "metadata": {
        "colab": {
          "base_uri": "https://localhost:8080/"
        },
        "id": "14rKq6oyNamZ",
        "outputId": "3758534a-9355-4a23-c897-8979d4380c46"
      },
      "outputs": [
        {
          "output_type": "stream",
          "name": "stdout",
          "text": [
            "<class 'pandas.core.frame.DataFrame'>\n",
            "RangeIndex: 96453 entries, 0 to 96452\n",
            "Data columns (total 12 columns):\n",
            " #   Column                    Non-Null Count  Dtype  \n",
            "---  ------                    --------------  -----  \n",
            " 0   Formatted Date            96453 non-null  object \n",
            " 1   Summary                   96453 non-null  object \n",
            " 2   Precip Type               95936 non-null  object \n",
            " 3   Temperature (C)           96453 non-null  float64\n",
            " 4   Apparent Temperature (C)  96453 non-null  float64\n",
            " 5   Humidity                  96453 non-null  float64\n",
            " 6   Wind Speed (km/h)         96453 non-null  float64\n",
            " 7   Wind Bearing (degrees)    96453 non-null  float64\n",
            " 8   Visibility (km)           96453 non-null  float64\n",
            " 9   Loud Cover                96453 non-null  float64\n",
            " 10  Pressure (millibars)      96453 non-null  float64\n",
            " 11  Daily Summary             96453 non-null  object \n",
            "dtypes: float64(8), object(4)\n",
            "memory usage: 8.8+ MB\n"
          ]
        }
      ],
      "source": [
        "data.info()"
      ]
    },
    {
      "cell_type": "markdown",
      "metadata": {
        "id": "ubcNdky6bbp2"
      },
      "source": [
        "# ***Feature Engineering***"
      ]
    },
    {
      "cell_type": "markdown",
      "metadata": {
        "id": "x9fIUJOJaHuS"
      },
      "source": [
        "**It is observed that there are 53% null values in Precip Type feature.**"
      ]
    },
    {
      "cell_type": "code",
      "execution_count": null,
      "metadata": {
        "colab": {
          "base_uri": "https://localhost:8080/",
          "height": 460
        },
        "id": "ye75Z4NOO7Cd",
        "outputId": "317a5f53-26d4-4550-deda-80c1fffee806"
      },
      "outputs": [
        {
          "output_type": "execute_result",
          "data": {
            "text/plain": [
              "Formatted Date              0.000000\n",
              "Summary                     0.000000\n",
              "Precip Type                 0.536012\n",
              "Temperature (C)             0.000000\n",
              "Apparent Temperature (C)    0.000000\n",
              "Humidity                    0.000000\n",
              "Wind Speed (km/h)           0.000000\n",
              "Wind Bearing (degrees)      0.000000\n",
              "Visibility (km)             0.000000\n",
              "Loud Cover                  0.000000\n",
              "Pressure (millibars)        0.000000\n",
              "Daily Summary               0.000000\n",
              "dtype: float64"
            ],
            "text/html": [
              "<div>\n",
              "<style scoped>\n",
              "    .dataframe tbody tr th:only-of-type {\n",
              "        vertical-align: middle;\n",
              "    }\n",
              "\n",
              "    .dataframe tbody tr th {\n",
              "        vertical-align: top;\n",
              "    }\n",
              "\n",
              "    .dataframe thead th {\n",
              "        text-align: right;\n",
              "    }\n",
              "</style>\n",
              "<table border=\"1\" class=\"dataframe\">\n",
              "  <thead>\n",
              "    <tr style=\"text-align: right;\">\n",
              "      <th></th>\n",
              "      <th>0</th>\n",
              "    </tr>\n",
              "  </thead>\n",
              "  <tbody>\n",
              "    <tr>\n",
              "      <th>Formatted Date</th>\n",
              "      <td>0.000000</td>\n",
              "    </tr>\n",
              "    <tr>\n",
              "      <th>Summary</th>\n",
              "      <td>0.000000</td>\n",
              "    </tr>\n",
              "    <tr>\n",
              "      <th>Precip Type</th>\n",
              "      <td>0.536012</td>\n",
              "    </tr>\n",
              "    <tr>\n",
              "      <th>Temperature (C)</th>\n",
              "      <td>0.000000</td>\n",
              "    </tr>\n",
              "    <tr>\n",
              "      <th>Apparent Temperature (C)</th>\n",
              "      <td>0.000000</td>\n",
              "    </tr>\n",
              "    <tr>\n",
              "      <th>Humidity</th>\n",
              "      <td>0.000000</td>\n",
              "    </tr>\n",
              "    <tr>\n",
              "      <th>Wind Speed (km/h)</th>\n",
              "      <td>0.000000</td>\n",
              "    </tr>\n",
              "    <tr>\n",
              "      <th>Wind Bearing (degrees)</th>\n",
              "      <td>0.000000</td>\n",
              "    </tr>\n",
              "    <tr>\n",
              "      <th>Visibility (km)</th>\n",
              "      <td>0.000000</td>\n",
              "    </tr>\n",
              "    <tr>\n",
              "      <th>Loud Cover</th>\n",
              "      <td>0.000000</td>\n",
              "    </tr>\n",
              "    <tr>\n",
              "      <th>Pressure (millibars)</th>\n",
              "      <td>0.000000</td>\n",
              "    </tr>\n",
              "    <tr>\n",
              "      <th>Daily Summary</th>\n",
              "      <td>0.000000</td>\n",
              "    </tr>\n",
              "  </tbody>\n",
              "</table>\n",
              "</div><br><label><b>dtype:</b> float64</label>"
            ]
          },
          "metadata": {},
          "execution_count": 5
        }
      ],
      "source": [
        "data.apply(pd.isnull).sum() # checking the null values\n",
        "data.apply(pd.isnull).sum()/data.shape[0]*100 #  53% data is null for precip"
      ]
    },
    {
      "cell_type": "code",
      "execution_count": null,
      "metadata": {
        "colab": {
          "base_uri": "https://localhost:8080/"
        },
        "id": "j6ZViVYtPBQU",
        "outputId": "285c5f2f-2e12-4bc6-a3c3-b5df8a697ddd"
      },
      "outputs": [
        {
          "output_type": "stream",
          "name": "stdout",
          "text": [
            "(96453, 12)\n"
          ]
        }
      ],
      "source": [
        "print(data.shape) # basically it is a tuple show rows and column :)"
      ]
    },
    {
      "cell_type": "code",
      "execution_count": null,
      "metadata": {
        "colab": {
          "base_uri": "https://localhost:8080/"
        },
        "id": "5vEXNi9gPUwl",
        "outputId": "3e39a924-b43f-4356-daac-9957540d5c95"
      },
      "outputs": [
        {
          "output_type": "execute_result",
          "data": {
            "text/plain": [
              "array(['rain', 'snow', nan], dtype=object)"
            ]
          },
          "metadata": {},
          "execution_count": 7
        }
      ],
      "source": [
        "data[\"Precip Type\"].unique()"
      ]
    },
    {
      "cell_type": "markdown",
      "metadata": {
        "id": "J8sjCJXOa3fl"
      },
      "source": [
        "**Fill missing values in the 'Precip Type' column based on temperature. If Temperature > 0°C, assume 'rain'; otherwise, assume 'snow'.**"
      ]
    },
    {
      "cell_type": "code",
      "execution_count": null,
      "metadata": {
        "id": "oyCifkF5QPUF"
      },
      "outputs": [],
      "source": [
        "data['Precip Type'] = data['Precip Type'].fillna(\n",
        "    data.apply(lambda row: 'rain' if row['Temperature (C)'] > 0 else 'snow', axis=1)\n",
        ")"
      ]
    },
    {
      "cell_type": "code",
      "execution_count": null,
      "metadata": {
        "colab": {
          "base_uri": "https://localhost:8080/",
          "height": 460
        },
        "id": "ucGiPwXyQSpC",
        "outputId": "a41e41fb-6335-4f81-f802-c1bb23006db0"
      },
      "outputs": [
        {
          "output_type": "execute_result",
          "data": {
            "text/plain": [
              "Formatted Date              0\n",
              "Summary                     0\n",
              "Precip Type                 0\n",
              "Temperature (C)             0\n",
              "Apparent Temperature (C)    0\n",
              "Humidity                    0\n",
              "Wind Speed (km/h)           0\n",
              "Wind Bearing (degrees)      0\n",
              "Visibility (km)             0\n",
              "Loud Cover                  0\n",
              "Pressure (millibars)        0\n",
              "Daily Summary               0\n",
              "dtype: int64"
            ],
            "text/html": [
              "<div>\n",
              "<style scoped>\n",
              "    .dataframe tbody tr th:only-of-type {\n",
              "        vertical-align: middle;\n",
              "    }\n",
              "\n",
              "    .dataframe tbody tr th {\n",
              "        vertical-align: top;\n",
              "    }\n",
              "\n",
              "    .dataframe thead th {\n",
              "        text-align: right;\n",
              "    }\n",
              "</style>\n",
              "<table border=\"1\" class=\"dataframe\">\n",
              "  <thead>\n",
              "    <tr style=\"text-align: right;\">\n",
              "      <th></th>\n",
              "      <th>0</th>\n",
              "    </tr>\n",
              "  </thead>\n",
              "  <tbody>\n",
              "    <tr>\n",
              "      <th>Formatted Date</th>\n",
              "      <td>0</td>\n",
              "    </tr>\n",
              "    <tr>\n",
              "      <th>Summary</th>\n",
              "      <td>0</td>\n",
              "    </tr>\n",
              "    <tr>\n",
              "      <th>Precip Type</th>\n",
              "      <td>0</td>\n",
              "    </tr>\n",
              "    <tr>\n",
              "      <th>Temperature (C)</th>\n",
              "      <td>0</td>\n",
              "    </tr>\n",
              "    <tr>\n",
              "      <th>Apparent Temperature (C)</th>\n",
              "      <td>0</td>\n",
              "    </tr>\n",
              "    <tr>\n",
              "      <th>Humidity</th>\n",
              "      <td>0</td>\n",
              "    </tr>\n",
              "    <tr>\n",
              "      <th>Wind Speed (km/h)</th>\n",
              "      <td>0</td>\n",
              "    </tr>\n",
              "    <tr>\n",
              "      <th>Wind Bearing (degrees)</th>\n",
              "      <td>0</td>\n",
              "    </tr>\n",
              "    <tr>\n",
              "      <th>Visibility (km)</th>\n",
              "      <td>0</td>\n",
              "    </tr>\n",
              "    <tr>\n",
              "      <th>Loud Cover</th>\n",
              "      <td>0</td>\n",
              "    </tr>\n",
              "    <tr>\n",
              "      <th>Pressure (millibars)</th>\n",
              "      <td>0</td>\n",
              "    </tr>\n",
              "    <tr>\n",
              "      <th>Daily Summary</th>\n",
              "      <td>0</td>\n",
              "    </tr>\n",
              "  </tbody>\n",
              "</table>\n",
              "</div><br><label><b>dtype:</b> int64</label>"
            ]
          },
          "metadata": {},
          "execution_count": 9
        }
      ],
      "source": [
        "data.apply(pd.isnull).sum()"
      ]
    },
    {
      "cell_type": "code",
      "execution_count": null,
      "metadata": {
        "colab": {
          "base_uri": "https://localhost:8080/"
        },
        "id": "W2Mgkd_nlJcN",
        "outputId": "577c6c50-b87a-4c3f-fe79-a3f9696fbfdd"
      },
      "outputs": [
        {
          "output_type": "execute_result",
          "data": {
            "text/plain": [
              "array(['rain', 'snow'], dtype=object)"
            ]
          },
          "metadata": {},
          "execution_count": 10
        }
      ],
      "source": [
        "data[\"Precip Type\"].unique()"
      ]
    },
    {
      "cell_type": "markdown",
      "metadata": {
        "id": "xeYypER7vPme"
      },
      "source": [
        "## **Converting time series data to appropriate format**\n",
        "\n",
        "Since we're working with time series data, we extract and engineer features that help reveal hidden temporal patterns.<br/>\n",
        "We begin by converting the 'Formatted Date' column to datetime format and then extract several time-based features.<br/>\n",
        "\n",
        "Hour: Hour of the day (0–23)\n",
        "\n",
        "Day_of_week: Day of the week (0 = Monday, 6 = Sunday)\n",
        "\n",
        "Month: Month of the year (1–12)\n",
        "\n",
        "We calculate the season from the month using integer division, where:\n",
        "\n",
        "1 = Winter, 2 = Spring, 3 = Summer, 4 = Fall\n",
        "\n",
        "Time features like Hour and Month are cyclical. For example, hour 23 and hour 0 are next to each other in time, but numerically distant. To handle this, we use sine and cosine transformations to encode them in a way that preserves their circular nature. This encoding helps machine learning models better understand time-based patterns.\n"
      ]
    },
    {
      "cell_type": "code",
      "execution_count": null,
      "metadata": {
        "id": "xYwKdHGVQhVF"
      },
      "outputs": [],
      "source": [
        "data['Formatted Date'] = pd.to_datetime(data['Formatted Date'], utc=True)\n",
        "data['Hour'] = data['Formatted Date'].dt.hour\n",
        "data['Day_of_week'] = data['Formatted Date'].dt.dayofweek\n",
        "data['Month'] = data['Formatted Date'].dt.month\n",
        "data['Season'] = (data['Month'] % 12 + 3) // 3\n",
        "data['Is_weekend'] = (data['Day_of_week'] >= 5).astype(int)\n",
        "\n",
        "data['Hour_sin'] = np.sin(2 * np.pi * data['Hour']/24)\n",
        "data['Hour_cos'] = np.cos(2 * np.pi * data['Hour']/24)\n",
        "data['Month_sin'] = np.sin(2 * np.pi * data['Month']/12)\n",
        "data['Month_cos'] = np.cos(2 * np.pi * data['Month']/12)\n",
        "\n",
        "data['Temp_Humidity'] = data['Temperature (C)'] * data['Humidity']\n",
        "data['Wind_Pressure'] = data['Wind Speed (km/h)'] * data['Pressure (millibars)']"
      ]
    },
    {
      "cell_type": "code",
      "execution_count": null,
      "metadata": {
        "colab": {
          "base_uri": "https://localhost:8080/",
          "height": 883
        },
        "id": "sZiXsq50oXSW",
        "outputId": "8a0eb044-0e56-4e21-ed6c-9c2363a99594"
      },
      "outputs": [
        {
          "output_type": "display_data",
          "data": {
            "text/plain": [
              "<Figure size 640x480 with 1 Axes>"
            ],
            "image/png": "[encoded data removed]"
          },
          "metadata": {}
        },
        {
          "output_type": "display_data",
          "data": {
            "text/plain": [
              "<Figure size 640x480 with 1 Axes>"
            ],
            "image/png": "[encoded data removed]"
          },
          "metadata": {}
        }
      ],
      "source": [
        "# Proving that hour, months and days of the week are now in cyclical form\n",
        "data.plot.scatter('Hour_sin', 'Hour_cos').set_aspect('equal')\n",
        "data.plot.scatter('Month_sin', 'Month_cos').set_aspect('equal')"
      ]
    },
    {
      "cell_type": "code",
      "execution_count": null,
      "metadata": {
        "colab": {
          "base_uri": "https://localhost:8080/",
          "height": 377
        },
        "id": "cYYTOnG65B77",
        "outputId": "109b968e-37e2-4148-9491-851fd44b0f09"
      },
      "outputs": [
        {
          "output_type": "execute_result",
          "data": {
            "text/plain": [
              "             Formatted Date        Summary Precip Type  Temperature (C)  \\\n",
              "0 2006-03-31 22:00:00+00:00  Partly Cloudy        rain         9.472222   \n",
              "1 2006-03-31 23:00:00+00:00  Partly Cloudy        rain         9.355556   \n",
              "2 2006-04-01 00:00:00+00:00  Mostly Cloudy        rain         9.377778   \n",
              "3 2006-04-01 01:00:00+00:00  Partly Cloudy        rain         8.288889   \n",
              "4 2006-04-01 02:00:00+00:00  Mostly Cloudy        rain         8.755556   \n",
              "\n",
              "   Apparent Temperature (C)  Humidity  Wind Speed (km/h)  \\\n",
              "0                  7.388889      0.89            14.1197   \n",
              "1                  7.227778      0.86            14.2646   \n",
              "2                  9.377778      0.89             3.9284   \n",
              "3                  5.944444      0.83            14.1036   \n",
              "4                  6.977778      0.83            11.0446   \n",
              "\n",
              "   Wind Bearing (degrees)  Visibility (km)  Loud Cover  ...  Day_of_week  \\\n",
              "0                   251.0          15.8263         0.0  ...            4   \n",
              "1                   259.0          15.8263         0.0  ...            4   \n",
              "2                   204.0          14.9569         0.0  ...            5   \n",
              "3                   269.0          15.8263         0.0  ...            5   \n",
              "4                   259.0          15.8263         0.0  ...            5   \n",
              "\n",
              "  Month  Season  Is_weekend  Hour_sin  Hour_cos  Month_sin     Month_cos  \\\n",
              "0     3       2           0 -0.500000  0.866025   1.000000  6.123234e-17   \n",
              "1     3       2           0 -0.258819  0.965926   1.000000  6.123234e-17   \n",
              "2     4       2           1  0.000000  1.000000   0.866025 -5.000000e-01   \n",
              "3     4       2           1  0.258819  0.965926   0.866025 -5.000000e-01   \n",
              "4     4       2           1  0.500000  0.866025   0.866025 -5.000000e-01   \n",
              "\n",
              "   Temp_Humidity  Wind_Pressure  \n",
              "0       8.430278   14333.331061  \n",
              "1       8.045778   14487.555698  \n",
              "2       8.346222    3991.018696  \n",
              "3       6.879778   14335.040076  \n",
              "4       7.267111   11226.946346  \n",
              "\n",
              "[5 rows x 23 columns]"
            ],
            "text/html": [
              "\n",
              "  <div id=\"df-11e8be89-6073-4421-9689-29d58e8896c9\" class=\"colab-df-container\">\n",
              "    <div>\n",
              "<style scoped>\n",
              "    .dataframe tbody tr th:only-of-type {\n",
              "        vertical-align: middle;\n",
              "    }\n",
              "\n",
              "    .dataframe tbody tr th {\n",
              "        vertical-align: top;\n",
              "    }\n",
              "\n",
              "    .dataframe thead th {\n",
              "        text-align: right;\n",
              "    }\n",
              "</style>\n",
              "<table border=\"1\" class=\"dataframe\">\n",
              "  <thead>\n",
              "    <tr style=\"text-align: right;\">\n",
              "      <th></th>\n",
              "      <th>Formatted Date</th>\n",
              "      <th>Summary</th>\n",
              "      <th>Precip Type</th>\n",
              "      <th>Temperature (C)</th>\n",
              "      <th>Apparent Temperature (C)</th>\n",
              "      <th>Humidity</th>\n",
              "      <th>Wind Speed (km/h)</th>\n",
              "      <th>Wind Bearing (degrees)</th>\n",
              "      <th>Visibility (km)</th>\n",
              "      <th>Loud Cover</th>\n",
              "      <th>...</th>\n",
              "      <th>Day_of_week</th>\n",
              "      <th>Month</th>\n",
              "      <th>Season</th>\n",
              "      <th>Is_weekend</th>\n",
              "      <th>Hour_sin</th>\n",
              "      <th>Hour_cos</th>\n",
              "      <th>Month_sin</th>\n",
              "      <th>Month_cos</th>\n",
              "      <th>Temp_Humidity</th>\n",
              "      <th>Wind_Pressure</th>\n",
              "    </tr>\n",
              "  </thead>\n",
              "  <tbody>\n",
              "    <tr>\n",
              "      <th>0</th>\n",
              "      <td>2006-03-31 22:00:00+00:00</td>\n",
              "      <td>Partly Cloudy</td>\n",
              "      <td>rain</td>\n",
              "      <td>9.472222</td>\n",
              "      <td>7.388889</td>\n",
              "      <td>0.89</td>\n",
              "      <td>14.1197</td>\n",
              "      <td>251.0</td>\n",
              "      <td>15.8263</td>\n",
              "      <td>0.0</td>\n",
              "      <td>...</td>\n",
              "      <td>4</td>\n",
              "      <td>3</td>\n",
              "      <td>2</td>\n",
              "      <td>0</td>\n",
              "      <td>-0.500000</td>\n",
              "      <td>0.866025</td>\n",
              "      <td>1.000000</td>\n",
              "      <td>6.123234e-17</td>\n",
              "      <td>8.430278</td>\n",
              "      <td>14333.331061</td>\n",
              "    </tr>\n",
              "    <tr>\n",
              "      <th>1</th>\n",
              "      <td>2006-03-31 23:00:00+00:00</td>\n",
              "      <td>Partly Cloudy</td>\n",
              "      <td>rain</td>\n",
              "      <td>9.355556</td>\n",
              "      <td>7.227778</td>\n",
              "      <td>0.86</td>\n",
              "      <td>14.2646</td>\n",
              "      <td>259.0</td>\n",
              "      <td>15.8263</td>\n",
              "      <td>0.0</td>\n",
              "      <td>...</td>\n",
              "      <td>4</td>\n",
              "      <td>3</td>\n",
              "      <td>2</td>\n",
              "      <td>0</td>\n",
              "      <td>-0.258819</td>\n",
              "      <td>0.965926</td>\n",
              "      <td>1.000000</td>\n",
              "      <td>6.123234e-17</td>\n",
              "      <td>8.045778</td>\n",
              "      <td>14487.555698</td>\n",
              "    </tr>\n",
              "    <tr>\n",
              "      <th>2</th>\n",
              "      <td>2006-04-01 00:00:00+00:00</td>\n",
              "      <td>Mostly Cloudy</td>\n",
              "      <td>rain</td>\n",
              "      <td>9.377778</td>\n",
              "      <td>9.377778</td>\n",
              "      <td>0.89</td>\n",
              "      <td>3.9284</td>\n",
              "      <td>204.0</td>\n",
              "      <td>14.9569</td>\n",
              "      <td>0.0</td>\n",
              "      <td>...</td>\n",
              "      <td>5</td>\n",
              "      <td>4</td>\n",
              "      <td>2</td>\n",
              "      <td>1</td>\n",
              "      <td>0.000000</td>\n",
              "      <td>1.000000</td>\n",
              "      <td>0.866025</td>\n",
              "      <td>-5.000000e-01</td>\n",
              "      <td>8.346222</td>\n",
              "      <td>3991.018696</td>\n",
              "    </tr>\n",
              "    <tr>\n",
              "      <th>3</th>\n",
              "      <td>2006-04-01 01:00:00+00:00</td>\n",
              "      <td>Partly Cloudy</td>\n",
              "      <td>rain</td>\n",
              "      <td>8.288889</td>\n",
              "      <td>5.944444</td>\n",
              "      <td>0.83</td>\n",
              "      <td>14.1036</td>\n",
              "      <td>269.0</td>\n",
              "      <td>15.8263</td>\n",
              "      <td>0.0</td>\n",
              "      <td>...</td>\n",
              "      <td>5</td>\n",
              "      <td>4</td>\n",
              "      <td>2</td>\n",
              "      <td>1</td>\n",
              "      <td>0.258819</td>\n",
              "      <td>0.965926</td>\n",
              "      <td>0.866025</td>\n",
              "      <td>-5.000000e-01</td>\n",
              "      <td>6.879778</td>\n",
              "      <td>14335.040076</td>\n",
              "    </tr>\n",
              "    <tr>\n",
              "      <th>4</th>\n",
              "      <td>2006-04-01 02:00:00+00:00</td>\n",
              "      <td>Mostly Cloudy</td>\n",
              "      <td>rain</td>\n",
              "      <td>8.755556</td>\n",
              "      <td>6.977778</td>\n",
              "      <td>0.83</td>\n",
              "      <td>11.0446</td>\n",
              "      <td>259.0</td>\n",
              "      <td>15.8263</td>\n",
              "      <td>0.0</td>\n",
              "      <td>...</td>\n",
              "      <td>5</td>\n",
              "      <td>4</td>\n",
              "      <td>2</td>\n",
              "      <td>1</td>\n",
              "      <td>0.500000</td>\n",
              "      <td>0.866025</td>\n",
              "      <td>0.866025</td>\n",
              "      <td>-5.000000e-01</td>\n",
              "      <td>7.267111</td>\n",
              "      <td>11226.946346</td>\n",
              "    </tr>\n",
              "  </tbody>\n",
              "</table>\n",
              "<p>5 rows × 23 columns</p>\n",
              "</div>\n",
              "    <div class=\"colab-df-buttons\">\n",
              "\n",
              "  <div class=\"colab-df-container\">\n",
              "    <button class=\"colab-df-convert\" onclick=\"convertToInteractive('df-11e8be89-6073-4421-9689-29d58e8896c9')\"\n",
              "            title=\"Convert this dataframe to an interactive table.\"\n",
              "            style=\"display:none;\">\n",
              "\n",
              "  <svg xmlns=\"http://www.w3.org/2000/svg\" height=\"24px\" viewBox=\"0 -960 960 960\">\n",
              "    <path d=\"M120-120v-720h720v720H120Zm60-500h600v-160H180v160Zm220 220h160v-160H400v160Zm0 220h160v-160H400v160ZM180-400h160v-160H180v160Zm440 0h160v-160H620v160ZM180-180h160v-160H180v160Zm440 0h160v-160H620v160Z\"/>\n",
              "  </svg>\n",
              "    </button>\n",
              "\n",
              "  <style>\n",
              "    .colab-df-container {\n",
              "      display:flex;\n",
              "      gap: 12px;\n",
              "    }\n",
              "\n",
              "    .colab-df-convert {\n",
              "      background-color: #E8F0FE;\n",
              "      border: none;\n",
              "      border-radius: 50%;\n",
              "      cursor: pointer;\n",
              "      display: none;\n",
              "      fill: #1967D2;\n",
              "      height: 32px;\n",
              "      padding: 0 0 0 0;\n",
              "      width: 32px;\n",
              "    }\n",
              "\n",
              "    .colab-df-convert:hover {\n",
              "      background-color: #E2EBFA;\n",
              "      box-shadow: 0px 1px 2px rgba(60, 64, 67, 0.3), 0px 1px 3px 1px rgba(60, 64, 67, 0.15);\n",
              "      fill: #174EA6;\n",
              "    }\n",
              "\n",
              "    .colab-df-buttons div {\n",
              "      margin-bottom: 4px;\n",
              "    }\n",
              "\n",
              "    [theme=dark] .colab-df-convert {\n",
              "      background-color: #3B4455;\n",
              "      fill: #D2E3FC;\n",
              "    }\n",
              "\n",
              "    [theme=dark] .colab-df-convert:hover {\n",
              "      background-color: #434B5C;\n",
              "      box-shadow: 0px 1px 3px 1px rgba(0, 0, 0, 0.15);\n",
              "      filter: drop-shadow(0px 1px 2px rgba(0, 0, 0, 0.3));\n",
              "      fill: #FFFFFF;\n",
              "    }\n",
              "  </style>\n",
              "\n",
              "    <script>\n",
              "      const buttonEl =\n",
              "        document.querySelector('#df-11e8be89-6073-4421-9689-29d58e8896c9 button.colab-df-convert');\n",
              "      buttonEl.style.display =\n",
              "        google.colab.kernel.accessAllowed ? 'block' : 'none';\n",
              "\n",
              "      async function convertToInteractive(key) {\n",
              "        const element = document.querySelector('#df-11e8be89-6073-4421-9689-29d58e8896c9');\n",
              "        const dataTable =\n",
              "          await google.colab.kernel.invokeFunction('convertToInteractive',\n",
              "                                                    [key], {});\n",
              "        if (!dataTable) return;\n",
              "\n",
              "        const docLinkHtml = 'Like what you see? Visit the ' +\n",
              "          '<a target=\"_blank\" href=https://colab.research.google.com/notebooks/data_table.ipynb>data table notebook</a>'\n",
              "          + ' to learn more about interactive tables.';\n",
              "        element.innerHTML = '';\n",
              "        dataTable['output_type'] = 'display_data';\n",
              "        await google.colab.output.renderOutput(dataTable, element);\n",
              "        const docLink = document.createElement('div');\n",
              "        docLink.innerHTML = docLinkHtml;\n",
              "        element.appendChild(docLink);\n",
              "      }\n",
              "    </script>\n",
              "  </div>\n",
              "\n",
              "\n",
              "    <div id=\"df-6bc9dbad-4277-4f61-ace1-8b2d1b98fce1\">\n",
              "      <button class=\"colab-df-quickchart\" onclick=\"quickchart('df-6bc9dbad-4277-4f61-ace1-8b2d1b98fce1')\"\n",
              "                title=\"Suggest charts\"\n",
              "                style=\"display:none;\">\n",
              "\n",
              "<svg xmlns=\"http://www.w3.org/2000/svg\" height=\"24px\"viewBox=\"0 0 24 24\"\n",
              "     width=\"24px\">\n",
              "    <g>\n",
              "        <path d=\"M19 3H5c-1.1 0-2 .9-2 2v14c0 1.1.9 2 2 2h14c1.1 0 2-.9 2-2V5c0-1.1-.9-2-2-2zM9 17H7v-7h2v7zm4 0h-2V7h2v10zm4 0h-2v-4h2v4z\"/>\n",
              "    </g>\n",
              "</svg>\n",
              "      </button>\n",
              "\n",
              "<style>\n",
              "  .colab-df-quickchart {\n",
              "      --bg-color: #E8F0FE;\n",
              "      --fill-color: #1967D2;\n",
              "      --hover-bg-color: #E2EBFA;\n",
              "      --hover-fill-color: #174EA6;\n",
              "      --disabled-fill-color: #AAA;\n",
              "      --disabled-bg-color: #DDD;\n",
              "  }\n",
              "\n",
              "  [theme=dark] .colab-df-quickchart {\n",
              "      --bg-color: #3B4455;\n",
              "      --fill-color: #D2E3FC;\n",
              "      --hover-bg-color: #434B5C;\n",
              "      --hover-fill-color: #FFFFFF;\n",
              "      --disabled-bg-color: #3B4455;\n",
              "      --disabled-fill-color: #666;\n",
              "  }\n",
              "\n",
              "  .colab-df-quickchart {\n",
              "    background-color: var(--bg-color);\n",
              "    border: none;\n",
              "    border-radius: 50%;\n",
              "    cursor: pointer;\n",
              "    display: none;\n",
              "    fill: var(--fill-color);\n",
              "    height: 32px;\n",
              "    padding: 0;\n",
              "    width: 32px;\n",
              "  }\n",
              "\n",
              "  .colab-df-quickchart:hover {\n",
              "    background-color: var(--hover-bg-color);\n",
              "    box-shadow: 0 1px 2px rgba(60, 64, 67, 0.3), 0 1px 3px 1px rgba(60, 64, 67, 0.15);\n",
              "    fill: var(--button-hover-fill-color);\n",
              "  }\n",
              "\n",
              "  .colab-df-quickchart-complete:disabled,\n",
              "  .colab-df-quickchart-complete:disabled:hover {\n",
              "    background-color: var(--disabled-bg-color);\n",
              "    fill: var(--disabled-fill-color);\n",
              "    box-shadow: none;\n",
              "  }\n",
              "\n",
              "  .colab-df-spinner {\n",
              "    border: 2px solid var(--fill-color);\n",
              "    border-color: transparent;\n",
              "    border-bottom-color: var(--fill-color);\n",
              "    animation:\n",
              "      spin 1s steps(1) infinite;\n",
              "  }\n",
              "\n",
              "  @keyframes spin {\n",
              "    0% {\n",
              "      border-color: transparent;\n",
              "      border-bottom-color: var(--fill-color);\n",
              "      border-left-color: var(--fill-color);\n",
              "    }\n",
              "    20% {\n",
              "      border-color: transparent;\n",
              "      border-left-color: var(--fill-color);\n",
              "      border-top-color: var(--fill-color);\n",
              "    }\n",
              "    30% {\n",
              "      border-color: transparent;\n",
              "      border-left-color: var(--fill-color);\n",
              "      border-top-color: var(--fill-color);\n",
              "      border-right-color: var(--fill-color);\n",
              "    }\n",
              "    40% {\n",
              "      border-color: transparent;\n",
              "      border-right-color: var(--fill-color);\n",
              "      border-top-color: var(--fill-color);\n",
              "    }\n",
              "    60% {\n",
              "      border-color: transparent;\n",
              "      border-right-color: var(--fill-color);\n",
              "    }\n",
              "    80% {\n",
              "      border-color: transparent;\n",
              "      border-right-color: var(--fill-color);\n",
              "      border-bottom-color: var(--fill-color);\n",
              "    }\n",
              "    90% {\n",
              "      border-color: transparent;\n",
              "      border-bottom-color: var(--fill-color);\n",
              "    }\n",
              "  }\n",
              "</style>\n",
              "\n",
              "      <script>\n",
              "        async function quickchart(key) {\n",
              "          const quickchartButtonEl =\n",
              "            document.querySelector('#' + key + ' button');\n",
              "          quickchartButtonEl.disabled = true;  // To prevent multiple clicks.\n",
              "          quickchartButtonEl.classList.add('colab-df-spinner');\n",
              "          try {\n",
              "            const charts = await google.colab.kernel.invokeFunction(\n",
              "                'suggestCharts', [key], {});\n",
              "          } catch (error) {\n",
              "            console.error('Error during call to suggestCharts:', error);\n",
              "          }\n",
              "          quickchartButtonEl.classList.remove('colab-df-spinner');\n",
              "          quickchartButtonEl.classList.add('colab-df-quickchart-complete');\n",
              "        }\n",
              "        (() => {\n",
              "          let quickchartButtonEl =\n",
              "            document.querySelector('#df-6bc9dbad-4277-4f61-ace1-8b2d1b98fce1 button');\n",
              "          quickchartButtonEl.style.display =\n",
              "            google.colab.kernel.accessAllowed ? 'block' : 'none';\n",
              "        })();\n",
              "      </script>\n",
              "    </div>\n",
              "\n",
              "    </div>\n",
              "  </div>\n"
            ],
            "application/vnd.google.colaboratory.intrinsic+json": {
              "type": "dataframe",
              "variable_name": "data"
            }
          },
          "metadata": {},
          "execution_count": 13
        }
      ],
      "source": [
        "data.head()"
      ]
    },
    {
      "cell_type": "code",
      "execution_count": null,
      "metadata": {
        "colab": {
          "base_uri": "https://localhost:8080/"
        },
        "id": "00uSCSLg5Ejt",
        "outputId": "39514546-c48a-4144-bd00-786c6aac019f"
      },
      "outputs": [
        {
          "output_type": "stream",
          "name": "stdout",
          "text": [
            "<class 'pandas.core.frame.DataFrame'>\n",
            "RangeIndex: 96453 entries, 0 to 96452\n",
            "Data columns (total 23 columns):\n",
            " #   Column                    Non-Null Count  Dtype              \n",
            "---  ------                    --------------  -----              \n",
            " 0   Formatted Date            96453 non-null  datetime64[ns, UTC]\n",
            " 1   Summary                   96453 non-null  object             \n",
            " 2   Precip Type               96453 non-null  object             \n",
            " 3   Temperature (C)           96453 non-null  float64            \n",
            " 4   Apparent Temperature (C)  96453 non-null  float64            \n",
            " 5   Humidity                  96453 non-null  float64            \n",
            " 6   Wind Speed (km/h)         96453 non-null  float64            \n",
            " 7   Wind Bearing (degrees)    96453 non-null  float64            \n",
            " 8   Visibility (km)           96453 non-null  float64            \n",
            " 9   Loud Cover                96453 non-null  float64            \n",
            " 10  Pressure (millibars)      96453 non-null  float64            \n",
            " 11  Daily Summary             96453 non-null  object             \n",
            " 12  Hour                      96453 non-null  int32              \n",
            " 13  Day_of_week               96453 non-null  int32              \n",
            " 14  Month                     96453 non-null  int32              \n",
            " 15  Season                    96453 non-null  int32              \n",
            " 16  Is_weekend                96453 non-null  int64              \n",
            " 17  Hour_sin                  96453 non-null  float64            \n",
            " 18  Hour_cos                  96453 non-null  float64            \n",
            " 19  Month_sin                 96453 non-null  float64            \n",
            " 20  Month_cos                 96453 non-null  float64            \n",
            " 21  Temp_Humidity             96453 non-null  float64            \n",
            " 22  Wind_Pressure             96453 non-null  float64            \n",
            "dtypes: datetime64[ns, UTC](1), float64(14), int32(4), int64(1), object(3)\n",
            "memory usage: 15.5+ MB\n"
          ]
        }
      ],
      "source": [
        "data.info()"
      ]
    },
    {
      "cell_type": "markdown",
      "metadata": {
        "id": "X237XFD_eQCf"
      },
      "source": [
        "**The Daily Summary column in the dataset contains verbose textual descriptions of weather conditions. To make these summaries more consistent and model-friendly, we define a function to categorize them into simplified weather types.**"
      ]
    },
    {
      "cell_type": "code",
      "execution_count": null,
      "metadata": {
        "id": "RbzUCxqHrzsl"
      },
      "outputs": [],
      "source": [
        "def simplify_daily_summary(text):\n",
        "    if 'cloudy' in text.lower():\n",
        "        return 'Cloudy'\n",
        "    elif 'breezy' in text.lower() or 'windy' in text.lower():\n",
        "        return 'Windy'\n",
        "    elif 'rain' in text.lower() or 'drizzle' in text.lower():\n",
        "        return 'Rainy'\n",
        "    elif 'clear' in text.lower() or 'dry' in text.lower():\n",
        "        return 'Clear/Dry'\n",
        "    else:\n",
        "        return 'Other'\n",
        "\n",
        "data['Daily Summary'] = data['Daily Summary'].apply(simplify_daily_summary)"
      ]
    },
    {
      "cell_type": "markdown",
      "metadata": {
        "id": "_Tmh_snGe0vn"
      },
      "source": [
        "**Drop these columns [''Formatted Date', 'Loud Cover', 'Apparent Temperature (C)']**"
      ]
    },
    {
      "cell_type": "code",
      "execution_count": null,
      "metadata": {
        "id": "pdhaqp0Kr0G2"
      },
      "outputs": [],
      "source": [
        "data = data.drop([\n",
        "    'Formatted Date', 'Loud Cover',\n",
        "    'Apparent Temperature (C)'\n",
        "], axis=1)"
      ]
    },
    {
      "cell_type": "code",
      "execution_count": null,
      "metadata": {
        "colab": {
          "base_uri": "https://localhost:8080/"
        },
        "id": "c8rFR0npspJF",
        "outputId": "71fd87a6-1feb-48de-bade-2a70fc954237"
      },
      "outputs": [
        {
          "output_type": "stream",
          "name": "stdout",
          "text": [
            "<class 'pandas.core.frame.DataFrame'>\n",
            "RangeIndex: 96453 entries, 0 to 96452\n",
            "Data columns (total 20 columns):\n",
            " #   Column                  Non-Null Count  Dtype  \n",
            "---  ------                  --------------  -----  \n",
            " 0   Summary                 96453 non-null  object \n",
            " 1   Precip Type             96453 non-null  object \n",
            " 2   Temperature (C)         96453 non-null  float64\n",
            " 3   Humidity                96453 non-null  float64\n",
            " 4   Wind Speed (km/h)       96453 non-null  float64\n",
            " 5   Wind Bearing (degrees)  96453 non-null  float64\n",
            " 6   Visibility (km)         96453 non-null  float64\n",
            " 7   Pressure (millibars)    96453 non-null  float64\n",
            " 8   Daily Summary           96453 non-null  object \n",
            " 9   Hour                    96453 non-null  int32  \n",
            " 10  Day_of_week             96453 non-null  int32  \n",
            " 11  Month                   96453 non-null  int32  \n",
            " 12  Season                  96453 non-null  int32  \n",
            " 13  Is_weekend              96453 non-null  int64  \n",
            " 14  Hour_sin                96453 non-null  float64\n",
            " 15  Hour_cos                96453 non-null  float64\n",
            " 16  Month_sin               96453 non-null  float64\n",
            " 17  Month_cos               96453 non-null  float64\n",
            " 18  Temp_Humidity           96453 non-null  float64\n",
            " 19  Wind_Pressure           96453 non-null  float64\n",
            "dtypes: float64(12), int32(4), int64(1), object(3)\n",
            "memory usage: 13.2+ MB\n"
          ]
        }
      ],
      "source": [
        "data.info()"
      ]
    },
    {
      "cell_type": "code",
      "execution_count": null,
      "metadata": {
        "colab": {
          "base_uri": "https://localhost:8080/"
        },
        "id": "AyFNr95hsquz",
        "outputId": "2c425937-15cb-4fdd-a393-9d2e30a2ae1e"
      },
      "outputs": [
        {
          "output_type": "execute_result",
          "data": {
            "text/plain": [
              "array(['Cloudy', 'Other', 'Windy', 'Clear/Dry', 'Rainy'], dtype=object)"
            ]
          },
          "metadata": {},
          "execution_count": 18
        }
      ],
      "source": [
        "data[\"Daily Summary\"].unique()"
      ]
    },
    {
      "cell_type": "markdown",
      "metadata": {
        "id": "v9InJw5avxfE"
      },
      "source": [
        "**Performing label encoding on categorical values**"
      ]
    },
    {
      "cell_type": "code",
      "execution_count": null,
      "metadata": {
        "id": "OHdZNhdds5Jy"
      },
      "outputs": [],
      "source": [
        "data[\"Precip Type\"] = data[\"Precip Type\"].replace([\"snow\",\"rain\"],[0,1])"
      ]
    },
    {
      "cell_type": "code",
      "execution_count": null,
      "metadata": {
        "colab": {
          "base_uri": "https://localhost:8080/"
        },
        "id": "N4QFe_1_tUzu",
        "outputId": "2ead1e51-4c13-4f11-b017-4b30695b98de"
      },
      "outputs": [
        {
          "output_type": "stream",
          "name": "stdout",
          "text": [
            "<class 'pandas.core.frame.DataFrame'>\n",
            "RangeIndex: 96453 entries, 0 to 96452\n",
            "Data columns (total 20 columns):\n",
            " #   Column                  Non-Null Count  Dtype  \n",
            "---  ------                  --------------  -----  \n",
            " 0   Summary                 96453 non-null  object \n",
            " 1   Precip Type             96453 non-null  int64  \n",
            " 2   Temperature (C)         96453 non-null  float64\n",
            " 3   Humidity                96453 non-null  float64\n",
            " 4   Wind Speed (km/h)       96453 non-null  float64\n",
            " 5   Wind Bearing (degrees)  96453 non-null  float64\n",
            " 6   Visibility (km)         96453 non-null  float64\n",
            " 7   Pressure (millibars)    96453 non-null  float64\n",
            " 8   Daily Summary           96453 non-null  object \n",
            " 9   Hour                    96453 non-null  int32  \n",
            " 10  Day_of_week             96453 non-null  int32  \n",
            " 11  Month                   96453 non-null  int32  \n",
            " 12  Season                  96453 non-null  int32  \n",
            " 13  Is_weekend              96453 non-null  int64  \n",
            " 14  Hour_sin                96453 non-null  float64\n",
            " 15  Hour_cos                96453 non-null  float64\n",
            " 16  Month_sin               96453 non-null  float64\n",
            " 17  Month_cos               96453 non-null  float64\n",
            " 18  Temp_Humidity           96453 non-null  float64\n",
            " 19  Wind_Pressure           96453 non-null  float64\n",
            "dtypes: float64(12), int32(4), int64(2), object(2)\n",
            "memory usage: 13.2+ MB\n"
          ]
        }
      ],
      "source": [
        "data.info()"
      ]
    },
    {
      "cell_type": "markdown",
      "metadata": {
        "id": "Uo8c1kxdf-e4"
      },
      "source": [
        "**Performing One-Hot Encoding on Daily Summary Column**"
      ]
    },
    {
      "cell_type": "code",
      "execution_count": null,
      "metadata": {
        "id": "UDzYDq2RtZ_6"
      },
      "outputs": [],
      "source": [
        "from sklearn.preprocessing import OneHotEncoder\n",
        "\n",
        "cat_features = ['Daily Summary']\n",
        "encoder = OneHotEncoder(sparse_output=False, handle_unknown='ignore')\n",
        "encodedFeatures = encoder.fit_transform(data[cat_features])\n",
        "encodedDf = pd.DataFrame(encodedFeatures, columns=encoder.get_feature_names_out(cat_features))\n",
        "data = pd.concat([data, encodedDf], axis=1).drop(cat_features, axis=1)"
      ]
    },
    {
      "cell_type": "code",
      "execution_count": null,
      "metadata": {
        "colab": {
          "base_uri": "https://localhost:8080/"
        },
        "id": "fiwvtnTit2ht",
        "outputId": "4fc18353-85de-4773-ce36-b13bf0ab0f16"
      },
      "outputs": [
        {
          "output_type": "stream",
          "name": "stdout",
          "text": [
            "<class 'pandas.core.frame.DataFrame'>\n",
            "RangeIndex: 96453 entries, 0 to 96452\n",
            "Data columns (total 24 columns):\n",
            " #   Column                   Non-Null Count  Dtype  \n",
            "---  ------                   --------------  -----  \n",
            " 0   Summary                  96453 non-null  object \n",
            " 1   Precip Type              96453 non-null  int64  \n",
            " 2   Temperature (C)          96453 non-null  float64\n",
            " 3   Humidity                 96453 non-null  float64\n",
            " 4   Wind Speed (km/h)        96453 non-null  float64\n",
            " 5   Wind Bearing (degrees)   96453 non-null  float64\n",
            " 6   Visibility (km)          96453 non-null  float64\n",
            " 7   Pressure (millibars)     96453 non-null  float64\n",
            " 8   Hour                     96453 non-null  int32  \n",
            " 9   Day_of_week              96453 non-null  int32  \n",
            " 10  Month                    96453 non-null  int32  \n",
            " 11  Season                   96453 non-null  int32  \n",
            " 12  Is_weekend               96453 non-null  int64  \n",
            " 13  Hour_sin                 96453 non-null  float64\n",
            " 14  Hour_cos                 96453 non-null  float64\n",
            " 15  Month_sin                96453 non-null  float64\n",
            " 16  Month_cos                96453 non-null  float64\n",
            " 17  Temp_Humidity            96453 non-null  float64\n",
            " 18  Wind_Pressure            96453 non-null  float64\n",
            " 19  Daily Summary_Clear/Dry  96453 non-null  float64\n",
            " 20  Daily Summary_Cloudy     96453 non-null  float64\n",
            " 21  Daily Summary_Other      96453 non-null  float64\n",
            " 22  Daily Summary_Rainy      96453 non-null  float64\n",
            " 23  Daily Summary_Windy      96453 non-null  float64\n",
            "dtypes: float64(17), int32(4), int64(2), object(1)\n",
            "memory usage: 16.2+ MB\n"
          ]
        }
      ],
      "source": [
        "data.info()"
      ]
    },
    {
      "cell_type": "markdown",
      "metadata": {
        "id": "Yuuz0_sLhNDW"
      },
      "source": [
        "## **Modifying Target Feature**"
      ]
    },
    {
      "cell_type": "code",
      "execution_count": null,
      "metadata": {
        "colab": {
          "base_uri": "https://localhost:8080/"
        },
        "id": "3ByqrGQet977",
        "outputId": "a1cfed85-f3e5-40fe-87e5-412d773733bb"
      },
      "outputs": [
        {
          "output_type": "execute_result",
          "data": {
            "text/plain": [
              "array(['Partly Cloudy', 'Mostly Cloudy', 'Overcast', 'Foggy',\n",
              "       'Breezy and Mostly Cloudy', 'Clear', 'Breezy and Partly Cloudy',\n",
              "       'Breezy and Overcast', 'Humid and Mostly Cloudy',\n",
              "       'Humid and Partly Cloudy', 'Windy and Foggy', 'Windy and Overcast',\n",
              "       'Breezy and Foggy', 'Windy and Partly Cloudy', 'Breezy',\n",
              "       'Dry and Partly Cloudy', 'Windy and Mostly Cloudy',\n",
              "       'Dangerously Windy and Partly Cloudy', 'Dry', 'Windy',\n",
              "       'Humid and Overcast', 'Light Rain', 'Drizzle', 'Windy and Dry',\n",
              "       'Dry and Mostly Cloudy', 'Breezy and Dry', 'Rain'], dtype=object)"
            ]
          },
          "metadata": {},
          "execution_count": 23
        }
      ],
      "source": [
        "data[\"Summary\"].unique()"
      ]
    },
    {
      "cell_type": "markdown",
      "metadata": {
        "id": "htUnoN7xwHLw"
      },
      "source": [
        "**It is observed that there are 27 classes present in the dataset. But for better performance we reduce the number of classes upto 4.**\n",
        "\n",
        "1. Cloudy\n",
        "2. Windy\n",
        "3. Clear/Dry\n",
        "4. Rainy\n",
        "\n",
        "**Simplifying the summary column by giving same labels to same meaning values.**"
      ]
    },
    {
      "cell_type": "code",
      "execution_count": null,
      "metadata": {
        "id": "uEISAHpduMYm"
      },
      "outputs": [],
      "source": [
        "labels = {\n",
        "    'Partly Cloudy': 'Cloudy',\n",
        "    'Mostly Cloudy': 'Cloudy',\n",
        "    'Overcast': 'Cloudy',\n",
        "    'Foggy': 'Cloudy',\n",
        "    'Breezy and Mostly Cloudy': 'Windy',\n",
        "    'Clear': 'Clear/Dry',\n",
        "    'Breezy and Partly Cloudy': 'Windy',\n",
        "    'Breezy and Overcast': 'Windy',\n",
        "    'Humid and Mostly Cloudy': 'Clear/Dry',\n",
        "    'Humid and Partly Cloudy': 'Clear/Dry',\n",
        "    'Windy and Foggy': 'Windy',\n",
        "    'Windy and Overcast': 'Windy',\n",
        "    'Breezy and Foggy': 'Windy',\n",
        "    'Windy and Partly Cloudy': 'Windy',\n",
        "    'Breezy': 'Windy',\n",
        "    'Dry and Partly Cloudy': 'Clear/Dry',\n",
        "    'Windy and Mostly Cloudy': 'Windy',\n",
        "    'Dangerously Windy and Partly Cloudy': 'Windy',\n",
        "    'Dry': 'Clear/Dry',\n",
        "    'Windy': 'Windy',\n",
        "    'Humid and Overcast': 'Clear/Dry',\n",
        "    'Light Rain': 'Rainy',\n",
        "    'Drizzle': 'Rainy',\n",
        "    'Windy and Dry': 'Windy',\n",
        "    'Dry and Mostly Cloudy': 'Clear/Dry',\n",
        "    'Breezy and Dry': 'Windy',\n",
        "    'Rain': 'Rainy'\n",
        "}"
      ]
    },
    {
      "cell_type": "code",
      "execution_count": null,
      "metadata": {
        "id": "ce32DhvxubGY"
      },
      "outputs": [],
      "source": [
        "data['Summary'] = data['Summary'].map(labels)"
      ]
    },
    {
      "cell_type": "code",
      "execution_count": null,
      "metadata": {
        "colab": {
          "base_uri": "https://localhost:8080/"
        },
        "id": "o2gHW2Mjud2Z",
        "outputId": "71b6150f-8d6a-4a38-8209-83c082228d6e"
      },
      "outputs": [
        {
          "output_type": "execute_result",
          "data": {
            "text/plain": [
              "array(['Cloudy', 'Windy', 'Clear/Dry', 'Rainy'], dtype=object)"
            ]
          },
          "metadata": {},
          "execution_count": 26
        }
      ],
      "source": [
        "data['Summary'].unique()"
      ]
    },
    {
      "cell_type": "markdown",
      "metadata": {
        "id": "rxwcjQAqwcdI"
      },
      "source": [
        "## **Handling Data Imbalance**"
      ]
    },
    {
      "cell_type": "code",
      "execution_count": null,
      "metadata": {
        "colab": {
          "base_uri": "https://localhost:8080/",
          "height": 241
        },
        "id": "vQq1vMK5Cjy9",
        "outputId": "e8b9d767-cf71-46ed-f66e-f2855b9507b0"
      },
      "outputs": [
        {
          "output_type": "execute_result",
          "data": {
            "text/plain": [
              "Summary\n",
              "Cloudy       83572\n",
              "Clear/Dry    11088\n",
              "Windy         1681\n",
              "Rainy          112\n",
              "Name: count, dtype: int64"
            ],
            "text/html": [
              "<div>\n",
              "<style scoped>\n",
              "    .dataframe tbody tr th:only-of-type {\n",
              "        vertical-align: middle;\n",
              "    }\n",
              "\n",
              "    .dataframe tbody tr th {\n",
              "        vertical-align: top;\n",
              "    }\n",
              "\n",
              "    .dataframe thead th {\n",
              "        text-align: right;\n",
              "    }\n",
              "</style>\n",
              "<table border=\"1\" class=\"dataframe\">\n",
              "  <thead>\n",
              "    <tr style=\"text-align: right;\">\n",
              "      <th></th>\n",
              "      <th>count</th>\n",
              "    </tr>\n",
              "    <tr>\n",
              "      <th>Summary</th>\n",
              "      <th></th>\n",
              "    </tr>\n",
              "  </thead>\n",
              "  <tbody>\n",
              "    <tr>\n",
              "      <th>Cloudy</th>\n",
              "      <td>83572</td>\n",
              "    </tr>\n",
              "    <tr>\n",
              "      <th>Clear/Dry</th>\n",
              "      <td>11088</td>\n",
              "    </tr>\n",
              "    <tr>\n",
              "      <th>Windy</th>\n",
              "      <td>1681</td>\n",
              "    </tr>\n",
              "    <tr>\n",
              "      <th>Rainy</th>\n",
              "      <td>112</td>\n",
              "    </tr>\n",
              "  </tbody>\n",
              "</table>\n",
              "</div><br><label><b>dtype:</b> int64</label>"
            ]
          },
          "metadata": {},
          "execution_count": 27
        }
      ],
      "source": [
        "\"\"\"As you can see data is Imbalanced and baised so we need to handle this we\n",
        "adjust some synthetic samples to minority class like SMOTE\"\"\"\n",
        "data['Summary'].value_counts()"
      ]
    },
    {
      "cell_type": "code",
      "execution_count": null,
      "metadata": {
        "colab": {
          "base_uri": "https://localhost:8080/",
          "height": 472
        },
        "id": "pw_uwtwXpQFq",
        "outputId": "e0e5865d-22b5-44bc-9f21-8f12fe7da841"
      },
      "outputs": [
        {
          "output_type": "display_data",
          "data": {
            "text/plain": [
              "<Figure size 640x480 with 1 Axes>"
            ],
            "image/png": "[encoded data removed]"
          },
          "metadata": {}
        }
      ],
      "source": [
        "count_class = data['Summary'].value_counts() # Count the occurrences of each class\n",
        "plt.bar(count_class.index, count_class.values)\n",
        "plt.xlabel('Classes')\n",
        "plt.ylabel('Count')\n",
        "plt.title('Class Distribution')\n",
        "plt.xticks(count_class.index, ['Cloudy', 'Clear/Dry', 'Windy', 'Rainy'])\n",
        "plt.show()"
      ]
    },
    {
      "cell_type": "markdown",
      "metadata": {
        "id": "Fk1Kc4vBwjU1"
      },
      "source": [
        "**Label encoding on Summary column**"
      ]
    },
    {
      "cell_type": "code",
      "execution_count": null,
      "metadata": {
        "id": "nRRJFXFrusp8"
      },
      "outputs": [],
      "source": [
        "\"\"\"Now lets do Integer encoding for target variable lessgoo\"\"\"\n",
        "data['Summary'] = data['Summary'].replace(['Cloudy', 'Windy', 'Clear/Dry', 'Rainy'],[0,1,2,3])"
      ]
    },
    {
      "cell_type": "code",
      "execution_count": null,
      "metadata": {
        "colab": {
          "base_uri": "https://localhost:8080/"
        },
        "id": "hAyEFOkBvBBF",
        "outputId": "d3530458-053a-4c7c-cdd6-e94b3112a88d"
      },
      "outputs": [
        {
          "output_type": "stream",
          "name": "stdout",
          "text": [
            "<class 'pandas.core.frame.DataFrame'>\n",
            "RangeIndex: 96453 entries, 0 to 96452\n",
            "Data columns (total 24 columns):\n",
            " #   Column                   Non-Null Count  Dtype  \n",
            "---  ------                   --------------  -----  \n",
            " 0   Summary                  96453 non-null  int64  \n",
            " 1   Precip Type              96453 non-null  int64  \n",
            " 2   Temperature (C)          96453 non-null  float64\n",
            " 3   Humidity                 96453 non-null  float64\n",
            " 4   Wind Speed (km/h)        96453 non-null  float64\n",
            " 5   Wind Bearing (degrees)   96453 non-null  float64\n",
            " 6   Visibility (km)          96453 non-null  float64\n",
            " 7   Pressure (millibars)     96453 non-null  float64\n",
            " 8   Hour                     96453 non-null  int32  \n",
            " 9   Day_of_week              96453 non-null  int32  \n",
            " 10  Month                    96453 non-null  int32  \n",
            " 11  Season                   96453 non-null  int32  \n",
            " 12  Is_weekend               96453 non-null  int64  \n",
            " 13  Hour_sin                 96453 non-null  float64\n",
            " 14  Hour_cos                 96453 non-null  float64\n",
            " 15  Month_sin                96453 non-null  float64\n",
            " 16  Month_cos                96453 non-null  float64\n",
            " 17  Temp_Humidity            96453 non-null  float64\n",
            " 18  Wind_Pressure            96453 non-null  float64\n",
            " 19  Daily Summary_Clear/Dry  96453 non-null  float64\n",
            " 20  Daily Summary_Cloudy     96453 non-null  float64\n",
            " 21  Daily Summary_Other      96453 non-null  float64\n",
            " 22  Daily Summary_Rainy      96453 non-null  float64\n",
            " 23  Daily Summary_Windy      96453 non-null  float64\n",
            "dtypes: float64(17), int32(4), int64(3)\n",
            "memory usage: 16.2 MB\n"
          ]
        }
      ],
      "source": [
        "data.info()"
      ]
    },
    {
      "cell_type": "markdown",
      "metadata": {
        "id": "5qzhEW_PiAB6"
      },
      "source": [
        "### **Performing Oversampling**"
      ]
    },
    {
      "cell_type": "code",
      "execution_count": null,
      "metadata": {
        "id": "EWucpi1tvCnX"
      },
      "outputs": [],
      "source": [
        "X = data.drop('Summary', axis=1)\n",
        "y = data['Summary']"
      ]
    },
    {
      "cell_type": "code",
      "execution_count": null,
      "metadata": {
        "id": "snDPVrEmDzO_"
      },
      "outputs": [],
      "source": [
        "smote = SMOTE(random_state=42,k_neighbors=9)"
      ]
    },
    {
      "cell_type": "code",
      "execution_count": null,
      "metadata": {
        "id": "rygQ4qZ4EKg4"
      },
      "outputs": [],
      "source": [
        "X_resampled, y_resampled = smote.fit_resample(X, y)"
      ]
    },
    {
      "cell_type": "code",
      "execution_count": null,
      "metadata": {
        "colab": {
          "base_uri": "https://localhost:8080/",
          "height": 241
        },
        "id": "fGzN8ZtqEPMl",
        "outputId": "9ca8d27c-e415-42c1-8a08-1c1be882630c"
      },
      "outputs": [
        {
          "output_type": "execute_result",
          "data": {
            "text/plain": [
              "Summary\n",
              "0    83572\n",
              "1    83572\n",
              "2    83572\n",
              "3    83572\n",
              "Name: count, dtype: int64"
            ],
            "text/html": [
              "<div>\n",
              "<style scoped>\n",
              "    .dataframe tbody tr th:only-of-type {\n",
              "        vertical-align: middle;\n",
              "    }\n",
              "\n",
              "    .dataframe tbody tr th {\n",
              "        vertical-align: top;\n",
              "    }\n",
              "\n",
              "    .dataframe thead th {\n",
              "        text-align: right;\n",
              "    }\n",
              "</style>\n",
              "<table border=\"1\" class=\"dataframe\">\n",
              "  <thead>\n",
              "    <tr style=\"text-align: right;\">\n",
              "      <th></th>\n",
              "      <th>count</th>\n",
              "    </tr>\n",
              "    <tr>\n",
              "      <th>Summary</th>\n",
              "      <th></th>\n",
              "    </tr>\n",
              "  </thead>\n",
              "  <tbody>\n",
              "    <tr>\n",
              "      <th>0</th>\n",
              "      <td>83572</td>\n",
              "    </tr>\n",
              "    <tr>\n",
              "      <th>1</th>\n",
              "      <td>83572</td>\n",
              "    </tr>\n",
              "    <tr>\n",
              "      <th>2</th>\n",
              "      <td>83572</td>\n",
              "    </tr>\n",
              "    <tr>\n",
              "      <th>3</th>\n",
              "      <td>83572</td>\n",
              "    </tr>\n",
              "  </tbody>\n",
              "</table>\n",
              "</div><br><label><b>dtype:</b> int64</label>"
            ]
          },
          "metadata": {},
          "execution_count": 34
        }
      ],
      "source": [
        "\"\"\"Now all classes samples are equal in frequency\"\"\"\n",
        "y_resampled.value_counts()"
      ]
    },
    {
      "cell_type": "code",
      "execution_count": null,
      "metadata": {
        "colab": {
          "base_uri": "https://localhost:8080/",
          "height": 472
        },
        "id": "kfnxVluFqs-A",
        "outputId": "715cd5a8-04ce-4304-f92b-ba60da24de39"
      },
      "outputs": [
        {
          "output_type": "display_data",
          "data": {
            "text/plain": [
              "<Figure size 640x480 with 1 Axes>"
            ],
            "image/png": "[encoded data removed]"
          },
          "metadata": {}
        }
      ],
      "source": [
        "count_class = y_resampled.value_counts() # Count the occurrences of each class\n",
        "plt.bar(count_class.index, count_class.values)\n",
        "plt.xlabel('Classes')\n",
        "plt.ylabel('Count')\n",
        "plt.title('Class Distribution')\n",
        "plt.xticks(count_class.index, ['Cloudy', 'Clear/Dry', 'Windy', 'Rainy'])\n",
        "plt.show()"
      ]
    },
    {
      "cell_type": "markdown",
      "metadata": {
        "id": "V84iiDfmw0oH"
      },
      "source": [
        "## **Data Normalization**\n",
        "**Scaling the data to bring values on similar scale.**"
      ]
    },
    {
      "cell_type": "code",
      "execution_count": null,
      "metadata": {
        "id": "d0z8spsIvhbB"
      },
      "outputs": [],
      "source": [
        "scaler = StandardScaler()\n",
        "X_normalized = pd.DataFrame(scaler.fit_transform(X_resampled), columns=X.columns)"
      ]
    },
    {
      "cell_type": "code",
      "execution_count": null,
      "metadata": {
        "id": "_jCTANTmQQIJ"
      },
      "outputs": [],
      "source": [
        "with open('scaler.pkl', 'wb') as f:\n",
        "    pickle.dump(scaler, f)"
      ]
    },
    {
      "cell_type": "markdown",
      "metadata": {
        "id": "3Ob2zFuS-kza"
      },
      "source": [
        "# ***Train Test Split (Ratio 80:20)***"
      ]
    },
    {
      "cell_type": "code",
      "execution_count": null,
      "metadata": {
        "id": "zHt4nJqYvpr6"
      },
      "outputs": [],
      "source": [
        "X_train, X_test, y_train, y_test = train_test_split(X_normalized, y_resampled, test_size=0.2, random_state=42)"
      ]
    },
    {
      "cell_type": "code",
      "execution_count": null,
      "metadata": {
        "id": "A_WWatxGQbfK"
      },
      "outputs": [],
      "source": [
        "columns = list(X_train.columns)\n",
        "with open('columns.pkl', 'wb') as f:\n",
        "    pickle.dump(columns, f)"
      ]
    },
    {
      "cell_type": "code",
      "execution_count": null,
      "metadata": {
        "colab": {
          "base_uri": "https://localhost:8080/"
        },
        "id": "ZdpPFswAREg1",
        "outputId": "52812a2e-d163-4d3d-e124-9cb769e6078f"
      },
      "outputs": [
        {
          "name": "stdout",
          "output_type": "stream",
          "text": [
            "['Precip Type', 'Temperature (C)', 'Humidity', 'Wind Speed (km/h)', 'Wind Bearing (degrees)', 'Visibility (km)', 'Pressure (millibars)', 'Hour', 'Day_of_week', 'Month', 'Season', 'Is_weekend', 'Hour_sin', 'Hour_cos', 'Month_sin', 'Month_cos', 'Temp_Humidity', 'Wind_Pressure', 'Daily Summary_Clear/Dry', 'Daily Summary_Cloudy', 'Daily Summary_Other', 'Daily Summary_Rainy', 'Daily Summary_Windy']\n"
          ]
        }
      ],
      "source": [
        "print(columns)"
      ]
    },
    {
      "cell_type": "markdown",
      "metadata": {
        "id": "WaIZaAp3I2Jf"
      },
      "source": [
        "# ***Model Initialization and Evaluation***"
      ]
    },
    {
      "cell_type": "markdown",
      "metadata": {
        "id": "kUGlbdb5w7T2"
      },
      "source": [
        "## **Logistic Regression (Parametric Model)**"
      ]
    },
    {
      "cell_type": "code",
      "execution_count": null,
      "metadata": {
        "id": "bGkE70M8wDYg"
      },
      "outputs": [],
      "source": [
        "regr = LogisticRegression(multi_class='multinomial',max_iter=2000,random_state=42,penalty='l2',C=0.1)"
      ]
    },
    {
      "cell_type": "code",
      "execution_count": null,
      "metadata": {
        "id": "a8DVQODjwI-f"
      },
      "outputs": [],
      "source": [
        "model = regr.fit(X_train,y_train)"
      ]
    },
    {
      "cell_type": "code",
      "execution_count": null,
      "metadata": {
        "id": "DB9FH5PHcdh7"
      },
      "outputs": [],
      "source": [
        "import pickle\n",
        "filename = 'lrmodel.pkl'\n",
        "pickle.dump(model, open(filename, 'wb'))"
      ]
    },
    {
      "cell_type": "code",
      "execution_count": null,
      "metadata": {
        "id": "H0QEpTpFwMdH"
      },
      "outputs": [],
      "source": [
        "ypred = model.predict(X_test)"
      ]
    },
    {
      "cell_type": "code",
      "execution_count": null,
      "metadata": {
        "colab": {
          "base_uri": "https://localhost:8080/"
        },
        "id": "QFcuf6A5wOj0",
        "outputId": "5827ddfa-3114-459e-ae6e-b714da42d530"
      },
      "outputs": [
        {
          "data": {
            "text/plain": [
              "0.8700679051123276"
            ]
          },
          "execution_count": 40,
          "metadata": {},
          "output_type": "execute_result"
        }
      ],
      "source": [
        "accuracy_score(ypred,y_test)"
      ]
    },
    {
      "cell_type": "code",
      "execution_count": null,
      "metadata": {
        "colab": {
          "base_uri": "https://localhost:8080/"
        },
        "id": "rWlV6mjnFVcC",
        "outputId": "a61007db-5397-4fe7-ea3d-babff0a49d9f"
      },
      "outputs": [
        {
          "name": "stdout",
          "output_type": "stream",
          "text": [
            "test accuracy 0.8700679051123276\n"
          ]
        }
      ],
      "source": [
        "testaccuracy = model.score(X_test, y_test)\n",
        "print(\"test accuracy\",testaccuracy)"
      ]
    },
    {
      "cell_type": "code",
      "execution_count": null,
      "metadata": {
        "colab": {
          "base_uri": "https://localhost:8080/"
        },
        "id": "4vFyfq-vFb2C",
        "outputId": "af913915-22d7-41fe-d3cf-97c9960d28a0"
      },
      "outputs": [
        {
          "name": "stdout",
          "output_type": "stream",
          "text": [
            "0.8701379800321579\n"
          ]
        }
      ],
      "source": [
        "trainaccuracy = model.score(X_train, y_train)\n",
        "print(trainaccuracy)"
      ]
    },
    {
      "cell_type": "markdown",
      "metadata": {
        "id": "uLI_G2MbxSlm"
      },
      "source": [
        "## **KNearestneighbour (Non-Parametric Model)**"
      ]
    },
    {
      "cell_type": "code",
      "execution_count": null,
      "metadata": {
        "id": "B_gKLJrwv6cc"
      },
      "outputs": [],
      "source": [
        "NB = KNeighborsClassifier(n_neighbors=3,metric='minkowski',algorithm='brute')"
      ]
    },
    {
      "cell_type": "code",
      "execution_count": null,
      "metadata": {
        "id": "_HBjRhbnwP8K"
      },
      "outputs": [],
      "source": [
        "model2 = NB.fit(X_train,y_train)"
      ]
    },
    {
      "cell_type": "code",
      "execution_count": null,
      "metadata": {
        "id": "_DnPhDEfEqPd"
      },
      "outputs": [],
      "source": [
        "filename = 'KNNmodel.pkl'\n",
        "pickle.dump(model2, open(filename, 'wb'))"
      ]
    },
    {
      "cell_type": "code",
      "execution_count": null,
      "metadata": {
        "id": "CBOWOywSwh4n"
      },
      "outputs": [],
      "source": [
        "ypred = model2.predict(X_test)"
      ]
    },
    {
      "cell_type": "code",
      "execution_count": null,
      "metadata": {
        "colab": {
          "base_uri": "https://localhost:8080/"
        },
        "id": "8Ms095VxwltE",
        "outputId": "646f598d-5a29-46c8-fe47-a4bb0b74cbfb"
      },
      "outputs": [
        {
          "data": {
            "text/plain": [
              "0.952870262347064"
            ]
          },
          "execution_count": 40,
          "metadata": {},
          "output_type": "execute_result"
        }
      ],
      "source": [
        "accuracy_score(ypred,y_test)"
      ]
    },
    {
      "cell_type": "code",
      "execution_count": null,
      "metadata": {
        "colab": {
          "base_uri": "https://localhost:8080/"
        },
        "id": "RtIZ_zKZEWG6",
        "outputId": "0105e9a4-4397-4680-e351-b1cca27c1b0c"
      },
      "outputs": [
        {
          "name": "stdout",
          "output_type": "stream",
          "text": [
            "test accuracy 0.952870262347064\n"
          ]
        }
      ],
      "source": [
        "testaccuracy = model2.score(X_test, y_test)\n",
        "print(\"test accuracy\",testaccuracy)"
      ]
    },
    {
      "cell_type": "code",
      "execution_count": null,
      "metadata": {
        "colab": {
          "base_uri": "https://localhost:8080/"
        },
        "id": "uPhRZS8uEdy1",
        "outputId": "41a470b0-ef16-4ad7-c6df-fa7f0423dafa"
      },
      "outputs": [
        {
          "name": "stdout",
          "output_type": "stream",
          "text": [
            "0.979785364394421\n"
          ]
        }
      ],
      "source": [
        "trainaccuracy = model2.score(X_train, y_train)\n",
        "print(trainaccuracy)"
      ]
    },
    {
      "cell_type": "code",
      "execution_count": null,
      "metadata": {
        "colab": {
          "base_uri": "https://localhost:8080/"
        },
        "id": "0u-kaeaPwqbo",
        "outputId": "ab446720-4c04-49d6-c6b8-259e2159f853"
      },
      "outputs": [
        {
          "name": "stdout",
          "output_type": "stream",
          "text": [
            "[[14812    10  1214     0]\n",
            " [  170 16882    53     0]\n",
            " [ 1687     7 15342     0]\n",
            " [   10     0     0 16671]]\n"
          ]
        }
      ],
      "source": [
        "print(confusion_matrix(ypred,y_test))"
      ]
    },
    {
      "cell_type": "markdown",
      "metadata": {
        "id": "VtI7R7lLxba3"
      },
      "source": [
        "## **Neural Network**"
      ]
    },
    {
      "cell_type": "code",
      "execution_count": null,
      "metadata": {
        "id": "CO60LC3VwrEV"
      },
      "outputs": [],
      "source": [
        "model = Sequential([\n",
        "    Dense(128, activation='relu', input_shape=(X_train.shape[1],)),\n",
        "    Dense(64, activation='relu'),\n",
        "    Dense(32, activation='relu'),\n",
        "    Dense(4, activation='softmax')\n",
        "])"
      ]
    },
    {
      "cell_type": "code",
      "execution_count": null,
      "metadata": {
        "id": "sMwf0Y5ByHHa"
      },
      "outputs": [],
      "source": [
        "model.compile(\n",
        "    optimizer='adam',\n",
        "    loss='sparse_categorical_crossentropy',\n",
        "    metrics=['accuracy']\n",
        ")"
      ]
    },
    {
      "cell_type": "code",
      "execution_count": null,
      "metadata": {
        "id": "Q4NX6m0ByJ-L"
      },
      "outputs": [],
      "source": [
        "y_train = tf.keras.utils.to_categorical(y_train, num_classes=4)\n",
        "y_test = tf.keras.utils.to_categorical(y_test, num_classes=4)"
      ]
    },
    {
      "cell_type": "code",
      "execution_count": null,
      "metadata": {
        "colab": {
          "base_uri": "https://localhost:8080/"
        },
        "id": "fJteAJRuyUNK",
        "outputId": "86e298db-7d7a-4b67-fb3c-e62339c830e2"
      },
      "outputs": [
        {
          "name": "stdout",
          "output_type": "stream",
          "text": [
            "Number of classes: 2\n"
          ]
        }
      ],
      "source": [
        "print(\"Number of classes:\", len(np.unique(y_train)))"
      ]
    },
    {
      "cell_type": "code",
      "execution_count": null,
      "metadata": {
        "colab": {
          "base_uri": "https://localhost:8080/"
        },
        "id": "eMf8rCrdy8lE",
        "outputId": "86cae541-2cb2-43d9-ac0f-ae0939acf6c1"
      },
      "outputs": [
        {
          "data": {
            "text/plain": [
              "array([[0., 1., 0., 0.],\n",
              "       [0., 0., 1., 0.],\n",
              "       [0., 0., 0., 1.],\n",
              "       ...,\n",
              "       [0., 1., 0., 0.],\n",
              "       [0., 1., 0., 0.],\n",
              "       [0., 1., 0., 0.]])"
            ]
          },
          "execution_count": 48,
          "metadata": {},
          "output_type": "execute_result"
        }
      ],
      "source": [
        "y_train"
      ]
    },
    {
      "cell_type": "code",
      "execution_count": null,
      "metadata": {
        "colab": {
          "base_uri": "https://localhost:8080/"
        },
        "id": "l1_ribHwzS2B",
        "outputId": "47d98f36-040e-4bf6-ebae-5c97a440e3d2"
      },
      "outputs": [
        {
          "name": "stdout",
          "output_type": "stream",
          "text": [
            "(267430, 4)\n",
            "4\n"
          ]
        }
      ],
      "source": [
        "print( y_train.shape)\n",
        "print( y_train.shape[1])"
      ]
    },
    {
      "cell_type": "code",
      "execution_count": null,
      "metadata": {
        "id": "cKXPZHRyznri"
      },
      "outputs": [],
      "source": [
        "model = Sequential([\n",
        "    Dense(128, activation='relu', input_shape=(X_train.shape[1],)),\n",
        "    BatchNormalization(),\n",
        "    Dropout(0.3),\n",
        "    Dense(64, activation='relu'),\n",
        "    BatchNormalization(),\n",
        "    Dropout(0.2),\n",
        "    Dense(32, activation='relu'),\n",
        "    BatchNormalization(),\n",
        "    Dropout(0.2),\n",
        "    Dense(4, activation='softmax')\n",
        "])"
      ]
    },
    {
      "cell_type": "markdown",
      "metadata": {
        "id": "8-sfuU4D0Lsi"
      },
      "source": [
        "I use categorical_crossentropy because my target variable is one hot encoded if it is encoded and integer then i would  use sparse"
      ]
    },
    {
      "cell_type": "code",
      "execution_count": null,
      "metadata": {
        "id": "WGjZ_u7bzyv3"
      },
      "outputs": [],
      "source": [
        "model.compile(\n",
        "    optimizer='adam',\n",
        "    loss='categorical_crossentropy',\n",
        "    metrics=['accuracy']\n",
        ")"
      ]
    },
    {
      "cell_type": "markdown",
      "metadata": {
        "id": "bix9GmyuxmIj"
      },
      "source": [
        "Training the Artificial Neural Network\n",
        "\n",
        "Epochs: Train for up to 50 iterations.\n",
        "\n",
        "Batch Size: 256 samples per batch.\n",
        "\n",
        "Validation Split: 20% of training data used for validation.\n",
        "\n",
        "EarlyStopping: Stops training if validation performance doesn’t improve for 5 epochs and restores the best weights."
      ]
    },
    {
      "cell_type": "code",
      "execution_count": null,
      "metadata": {
        "colab": {
          "base_uri": "https://localhost:8080/"
        },
        "collapsed": true,
        "id": "8eNsNLFmz0MC",
        "outputId": "e412ca0c-5e20-412a-a12f-17a36e6f3919"
      },
      "outputs": [
        {
          "name": "stdout",
          "output_type": "stream",
          "text": [
            "Epoch 1/50\n",
            "\u001b[1m836/836\u001b[0m \u001b[32m━━━━━━━━━━━━━━━━━━━━\u001b[0m\u001b[37m\u001b[0m \u001b[1m10s\u001b[0m 7ms/step - accuracy: 0.8051 - loss: 0.4661 - val_accuracy: 0.9153 - val_loss: 0.1930\n",
            "Epoch 2/50\n",
            "\u001b[1m836/836\u001b[0m \u001b[32m━━━━━━━━━━━━━━━━━━━━\u001b[0m\u001b[37m\u001b[0m \u001b[1m10s\u001b[0m 6ms/step - accuracy: 0.9044 - loss: 0.2208 - val_accuracy: 0.9306 - val_loss: 0.1612\n",
            "Epoch 3/50\n",
            "\u001b[1m836/836\u001b[0m \u001b[32m━━━━━━━━━━━━━━━━━━━━\u001b[0m\u001b[37m\u001b[0m \u001b[1m6s\u001b[0m 7ms/step - accuracy: 0.9179 - loss: 0.1900 - val_accuracy: 0.9408 - val_loss: 0.1440\n",
            "Epoch 4/50\n",
            "\u001b[1m836/836\u001b[0m \u001b[32m━━━━━━━━━━━━━━━━━━━━\u001b[0m\u001b[37m\u001b[0m \u001b[1m9s\u001b[0m 6ms/step - accuracy: 0.9256 - loss: 0.1745 - val_accuracy: 0.9431 - val_loss: 0.1360\n",
            "Epoch 5/50\n",
            "\u001b[1m836/836\u001b[0m \u001b[32m━━━━━━━━━━━━━━━━━━━━\u001b[0m\u001b[37m\u001b[0m \u001b[1m10s\u001b[0m 6ms/step - accuracy: 0.9298 - loss: 0.1645 - val_accuracy: 0.9420 - val_loss: 0.1340\n",
            "Epoch 6/50\n",
            "\u001b[1m836/836\u001b[0m \u001b[32m━━━━━━━━━━━━━━━━━━━━\u001b[0m\u001b[37m\u001b[0m \u001b[1m10s\u001b[0m 6ms/step - accuracy: 0.9319 - loss: 0.1579 - val_accuracy: 0.9479 - val_loss: 0.1234\n",
            "Epoch 7/50\n",
            "\u001b[1m836/836\u001b[0m \u001b[32m━━━━━━━━━━━━━━━━━━━━\u001b[0m\u001b[37m\u001b[0m \u001b[1m6s\u001b[0m 8ms/step - accuracy: 0.9346 - loss: 0.1514 - val_accuracy: 0.9486 - val_loss: 0.1210\n",
            "Epoch 8/50\n",
            "\u001b[1m836/836\u001b[0m \u001b[32m━━━━━━━━━━━━━━━━━━━━\u001b[0m\u001b[37m\u001b[0m \u001b[1m5s\u001b[0m 6ms/step - accuracy: 0.9367 - loss: 0.1471 - val_accuracy: 0.9494 - val_loss: 0.1184\n",
            "Epoch 9/50\n",
            "\u001b[1m836/836\u001b[0m \u001b[32m━━━━━━━━━━━━━━━━━━━━\u001b[0m\u001b[37m\u001b[0m \u001b[1m6s\u001b[0m 7ms/step - accuracy: 0.9385 - loss: 0.1429 - val_accuracy: 0.9470 - val_loss: 0.1212\n",
            "Epoch 10/50\n",
            "\u001b[1m836/836\u001b[0m \u001b[32m━━━━━━━━━━━━━━━━━━━━\u001b[0m\u001b[37m\u001b[0m \u001b[1m6s\u001b[0m 7ms/step - accuracy: 0.9407 - loss: 0.1385 - val_accuracy: 0.9531 - val_loss: 0.1137\n",
            "Epoch 11/50\n",
            "\u001b[1m836/836\u001b[0m \u001b[32m━━━━━━━━━━━━━━━━━━━━\u001b[0m\u001b[37m\u001b[0m \u001b[1m5s\u001b[0m 6ms/step - accuracy: 0.9422 - loss: 0.1377 - val_accuracy: 0.9514 - val_loss: 0.1186\n",
            "Epoch 12/50\n",
            "\u001b[1m836/836\u001b[0m \u001b[32m━━━━━━━━━━━━━━━━━━━━\u001b[0m\u001b[37m\u001b[0m \u001b[1m7s\u001b[0m 8ms/step - accuracy: 0.9430 - loss: 0.1347 - val_accuracy: 0.9540 - val_loss: 0.1106\n",
            "Epoch 13/50\n",
            "\u001b[1m836/836\u001b[0m \u001b[32m━━━━━━━━━━━━━━━━━━━━\u001b[0m\u001b[37m\u001b[0m \u001b[1m10s\u001b[0m 8ms/step - accuracy: 0.9429 - loss: 0.1338 - val_accuracy: 0.9534 - val_loss: 0.1087\n",
            "Epoch 14/50\n",
            "\u001b[1m836/836\u001b[0m \u001b[32m━━━━━━━━━━━━━━━━━━━━\u001b[0m\u001b[37m\u001b[0m \u001b[1m5s\u001b[0m 6ms/step - accuracy: 0.9443 - loss: 0.1316 - val_accuracy: 0.9551 - val_loss: 0.1074\n",
            "Epoch 15/50\n",
            "\u001b[1m836/836\u001b[0m \u001b[32m━━━━━━━━━━━━━━━━━━━━\u001b[0m\u001b[37m\u001b[0m \u001b[1m7s\u001b[0m 8ms/step - accuracy: 0.9456 - loss: 0.1289 - val_accuracy: 0.9538 - val_loss: 0.1105\n",
            "Epoch 16/50\n",
            "\u001b[1m836/836\u001b[0m \u001b[32m━━━━━━━━━━━━━━━━━━━━\u001b[0m\u001b[37m\u001b[0m \u001b[1m5s\u001b[0m 6ms/step - accuracy: 0.9450 - loss: 0.1280 - val_accuracy: 0.9550 - val_loss: 0.1076\n",
            "Epoch 17/50\n",
            "\u001b[1m836/836\u001b[0m \u001b[32m━━━━━━━━━━━━━━━━━━━━\u001b[0m\u001b[37m\u001b[0m \u001b[1m7s\u001b[0m 8ms/step - accuracy: 0.9453 - loss: 0.1287 - val_accuracy: 0.9560 - val_loss: 0.1053\n",
            "Epoch 18/50\n",
            "\u001b[1m836/836\u001b[0m \u001b[32m━━━━━━━━━━━━━━━━━━━━\u001b[0m\u001b[37m\u001b[0m \u001b[1m6s\u001b[0m 7ms/step - accuracy: 0.9464 - loss: 0.1271 - val_accuracy: 0.9549 - val_loss: 0.1070\n",
            "Epoch 19/50\n",
            "\u001b[1m836/836\u001b[0m \u001b[32m━━━━━━━━━━━━━━━━━━━━\u001b[0m\u001b[37m\u001b[0m \u001b[1m11s\u001b[0m 7ms/step - accuracy: 0.9470 - loss: 0.1261 - val_accuracy: 0.9548 - val_loss: 0.1082\n",
            "Epoch 20/50\n",
            "\u001b[1m836/836\u001b[0m \u001b[32m━━━━━━━━━━━━━━━━━━━━\u001b[0m\u001b[37m\u001b[0m \u001b[1m11s\u001b[0m 8ms/step - accuracy: 0.9467 - loss: 0.1256 - val_accuracy: 0.9558 - val_loss: 0.1047\n",
            "Epoch 21/50\n",
            "\u001b[1m836/836\u001b[0m \u001b[32m━━━━━━━━━━━━━━━━━━━━\u001b[0m\u001b[37m\u001b[0m \u001b[1m5s\u001b[0m 6ms/step - accuracy: 0.9473 - loss: 0.1235 - val_accuracy: 0.9555 - val_loss: 0.1058\n",
            "Epoch 22/50\n",
            "\u001b[1m836/836\u001b[0m \u001b[32m━━━━━━━━━━━━━━━━━━━━\u001b[0m\u001b[37m\u001b[0m \u001b[1m7s\u001b[0m 8ms/step - accuracy: 0.9477 - loss: 0.1237 - val_accuracy: 0.9575 - val_loss: 0.1026\n",
            "Epoch 23/50\n",
            "\u001b[1m836/836\u001b[0m \u001b[32m━━━━━━━━━━━━━━━━━━━━\u001b[0m\u001b[37m\u001b[0m \u001b[1m6s\u001b[0m 7ms/step - accuracy: 0.9472 - loss: 0.1235 - val_accuracy: 0.9554 - val_loss: 0.1040\n",
            "Epoch 24/50\n",
            "\u001b[1m836/836\u001b[0m \u001b[32m━━━━━━━━━━━━━━━━━━━━\u001b[0m\u001b[37m\u001b[0m \u001b[1m10s\u001b[0m 7ms/step - accuracy: 0.9479 - loss: 0.1231 - val_accuracy: 0.9545 - val_loss: 0.1056\n",
            "Epoch 25/50\n",
            "\u001b[1m836/836\u001b[0m \u001b[32m━━━━━━━━━━━━━━━━━━━━\u001b[0m\u001b[37m\u001b[0m \u001b[1m6s\u001b[0m 7ms/step - accuracy: 0.9474 - loss: 0.1235 - val_accuracy: 0.9576 - val_loss: 0.1025\n",
            "Epoch 26/50\n",
            "\u001b[1m836/836\u001b[0m \u001b[32m━━━━━━━━━━━━━━━━━━━━\u001b[0m\u001b[37m\u001b[0m \u001b[1m6s\u001b[0m 7ms/step - accuracy: 0.9482 - loss: 0.1210 - val_accuracy: 0.9570 - val_loss: 0.1027\n",
            "Epoch 27/50\n",
            "\u001b[1m836/836\u001b[0m \u001b[32m━━━━━━━━━━━━━━━━━━━━\u001b[0m\u001b[37m\u001b[0m \u001b[1m11s\u001b[0m 8ms/step - accuracy: 0.9489 - loss: 0.1210 - val_accuracy: 0.9566 - val_loss: 0.1034\n",
            "Epoch 28/50\n",
            "\u001b[1m836/836\u001b[0m \u001b[32m━━━━━━━━━━━━━━━━━━━━\u001b[0m\u001b[37m\u001b[0m \u001b[1m5s\u001b[0m 6ms/step - accuracy: 0.9496 - loss: 0.1189 - val_accuracy: 0.9570 - val_loss: 0.1024\n",
            "Epoch 29/50\n",
            "\u001b[1m836/836\u001b[0m \u001b[32m━━━━━━━━━━━━━━━━━━━━\u001b[0m\u001b[37m\u001b[0m \u001b[1m10s\u001b[0m 6ms/step - accuracy: 0.9488 - loss: 0.1209 - val_accuracy: 0.9557 - val_loss: 0.1032\n",
            "Epoch 30/50\n",
            "\u001b[1m836/836\u001b[0m \u001b[32m━━━━━━━━━━━━━━━━━━━━\u001b[0m\u001b[37m\u001b[0m \u001b[1m7s\u001b[0m 8ms/step - accuracy: 0.9497 - loss: 0.1196 - val_accuracy: 0.9570 - val_loss: 0.1003\n",
            "Epoch 31/50\n",
            "\u001b[1m836/836\u001b[0m \u001b[32m━━━━━━━━━━━━━━━━━━━━\u001b[0m\u001b[37m\u001b[0m \u001b[1m9s\u001b[0m 6ms/step - accuracy: 0.9512 - loss: 0.1167 - val_accuracy: 0.9578 - val_loss: 0.1020\n",
            "Epoch 32/50\n",
            "\u001b[1m836/836\u001b[0m \u001b[32m━━━━━━━━━━━━━━━━━━━━\u001b[0m\u001b[37m\u001b[0m \u001b[1m7s\u001b[0m 8ms/step - accuracy: 0.9504 - loss: 0.1173 - val_accuracy: 0.9575 - val_loss: 0.1017\n",
            "Epoch 33/50\n",
            "\u001b[1m836/836\u001b[0m \u001b[32m━━━━━━━━━━━━━━━━━━━━\u001b[0m\u001b[37m\u001b[0m \u001b[1m6s\u001b[0m 7ms/step - accuracy: 0.9496 - loss: 0.1181 - val_accuracy: 0.9561 - val_loss: 0.1036\n",
            "Epoch 34/50\n",
            "\u001b[1m836/836\u001b[0m \u001b[32m━━━━━━━━━━━━━━━━━━━━\u001b[0m\u001b[37m\u001b[0m \u001b[1m7s\u001b[0m 8ms/step - accuracy: 0.9495 - loss: 0.1184 - val_accuracy: 0.9577 - val_loss: 0.1011\n",
            "Epoch 35/50\n",
            "\u001b[1m836/836\u001b[0m \u001b[32m━━━━━━━━━━━━━━━━━━━━\u001b[0m\u001b[37m\u001b[0m \u001b[1m5s\u001b[0m 6ms/step - accuracy: 0.9514 - loss: 0.1152 - val_accuracy: 0.9579 - val_loss: 0.0994\n",
            "Epoch 36/50\n",
            "\u001b[1m836/836\u001b[0m \u001b[32m━━━━━━━━━━━━━━━━━━━━\u001b[0m\u001b[37m\u001b[0m \u001b[1m7s\u001b[0m 8ms/step - accuracy: 0.9515 - loss: 0.1158 - val_accuracy: 0.9588 - val_loss: 0.1000\n",
            "Epoch 37/50\n",
            "\u001b[1m836/836\u001b[0m \u001b[32m━━━━━━━━━━━━━━━━━━━━\u001b[0m\u001b[37m\u001b[0m \u001b[1m5s\u001b[0m 6ms/step - accuracy: 0.9505 - loss: 0.1160 - val_accuracy: 0.9577 - val_loss: 0.1007\n",
            "Epoch 38/50\n",
            "\u001b[1m836/836\u001b[0m \u001b[32m━━━━━━━━━━━━━━━━━━━━\u001b[0m\u001b[37m\u001b[0m \u001b[1m7s\u001b[0m 8ms/step - accuracy: 0.9512 - loss: 0.1160 - val_accuracy: 0.9588 - val_loss: 0.0986\n",
            "Epoch 39/50\n",
            "\u001b[1m836/836\u001b[0m \u001b[32m━━━━━━━━━━━━━━━━━━━━\u001b[0m\u001b[37m\u001b[0m \u001b[1m15s\u001b[0m 13ms/step - accuracy: 0.9503 - loss: 0.1171 - val_accuracy: 0.9583 - val_loss: 0.0989\n",
            "Epoch 40/50\n",
            "\u001b[1m836/836\u001b[0m \u001b[32m━━━━━━━━━━━━━━━━━━━━\u001b[0m\u001b[37m\u001b[0m \u001b[1m11s\u001b[0m 13ms/step - accuracy: 0.9521 - loss: 0.1132 - val_accuracy: 0.9577 - val_loss: 0.0997\n",
            "Epoch 41/50\n",
            "\u001b[1m836/836\u001b[0m \u001b[32m━━━━━━━━━━━━━━━━━━━━\u001b[0m\u001b[37m\u001b[0m \u001b[1m16s\u001b[0m 8ms/step - accuracy: 0.9512 - loss: 0.1132 - val_accuracy: 0.9594 - val_loss: 0.0974\n",
            "Epoch 42/50\n",
            "\u001b[1m836/836\u001b[0m \u001b[32m━━━━━━━━━━━━━━━━━━━━\u001b[0m\u001b[37m\u001b[0m \u001b[1m5s\u001b[0m 6ms/step - accuracy: 0.9516 - loss: 0.1142 - val_accuracy: 0.9580 - val_loss: 0.0998\n",
            "Epoch 43/50\n",
            "\u001b[1m836/836\u001b[0m \u001b[32m━━━━━━━━━━━━━━━━━━━━\u001b[0m\u001b[37m\u001b[0m \u001b[1m10s\u001b[0m 6ms/step - accuracy: 0.9518 - loss: 0.1142 - val_accuracy: 0.9598 - val_loss: 0.0959\n",
            "Epoch 44/50\n",
            "\u001b[1m836/836\u001b[0m \u001b[32m━━━━━━━━━━━━━━━━━━━━\u001b[0m\u001b[37m\u001b[0m \u001b[1m10s\u001b[0m 6ms/step - accuracy: 0.9507 - loss: 0.1152 - val_accuracy: 0.9605 - val_loss: 0.0959\n",
            "Epoch 45/50\n",
            "\u001b[1m836/836\u001b[0m \u001b[32m━━━━━━━━━━━━━━━━━━━━\u001b[0m\u001b[37m\u001b[0m \u001b[1m6s\u001b[0m 8ms/step - accuracy: 0.9527 - loss: 0.1134 - val_accuracy: 0.9587 - val_loss: 0.0981\n",
            "Epoch 46/50\n",
            "\u001b[1m836/836\u001b[0m \u001b[32m━━━━━━━━━━━━━━━━━━━━\u001b[0m\u001b[37m\u001b[0m \u001b[1m9s\u001b[0m 6ms/step - accuracy: 0.9514 - loss: 0.1134 - val_accuracy: 0.9596 - val_loss: 0.0982\n",
            "Epoch 47/50\n",
            "\u001b[1m836/836\u001b[0m \u001b[32m━━━━━━━━━━━━━━━━━━━━\u001b[0m\u001b[37m\u001b[0m \u001b[1m10s\u001b[0m 7ms/step - accuracy: 0.9526 - loss: 0.1130 - val_accuracy: 0.9589 - val_loss: 0.0983\n",
            "Epoch 48/50\n",
            "\u001b[1m836/836\u001b[0m \u001b[32m━━━━━━━━━━━━━━━━━━━━\u001b[0m\u001b[37m\u001b[0m \u001b[1m10s\u001b[0m 6ms/step - accuracy: 0.9535 - loss: 0.1101 - val_accuracy: 0.9575 - val_loss: 0.1005\n"
          ]
        }
      ],
      "source": [
        "history = model.fit(\n",
        "    X_train, y_train,\n",
        "    epochs=50,\n",
        "    batch_size=256,\n",
        "    validation_split=0.2,\n",
        "    callbacks=[\n",
        "        tf.keras.callbacks.EarlyStopping(patience=5, restore_best_weights=True)\n",
        "    ]\n",
        ")"
      ]
    },
    {
      "cell_type": "code",
      "execution_count": null,
      "metadata": {
        "colab": {
          "base_uri": "https://localhost:8080/"
        },
        "id": "Pg6h7Qvnz1mr",
        "outputId": "fa507575-6208-4722-f6a0-646d5e55ad3f"
      },
      "outputs": [
        {
          "name": "stdout",
          "output_type": "stream",
          "text": [
            "Test Accuracyfor the test data is 0.96\n"
          ]
        }
      ],
      "source": [
        "test_loss, test_acc = model.evaluate(X_test, y_test, verbose=0)\n",
        "print(f\"Test Accuracyfor the test data is {test_acc:.2f}\")"
      ]
    },
    {
      "cell_type": "code",
      "execution_count": null,
      "metadata": {
        "colab": {
          "base_uri": "https://localhost:8080/"
        },
        "id": "17JHwzE7H34n",
        "outputId": "4d887bed-1283-426c-c70f-d9ddd59cae31"
      },
      "outputs": [
        {
          "name": "stderr",
          "output_type": "stream",
          "text": [
            "WARNING:absl:You are saving your model as an HDF5 file via `model.save()` or `keras.saving.save_model(model)`. This file format is considered legacy. We recommend using instead the native Keras format, e.g. `model.save('my_model.keras')` or `keras.saving.save_model(model, 'my_model.keras')`. \n"
          ]
        }
      ],
      "source": [
        "model.save(\"NNmodel.h5\")"
      ]
    },
    {
      "cell_type": "markdown",
      "metadata": {
        "id": "pvClmFs3xvnG"
      },
      "source": [
        "Classification Report"
      ]
    },
    {
      "cell_type": "code",
      "execution_count": null,
      "metadata": {
        "colab": {
          "base_uri": "https://localhost:8080/"
        },
        "id": "fviGJgA30aJo",
        "outputId": "9697a452-1820-4ed6-d26e-66fbabe5e490"
      },
      "outputs": [
        {
          "name": "stdout",
          "output_type": "stream",
          "text": [
            "\u001b[1m2090/2090\u001b[0m \u001b[32m━━━━━━━━━━━━━━━━━━━━\u001b[0m\u001b[37m\u001b[0m \u001b[1m3s\u001b[0m 2ms/step\n",
            "              precision    recall  f1-score   support\n",
            "\n",
            "      Cloudy       0.88      0.96      0.92     16679\n",
            "       Windy       1.00      1.00      1.00     16899\n",
            "   Clear/Dry       0.96      0.87      0.91     16609\n",
            "       Rainy       1.00      1.00      1.00     16671\n",
            "\n",
            "    accuracy                           0.96     66858\n",
            "   macro avg       0.96      0.96      0.96     66858\n",
            "weighted avg       0.96      0.96      0.96     66858\n",
            "\n"
          ]
        }
      ],
      "source": [
        "y_pred = model.predict(X_test)\n",
        "y_pred_classes = np.argmax(y_pred, axis=1)\n",
        "y_true_classes = np.argmax(y_test, axis=1)\n",
        "\n",
        "print(classification_report(\n",
        "    y_true_classes,\n",
        "    y_pred_classes,\n",
        "    target_names=['Cloudy', 'Windy', 'Clear/Dry', 'Rainy']\n",
        "))"
      ]
    },
    {
      "cell_type": "code",
      "execution_count": null,
      "metadata": {
        "colab": {
          "base_uri": "https://localhost:8080/"
        },
        "id": "ftUlAmfW05NH",
        "outputId": "9fff07a3-3566-4298-968a-138d6d095bdf"
      },
      "outputs": [
        {
          "data": {
            "text/plain": [
              "12"
            ]
          },
          "execution_count": 7,
          "metadata": {},
          "output_type": "execute_result"
        }
      ],
      "source": [
        "data.shape[1]"
      ]
    },
    {
      "cell_type": "code",
      "execution_count": null,
      "metadata": {
        "colab": {
          "base_uri": "https://localhost:8080/"
        },
        "id": "LFqtVB9iO0rJ",
        "outputId": "baf451d3-ffaa-407f-f084-589d913c0ced"
      },
      "outputs": [
        {
          "name": "stdout",
          "output_type": "stream",
          "text": [
            "ROC AUC for each class: {0: np.float64(0.9745247429992939), 1: np.float64(0.9999585653489901), 2: np.float64(0.9757028272428666), 3: np.float64(0.9999608147789878), 'micro': np.float64(0.9936395822505071), 'macro': np.float64(0.9875418976352968)}\n",
            "Micro-average ROC AUC: 0.9936395822505071\n",
            "Macro-average ROC AUC: 0.9875418976352968\n"
          ]
        }
      ],
      "source": [
        "\"\"\" Assuming y_test and y_pred are in multilabel-indicator format and then Calculate ROC AUC for each class\n",
        "after that Compute micro-average ROC curve and ROC area Compute macro-average ROC curve and ROC area\n",
        "then First aggregate all false positive rates hen interpolate all ROC curves at this points. Finally average it and compute AUC\n",
        "\"\"\"\n",
        "\n",
        "n_classes = y_test.shape[1]\n",
        "\n",
        "\n",
        "fpr = dict()\n",
        "tpr = dict()\n",
        "roc_auc = dict()\n",
        "\n",
        "for i in range(n_classes):\n",
        "    fpr[i], tpr[i], _ = roc_curve(y_test[:, i], y_pred[:, i])\n",
        "    roc_auc[i] = auc(fpr[i], tpr[i])\n",
        "\n",
        "\n",
        "fpr[\"micro\"], tpr[\"micro\"], _ = roc_curve(y_test.ravel(), y_pred.ravel())\n",
        "roc_auc[\"micro\"] = auc(fpr[\"micro\"], tpr[\"micro\"])\n",
        "\n",
        "\n",
        "all_fpr = np.unique(np.concatenate([fpr[i] for i in range(n_classes)]))\n",
        "\n",
        "mean_tpr = np.zeros_like(all_fpr)\n",
        "for i in range(n_classes):\n",
        "    mean_tpr += np.interp(all_fpr, fpr[i], tpr[i])\n",
        "\n",
        "\n",
        "mean_tpr /= n_classes\n",
        "\n",
        "fpr[\"macro\"] = all_fpr\n",
        "tpr[\"macro\"] = mean_tpr\n",
        "roc_auc[\"macro\"] = auc(fpr[\"macro\"], tpr[\"macro\"])\n",
        "\n",
        "print(f\"ROC AUC for each class: {roc_auc}\")\n",
        "print(f\"Micro-average ROC AUC: {roc_auc['micro']}\")\n",
        "print(f\"Macro-average ROC AUC: {roc_auc['macro']}\")"
      ]
    },
    {
      "cell_type": "markdown",
      "metadata": {
        "id": "E2sXzSu6DIm1"
      },
      "source": [
        "# ***Hyperparameter Tuning with GridSearchCV***"
      ]
    },
    {
      "cell_type": "code",
      "execution_count": null,
      "metadata": {
        "id": "5_5lgK15ItZL"
      },
      "outputs": [],
      "source": [
        "param_grid_logistic = {'C': [0.01, 1, 100],'max_iter' : [1000,5000,10000]}\n",
        "param_grid_knn = {'n_neighbors': [3, 5, 7], 'algorithm': ['ball_tree', 'kd_tree', 'brute']}\n",
        "param_grid_nn = {'hidden_units': [16, 32, 64], 'learning_rate': [0.01, 0.001, 0.0001]}"
      ]
    },
    {
      "cell_type": "code",
      "execution_count": null,
      "metadata": {
        "colab": {
          "base_uri": "https://localhost:8080/",
          "height": 165
        },
        "id": "3JOfWx8jO37K",
        "outputId": "07dbf17c-f62e-4f0b-f11a-bb4be733cc69"
      },
      "outputs": [
        {
          "data": {
            "text/html": [
              "<style>#sk-container-id-1 {\n",
              "  /* Definition of color scheme common for light and dark mode */\n",
              "  --sklearn-color-text: #000;\n",
              "  --sklearn-color-text-muted: #666;\n",
              "  --sklearn-color-line: gray;\n",
              "  /* Definition of color scheme for unfitted estimators */\n",
              "  --sklearn-color-unfitted-level-0: #fff5e6;\n",
              "  --sklearn-color-unfitted-level-1: #f6e4d2;\n",
              "  --sklearn-color-unfitted-level-2: #ffe0b3;\n",
              "  --sklearn-color-unfitted-level-3: chocolate;\n",
              "  /* Definition of color scheme for fitted estimators */\n",
              "  --sklearn-color-fitted-level-0: #f0f8ff;\n",
              "  --sklearn-color-fitted-level-1: #d4ebff;\n",
              "  --sklearn-color-fitted-level-2: #b3dbfd;\n",
              "  --sklearn-color-fitted-level-3: cornflowerblue;\n",
              "\n",
              "  /* Specific color for light theme */\n",
              "  --sklearn-color-text-on-default-background: var(--sg-text-color, var(--theme-code-foreground, var(--jp-content-font-color1, black)));\n",
              "  --sklearn-color-background: var(--sg-background-color, var(--theme-background, var(--jp-layout-color0, white)));\n",
              "  --sklearn-color-border-box: var(--sg-text-color, var(--theme-code-foreground, var(--jp-content-font-color1, black)));\n",
              "  --sklearn-color-icon: #696969;\n",
              "\n",
              "  @media (prefers-color-scheme: dark) {\n",
              "    /* Redefinition of color scheme for dark theme */\n",
              "    --sklearn-color-text-on-default-background: var(--sg-text-color, var(--theme-code-foreground, var(--jp-content-font-color1, white)));\n",
              "    --sklearn-color-background: var(--sg-background-color, var(--theme-background, var(--jp-layout-color0, #111)));\n",
              "    --sklearn-color-border-box: var(--sg-text-color, var(--theme-code-foreground, var(--jp-content-font-color1, white)));\n",
              "    --sklearn-color-icon: #878787;\n",
              "  }\n",
              "}\n",
              "\n",
              "#sk-container-id-1 {\n",
              "  color: var(--sklearn-color-text);\n",
              "}\n",
              "\n",
              "#sk-container-id-1 pre {\n",
              "  padding: 0;\n",
              "}\n",
              "\n",
              "#sk-container-id-1 input.sk-hidden--visually {\n",
              "  border: 0;\n",
              "  clip: rect(1px 1px 1px 1px);\n",
              "  clip: rect(1px, 1px, 1px, 1px);\n",
              "  height: 1px;\n",
              "  margin: -1px;\n",
              "  overflow: hidden;\n",
              "  padding: 0;\n",
              "  position: absolute;\n",
              "  width: 1px;\n",
              "}\n",
              "\n",
              "#sk-container-id-1 div.sk-dashed-wrapped {\n",
              "  border: 1px dashed var(--sklearn-color-line);\n",
              "  margin: 0 0.4em 0.5em 0.4em;\n",
              "  box-sizing: border-box;\n",
              "  padding-bottom: 0.4em;\n",
              "  background-color: var(--sklearn-color-background);\n",
              "}\n",
              "\n",
              "#sk-container-id-1 div.sk-container {\n",
              "  /* jupyter's `normalize.less` sets `[hidden] { display: none; }`\n",
              "     but bootstrap.min.css set `[hidden] { display: none !important; }`\n",
              "     so we also need the `!important` here to be able to override the\n",
              "     default hidden behavior on the sphinx rendered scikit-learn.org.\n",
              "     See: https://github.com/scikit-learn/scikit-learn/issues/21755 */\n",
              "  display: inline-block !important;\n",
              "  position: relative;\n",
              "}\n",
              "\n",
              "#sk-container-id-1 div.sk-text-repr-fallback {\n",
              "  display: none;\n",
              "}\n",
              "\n",
              "div.sk-parallel-item,\n",
              "div.sk-serial,\n",
              "div.sk-item {\n",
              "  /* draw centered vertical line to link estimators */\n",
              "  background-image: linear-gradient(var(--sklearn-color-text-on-default-background), var(--sklearn-color-text-on-default-background));\n",
              "  background-size: 2px 100%;\n",
              "  background-repeat: no-repeat;\n",
              "  background-position: center center;\n",
              "}\n",
              "\n",
              "/* Parallel-specific style estimator block */\n",
              "\n",
              "#sk-container-id-1 div.sk-parallel-item::after {\n",
              "  content: \"\";\n",
              "  width: 100%;\n",
              "  border-bottom: 2px solid var(--sklearn-color-text-on-default-background);\n",
              "  flex-grow: 1;\n",
              "}\n",
              "\n",
              "#sk-container-id-1 div.sk-parallel {\n",
              "  display: flex;\n",
              "  align-items: stretch;\n",
              "  justify-content: center;\n",
              "  background-color: var(--sklearn-color-background);\n",
              "  position: relative;\n",
              "}\n",
              "\n",
              "#sk-container-id-1 div.sk-parallel-item {\n",
              "  display: flex;\n",
              "  flex-direction: column;\n",
              "}\n",
              "\n",
              "#sk-container-id-1 div.sk-parallel-item:first-child::after {\n",
              "  align-self: flex-end;\n",
              "  width: 50%;\n",
              "}\n",
              "\n",
              "#sk-container-id-1 div.sk-parallel-item:last-child::after {\n",
              "  align-self: flex-start;\n",
              "  width: 50%;\n",
              "}\n",
              "\n",
              "#sk-container-id-1 div.sk-parallel-item:only-child::after {\n",
              "  width: 0;\n",
              "}\n",
              "\n",
              "/* Serial-specific style estimator block */\n",
              "\n",
              "#sk-container-id-1 div.sk-serial {\n",
              "  display: flex;\n",
              "  flex-direction: column;\n",
              "  align-items: center;\n",
              "  background-color: var(--sklearn-color-background);\n",
              "  padding-right: 1em;\n",
              "  padding-left: 1em;\n",
              "}\n",
              "\n",
              "\n",
              "/* Toggleable style: style used for estimator/Pipeline/ColumnTransformer box that is\n",
              "clickable and can be expanded/collapsed.\n",
              "- Pipeline and ColumnTransformer use this feature and define the default style\n",
              "- Estimators will overwrite some part of the style using the `sk-estimator` class\n",
              "*/\n",
              "\n",
              "/* Pipeline and ColumnTransformer style (default) */\n",
              "\n",
              "#sk-container-id-1 div.sk-toggleable {\n",
              "  /* Default theme specific background. It is overwritten whether we have a\n",
              "  specific estimator or a Pipeline/ColumnTransformer */\n",
              "  background-color: var(--sklearn-color-background);\n",
              "}\n",
              "\n",
              "/* Toggleable label */\n",
              "#sk-container-id-1 label.sk-toggleable__label {\n",
              "  cursor: pointer;\n",
              "  display: flex;\n",
              "  width: 100%;\n",
              "  margin-bottom: 0;\n",
              "  padding: 0.5em;\n",
              "  box-sizing: border-box;\n",
              "  text-align: center;\n",
              "  align-items: start;\n",
              "  justify-content: space-between;\n",
              "  gap: 0.5em;\n",
              "}\n",
              "\n",
              "#sk-container-id-1 label.sk-toggleable__label .caption {\n",
              "  font-size: 0.6rem;\n",
              "  font-weight: lighter;\n",
              "  color: var(--sklearn-color-text-muted);\n",
              "}\n",
              "\n",
              "#sk-container-id-1 label.sk-toggleable__label-arrow:before {\n",
              "  /* Arrow on the left of the label */\n",
              "  content: \"▸\";\n",
              "  float: left;\n",
              "  margin-right: 0.25em;\n",
              "  color: var(--sklearn-color-icon);\n",
              "}\n",
              "\n",
              "#sk-container-id-1 label.sk-toggleable__label-arrow:hover:before {\n",
              "  color: var(--sklearn-color-text);\n",
              "}\n",
              "\n",
              "/* Toggleable content - dropdown */\n",
              "\n",
              "#sk-container-id-1 div.sk-toggleable__content {\n",
              "  max-height: 0;\n",
              "  max-width: 0;\n",
              "  overflow: hidden;\n",
              "  text-align: left;\n",
              "  /* unfitted */\n",
              "  background-color: var(--sklearn-color-unfitted-level-0);\n",
              "}\n",
              "\n",
              "#sk-container-id-1 div.sk-toggleable__content.fitted {\n",
              "  /* fitted */\n",
              "  background-color: var(--sklearn-color-fitted-level-0);\n",
              "}\n",
              "\n",
              "#sk-container-id-1 div.sk-toggleable__content pre {\n",
              "  margin: 0.2em;\n",
              "  border-radius: 0.25em;\n",
              "  color: var(--sklearn-color-text);\n",
              "  /* unfitted */\n",
              "  background-color: var(--sklearn-color-unfitted-level-0);\n",
              "}\n",
              "\n",
              "#sk-container-id-1 div.sk-toggleable__content.fitted pre {\n",
              "  /* unfitted */\n",
              "  background-color: var(--sklearn-color-fitted-level-0);\n",
              "}\n",
              "\n",
              "#sk-container-id-1 input.sk-toggleable__control:checked~div.sk-toggleable__content {\n",
              "  /* Expand drop-down */\n",
              "  max-height: 200px;\n",
              "  max-width: 100%;\n",
              "  overflow: auto;\n",
              "}\n",
              "\n",
              "#sk-container-id-1 input.sk-toggleable__control:checked~label.sk-toggleable__label-arrow:before {\n",
              "  content: \"▾\";\n",
              "}\n",
              "\n",
              "/* Pipeline/ColumnTransformer-specific style */\n",
              "\n",
              "#sk-container-id-1 div.sk-label input.sk-toggleable__control:checked~label.sk-toggleable__label {\n",
              "  color: var(--sklearn-color-text);\n",
              "  background-color: var(--sklearn-color-unfitted-level-2);\n",
              "}\n",
              "\n",
              "#sk-container-id-1 div.sk-label.fitted input.sk-toggleable__control:checked~label.sk-toggleable__label {\n",
              "  background-color: var(--sklearn-color-fitted-level-2);\n",
              "}\n",
              "\n",
              "/* Estimator-specific style */\n",
              "\n",
              "/* Colorize estimator box */\n",
              "#sk-container-id-1 div.sk-estimator input.sk-toggleable__control:checked~label.sk-toggleable__label {\n",
              "  /* unfitted */\n",
              "  background-color: var(--sklearn-color-unfitted-level-2);\n",
              "}\n",
              "\n",
              "#sk-container-id-1 div.sk-estimator.fitted input.sk-toggleable__control:checked~label.sk-toggleable__label {\n",
              "  /* fitted */\n",
              "  background-color: var(--sklearn-color-fitted-level-2);\n",
              "}\n",
              "\n",
              "#sk-container-id-1 div.sk-label label.sk-toggleable__label,\n",
              "#sk-container-id-1 div.sk-label label {\n",
              "  /* The background is the default theme color */\n",
              "  color: var(--sklearn-color-text-on-default-background);\n",
              "}\n",
              "\n",
              "/* On hover, darken the color of the background */\n",
              "#sk-container-id-1 div.sk-label:hover label.sk-toggleable__label {\n",
              "  color: var(--sklearn-color-text);\n",
              "  background-color: var(--sklearn-color-unfitted-level-2);\n",
              "}\n",
              "\n",
              "/* Label box, darken color on hover, fitted */\n",
              "#sk-container-id-1 div.sk-label.fitted:hover label.sk-toggleable__label.fitted {\n",
              "  color: var(--sklearn-color-text);\n",
              "  background-color: var(--sklearn-color-fitted-level-2);\n",
              "}\n",
              "\n",
              "/* Estimator label */\n",
              "\n",
              "#sk-container-id-1 div.sk-label label {\n",
              "  font-family: monospace;\n",
              "  font-weight: bold;\n",
              "  display: inline-block;\n",
              "  line-height: 1.2em;\n",
              "}\n",
              "\n",
              "#sk-container-id-1 div.sk-label-container {\n",
              "  text-align: center;\n",
              "}\n",
              "\n",
              "/* Estimator-specific */\n",
              "#sk-container-id-1 div.sk-estimator {\n",
              "  font-family: monospace;\n",
              "  border: 1px dotted var(--sklearn-color-border-box);\n",
              "  border-radius: 0.25em;\n",
              "  box-sizing: border-box;\n",
              "  margin-bottom: 0.5em;\n",
              "  /* unfitted */\n",
              "  background-color: var(--sklearn-color-unfitted-level-0);\n",
              "}\n",
              "\n",
              "#sk-container-id-1 div.sk-estimator.fitted {\n",
              "  /* fitted */\n",
              "  background-color: var(--sklearn-color-fitted-level-0);\n",
              "}\n",
              "\n",
              "/* on hover */\n",
              "#sk-container-id-1 div.sk-estimator:hover {\n",
              "  /* unfitted */\n",
              "  background-color: var(--sklearn-color-unfitted-level-2);\n",
              "}\n",
              "\n",
              "#sk-container-id-1 div.sk-estimator.fitted:hover {\n",
              "  /* fitted */\n",
              "  background-color: var(--sklearn-color-fitted-level-2);\n",
              "}\n",
              "\n",
              "/* Specification for estimator info (e.g. \"i\" and \"?\") */\n",
              "\n",
              "/* Common style for \"i\" and \"?\" */\n",
              "\n",
              ".sk-estimator-doc-link,\n",
              "a:link.sk-estimator-doc-link,\n",
              "a:visited.sk-estimator-doc-link {\n",
              "  float: right;\n",
              "  font-size: smaller;\n",
              "  line-height: 1em;\n",
              "  font-family: monospace;\n",
              "  background-color: var(--sklearn-color-background);\n",
              "  border-radius: 1em;\n",
              "  height: 1em;\n",
              "  width: 1em;\n",
              "  text-decoration: none !important;\n",
              "  margin-left: 0.5em;\n",
              "  text-align: center;\n",
              "  /* unfitted */\n",
              "  border: var(--sklearn-color-unfitted-level-1) 1pt solid;\n",
              "  color: var(--sklearn-color-unfitted-level-1);\n",
              "}\n",
              "\n",
              ".sk-estimator-doc-link.fitted,\n",
              "a:link.sk-estimator-doc-link.fitted,\n",
              "a:visited.sk-estimator-doc-link.fitted {\n",
              "  /* fitted */\n",
              "  border: var(--sklearn-color-fitted-level-1) 1pt solid;\n",
              "  color: var(--sklearn-color-fitted-level-1);\n",
              "}\n",
              "\n",
              "/* On hover */\n",
              "div.sk-estimator:hover .sk-estimator-doc-link:hover,\n",
              ".sk-estimator-doc-link:hover,\n",
              "div.sk-label-container:hover .sk-estimator-doc-link:hover,\n",
              ".sk-estimator-doc-link:hover {\n",
              "  /* unfitted */\n",
              "  background-color: var(--sklearn-color-unfitted-level-3);\n",
              "  color: var(--sklearn-color-background);\n",
              "  text-decoration: none;\n",
              "}\n",
              "\n",
              "div.sk-estimator.fitted:hover .sk-estimator-doc-link.fitted:hover,\n",
              ".sk-estimator-doc-link.fitted:hover,\n",
              "div.sk-label-container:hover .sk-estimator-doc-link.fitted:hover,\n",
              ".sk-estimator-doc-link.fitted:hover {\n",
              "  /* fitted */\n",
              "  background-color: var(--sklearn-color-fitted-level-3);\n",
              "  color: var(--sklearn-color-background);\n",
              "  text-decoration: none;\n",
              "}\n",
              "\n",
              "/* Span, style for the box shown on hovering the info icon */\n",
              ".sk-estimator-doc-link span {\n",
              "  display: none;\n",
              "  z-index: 9999;\n",
              "  position: relative;\n",
              "  font-weight: normal;\n",
              "  right: .2ex;\n",
              "  padding: .5ex;\n",
              "  margin: .5ex;\n",
              "  width: min-content;\n",
              "  min-width: 20ex;\n",
              "  max-width: 50ex;\n",
              "  color: var(--sklearn-color-text);\n",
              "  box-shadow: 2pt 2pt 4pt #999;\n",
              "  /* unfitted */\n",
              "  background: var(--sklearn-color-unfitted-level-0);\n",
              "  border: .5pt solid var(--sklearn-color-unfitted-level-3);\n",
              "}\n",
              "\n",
              ".sk-estimator-doc-link.fitted span {\n",
              "  /* fitted */\n",
              "  background: var(--sklearn-color-fitted-level-0);\n",
              "  border: var(--sklearn-color-fitted-level-3);\n",
              "}\n",
              "\n",
              ".sk-estimator-doc-link:hover span {\n",
              "  display: block;\n",
              "}\n",
              "\n",
              "/* \"?\"-specific style due to the `<a>` HTML tag */\n",
              "\n",
              "#sk-container-id-1 a.estimator_doc_link {\n",
              "  float: right;\n",
              "  font-size: 1rem;\n",
              "  line-height: 1em;\n",
              "  font-family: monospace;\n",
              "  background-color: var(--sklearn-color-background);\n",
              "  border-radius: 1rem;\n",
              "  height: 1rem;\n",
              "  width: 1rem;\n",
              "  text-decoration: none;\n",
              "  /* unfitted */\n",
              "  color: var(--sklearn-color-unfitted-level-1);\n",
              "  border: var(--sklearn-color-unfitted-level-1) 1pt solid;\n",
              "}\n",
              "\n",
              "#sk-container-id-1 a.estimator_doc_link.fitted {\n",
              "  /* fitted */\n",
              "  border: var(--sklearn-color-fitted-level-1) 1pt solid;\n",
              "  color: var(--sklearn-color-fitted-level-1);\n",
              "}\n",
              "\n",
              "/* On hover */\n",
              "#sk-container-id-1 a.estimator_doc_link:hover {\n",
              "  /* unfitted */\n",
              "  background-color: var(--sklearn-color-unfitted-level-3);\n",
              "  color: var(--sklearn-color-background);\n",
              "  text-decoration: none;\n",
              "}\n",
              "\n",
              "#sk-container-id-1 a.estimator_doc_link.fitted:hover {\n",
              "  /* fitted */\n",
              "  background-color: var(--sklearn-color-fitted-level-3);\n",
              "}\n",
              "</style><div id=\"sk-container-id-1\" class=\"sk-top-container\"><div class=\"sk-text-repr-fallback\"><pre>GridSearchCV(cv=5, estimator=LogisticRegression(),\n",
              "             param_grid={&#x27;C&#x27;: [0.01, 1, 100], &#x27;max_iter&#x27;: [1000, 5000, 10000]})</pre><b>In a Jupyter environment, please rerun this cell to show the HTML representation or trust the notebook. <br />On GitHub, the HTML representation is unable to render, please try loading this page with nbviewer.org.</b></div><div class=\"sk-container\" hidden><div class=\"sk-item sk-dashed-wrapped\"><div class=\"sk-label-container\"><div class=\"sk-label fitted sk-toggleable\"><input class=\"sk-toggleable__control sk-hidden--visually\" id=\"sk-estimator-id-1\" type=\"checkbox\" ><label for=\"sk-estimator-id-1\" class=\"sk-toggleable__label fitted sk-toggleable__label-arrow\"><div><div>GridSearchCV</div></div><div><a class=\"sk-estimator-doc-link fitted\" rel=\"noreferrer\" target=\"_blank\" href=\"https://scikit-learn.org/1.6/modules/generated/sklearn.model_selection.GridSearchCV.html\">?<span>Documentation for GridSearchCV</span></a><span class=\"sk-estimator-doc-link fitted\">i<span>Fitted</span></span></div></label><div class=\"sk-toggleable__content fitted\"><pre>GridSearchCV(cv=5, estimator=LogisticRegression(),\n",
              "             param_grid={&#x27;C&#x27;: [0.01, 1, 100], &#x27;max_iter&#x27;: [1000, 5000, 10000]})</pre></div> </div></div><div class=\"sk-parallel\"><div class=\"sk-parallel-item\"><div class=\"sk-item\"><div class=\"sk-label-container\"><div class=\"sk-label fitted sk-toggleable\"><input class=\"sk-toggleable__control sk-hidden--visually\" id=\"sk-estimator-id-2\" type=\"checkbox\" ><label for=\"sk-estimator-id-2\" class=\"sk-toggleable__label fitted sk-toggleable__label-arrow\"><div><div>best_estimator_: LogisticRegression</div></div></label><div class=\"sk-toggleable__content fitted\"><pre>LogisticRegression(C=100, max_iter=1000)</pre></div> </div></div><div class=\"sk-serial\"><div class=\"sk-item\"><div class=\"sk-estimator fitted sk-toggleable\"><input class=\"sk-toggleable__control sk-hidden--visually\" id=\"sk-estimator-id-3\" type=\"checkbox\" ><label for=\"sk-estimator-id-3\" class=\"sk-toggleable__label fitted sk-toggleable__label-arrow\"><div><div>LogisticRegression</div></div><div><a class=\"sk-estimator-doc-link fitted\" rel=\"noreferrer\" target=\"_blank\" href=\"https://scikit-learn.org/1.6/modules/generated/sklearn.linear_model.LogisticRegression.html\">?<span>Documentation for LogisticRegression</span></a></div></label><div class=\"sk-toggleable__content fitted\"><pre>LogisticRegression(C=100, max_iter=1000)</pre></div> </div></div></div></div></div></div></div></div></div>"
            ],
            "text/plain": [
              "GridSearchCV(cv=5, estimator=LogisticRegression(),\n",
              "             param_grid={'C': [0.01, 1, 100], 'max_iter': [1000, 5000, 10000]})"
            ]
          },
          "execution_count": 42,
          "metadata": {},
          "output_type": "execute_result"
        }
      ],
      "source": [
        "logistic = LogisticRegression()\n",
        "grid_logistic = GridSearchCV(logistic, param_grid_logistic, cv=5)\n",
        "grid_logistic.fit(X_train, y_train)"
      ]
    },
    {
      "cell_type": "code",
      "execution_count": null,
      "metadata": {
        "id": "Wwntcv88O51e"
      },
      "outputs": [],
      "source": [
        "evaluator_knn = GridSearchCV(KNeighborsClassifier(), param_grid_knn, cv=5)\n",
        "evaluator_knn.fit(X_train, y_train)"
      ]
    },
    {
      "cell_type": "code",
      "execution_count": null,
      "metadata": {
        "id": "1JFHN0H0ZYLX"
      },
      "outputs": [],
      "source": [
        "def build_nn(units1=128, units2=64, units3=32,\n",
        "             dropout1=0.3, dropout2=0.2, dropout3=0.2,\n",
        "             learning_rate=0.001):\n",
        "    model = Sequential([\n",
        "        Dense(units1, activation='relu', input_shape=(X_train.shape[1],)),\n",
        "        BatchNormalization(),\n",
        "        Dropout(dropout1),\n",
        "        Dense(units2, activation='relu'),\n",
        "        BatchNormalization(),\n",
        "        Dropout(dropout2),\n",
        "        Dense(units3, activation='relu'),\n",
        "        BatchNormalization(),\n",
        "        Dropout(dropout3),\n",
        "        Dense(y_train.shape[1] if y_train.ndim>1 else len(np.unique(y_train)), activation='softmax')\n",
        "    ])\n",
        "    optimizer = tf.keras.optimizers.Adam(learning_rate=learning_rate)\n",
        "    model.compile(optimizer=optimizer,\n",
        "                  loss='categorical_crossentropy',\n",
        "                  metrics=['accuracy'])\n",
        "    return model"
      ]
    },
    {
      "cell_type": "code",
      "execution_count": null,
      "metadata": {
        "id": "QpNAFNsYZoe7"
      },
      "outputs": [],
      "source": [
        "y_train = tf.keras.utils.to_categorical(y_train, num_classes=4)\n",
        "y_test = tf.keras.utils.to_categorical(y_test, num_classes=4)"
      ]
    },
    {
      "cell_type": "code",
      "execution_count": null,
      "metadata": {
        "id": "JqCVK2BbZr4v"
      },
      "outputs": [],
      "source": [
        "nn_clf = KerasClassifier(\n",
        "    build_fn=build_nn,\n",
        "    epochs=20,\n",
        "    batch_size=256,\n",
        "    verbose=0,\n",
        "    callbacks=[\n",
        "        tf.keras.callbacks.EarlyStopping(patience=5, restore_best_weights=True)\n",
        "    ]\n",
        ")"
      ]
    },
    {
      "cell_type": "code",
      "execution_count": null,
      "metadata": {
        "id": "YPclKKKvZveK"
      },
      "outputs": [],
      "source": [
        "neuralNParams = {\n",
        "    'units1': [64, 128],\n",
        "    'units2': [32, 64],\n",
        "    'units3': [16, 32],\n",
        "    'dropout1': [0.2, 0.3],\n",
        "    'dropout2': [0.2],\n",
        "    'dropout3': [0.2],\n",
        "    'learning_rate': [0.001, 0.0001],\n",
        "    'batch_size': [128, 256]\n",
        "\n",
        "}"
      ]
    },
    {
      "cell_type": "code",
      "execution_count": null,
      "metadata": {
        "id": "BkSrHvVxZytK"
      },
      "outputs": [],
      "source": []
    },
    {
      "cell_type": "code",
      "execution_count": null,
      "metadata": {
        "id": "aR6my25FQ2cb"
      },
      "outputs": [],
      "source": [
        "models = {\n",
        "    'LogisticRegression': grid_logistic.best_estimator_,\n",
        "    'KNN': evaluator_knn.best_estimator_,\n",
        "}"
      ]
    },
    {
      "cell_type": "code",
      "execution_count": null,
      "metadata": {
        "id": "c4euFBtTROx4"
      },
      "outputs": [],
      "source": [
        "results = []\n",
        "for name, model in models.items():\n",
        "    y_pred = model.predict(X_test)\n",
        "    acc = accuracy_score(y_test, y_pred)\n",
        "    prec = precision_score(y_test, y_pred, average='weighted')\n",
        "    rec = recall_score(y_test, y_pred, average='weighted')\n",
        "    f1 = f1_score(y_test, y_pred, average='weighted')\n",
        "    results.append({'Model': name, 'Accuracy': acc, 'Precision': prec, 'Recall': rec, 'F1-score': f1})\n",
        "\n",
        "results_df = pd.DataFrame(results)"
      ]
    },
    {
      "cell_type": "code",
      "execution_count": null,
      "metadata": {
        "colab": {
          "base_uri": "https://localhost:8080/",
          "height": 125
        },
        "id": "BNuUCUVoRcNG",
        "outputId": "68c2d700-cfed-4da7-fe70-79ca1590d1be"
      },
      "outputs": [
        {
          "data": {
            "application/vnd.google.colaboratory.intrinsic+json": {
              "summary": "{\n  \"name\": \"results_df\",\n  \"rows\": 2,\n  \"fields\": [\n    {\n      \"column\": \"Model\",\n      \"properties\": {\n        \"dtype\": \"string\",\n        \"num_unique_values\": 2,\n        \"samples\": [\n          \"KNN\",\n          \"LogisticRegression\"\n        ],\n        \"semantic_type\": \"\",\n        \"description\": \"\"\n      }\n    },\n    {\n      \"column\": \"Accuracy\",\n      \"properties\": {\n        \"dtype\": \"number\",\n        \"std\": 0.05815878712711756,\n        \"min\": 0.8706213168207245,\n        \"max\": 0.952870262347064,\n        \"num_unique_values\": 2,\n        \"samples\": [\n          0.952870262347064,\n          0.8706213168207245\n        ],\n        \"semantic_type\": \"\",\n        \"description\": \"\"\n      }\n    },\n    {\n      \"column\": \"Precision\",\n      \"properties\": {\n        \"dtype\": \"number\",\n        \"std\": 0.05828450870911793,\n        \"min\": 0.8703847675284428,\n        \"max\": 0.9528115102211302,\n        \"num_unique_values\": 2,\n        \"samples\": [\n          0.9528115102211302,\n          0.8703847675284428\n        ],\n        \"semantic_type\": \"\",\n        \"description\": \"\"\n      }\n    },\n    {\n      \"column\": \"Recall\",\n      \"properties\": {\n        \"dtype\": \"number\",\n        \"std\": 0.05815878712711756,\n        \"min\": 0.8706213168207245,\n        \"max\": 0.952870262347064,\n        \"num_unique_values\": 2,\n        \"samples\": [\n          0.952870262347064,\n          0.8706213168207245\n        ],\n        \"semantic_type\": \"\",\n        \"description\": \"\"\n      }\n    },\n    {\n      \"column\": \"F1-score\",\n      \"properties\": {\n        \"dtype\": \"number\",\n        \"std\": 0.05813960902269271,\n        \"min\": 0.8704860321990524,\n        \"max\": 0.9527078557900136,\n        \"num_unique_values\": 2,\n        \"samples\": [\n          0.9527078557900136,\n          0.8704860321990524\n        ],\n        \"semantic_type\": \"\",\n        \"description\": \"\"\n      }\n    }\n  ]\n}",
              "type": "dataframe",
              "variable_name": "results_df"
            },
            "text/html": [
              "\n",
              "  <div id=\"df-33fe6c0c-ce7f-4cfc-9672-9622c4910cdc\" class=\"colab-df-container\">\n",
              "    <div>\n",
              "<style scoped>\n",
              "    .dataframe tbody tr th:only-of-type {\n",
              "        vertical-align: middle;\n",
              "    }\n",
              "\n",
              "    .dataframe tbody tr th {\n",
              "        vertical-align: top;\n",
              "    }\n",
              "\n",
              "    .dataframe thead th {\n",
              "        text-align: right;\n",
              "    }\n",
              "</style>\n",
              "<table border=\"1\" class=\"dataframe\">\n",
              "  <thead>\n",
              "    <tr style=\"text-align: right;\">\n",
              "      <th></th>\n",
              "      <th>Model</th>\n",
              "      <th>Accuracy</th>\n",
              "      <th>Precision</th>\n",
              "      <th>Recall</th>\n",
              "      <th>F1-score</th>\n",
              "    </tr>\n",
              "  </thead>\n",
              "  <tbody>\n",
              "    <tr>\n",
              "      <th>0</th>\n",
              "      <td>LogisticRegression</td>\n",
              "      <td>0.870621</td>\n",
              "      <td>0.870385</td>\n",
              "      <td>0.870621</td>\n",
              "      <td>0.870486</td>\n",
              "    </tr>\n",
              "    <tr>\n",
              "      <th>1</th>\n",
              "      <td>KNN</td>\n",
              "      <td>0.952870</td>\n",
              "      <td>0.952812</td>\n",
              "      <td>0.952870</td>\n",
              "      <td>0.952708</td>\n",
              "    </tr>\n",
              "  </tbody>\n",
              "</table>\n",
              "</div>\n",
              "    <div class=\"colab-df-buttons\">\n",
              "\n",
              "  <div class=\"colab-df-container\">\n",
              "    <button class=\"colab-df-convert\" onclick=\"convertToInteractive('df-33fe6c0c-ce7f-4cfc-9672-9622c4910cdc')\"\n",
              "            title=\"Convert this dataframe to an interactive table.\"\n",
              "            style=\"display:none;\">\n",
              "\n",
              "  <svg xmlns=\"http://www.w3.org/2000/svg\" height=\"24px\" viewBox=\"0 -960 960 960\">\n",
              "    <path d=\"M120-120v-720h720v720H120Zm60-500h600v-160H180v160Zm220 220h160v-160H400v160Zm0 220h160v-160H400v160ZM180-400h160v-160H180v160Zm440 0h160v-160H620v160ZM180-180h160v-160H180v160Zm440 0h160v-160H620v160Z\"/>\n",
              "  </svg>\n",
              "    </button>\n",
              "\n",
              "  <style>\n",
              "    .colab-df-container {\n",
              "      display:flex;\n",
              "      gap: 12px;\n",
              "    }\n",
              "\n",
              "    .colab-df-convert {\n",
              "      background-color: #E8F0FE;\n",
              "      border: none;\n",
              "      border-radius: 50%;\n",
              "      cursor: pointer;\n",
              "      display: none;\n",
              "      fill: #1967D2;\n",
              "      height: 32px;\n",
              "      padding: 0 0 0 0;\n",
              "      width: 32px;\n",
              "    }\n",
              "\n",
              "    .colab-df-convert:hover {\n",
              "      background-color: #E2EBFA;\n",
              "      box-shadow: 0px 1px 2px rgba(60, 64, 67, 0.3), 0px 1px 3px 1px rgba(60, 64, 67, 0.15);\n",
              "      fill: #174EA6;\n",
              "    }\n",
              "\n",
              "    .colab-df-buttons div {\n",
              "      margin-bottom: 4px;\n",
              "    }\n",
              "\n",
              "    [theme=dark] .colab-df-convert {\n",
              "      background-color: #3B4455;\n",
              "      fill: #D2E3FC;\n",
              "    }\n",
              "\n",
              "    [theme=dark] .colab-df-convert:hover {\n",
              "      background-color: #434B5C;\n",
              "      box-shadow: 0px 1px 3px 1px rgba(0, 0, 0, 0.15);\n",
              "      filter: drop-shadow(0px 1px 2px rgba(0, 0, 0, 0.3));\n",
              "      fill: #FFFFFF;\n",
              "    }\n",
              "  </style>\n",
              "\n",
              "    <script>\n",
              "      const buttonEl =\n",
              "        document.querySelector('#df-33fe6c0c-ce7f-4cfc-9672-9622c4910cdc button.colab-df-convert');\n",
              "      buttonEl.style.display =\n",
              "        google.colab.kernel.accessAllowed ? 'block' : 'none';\n",
              "\n",
              "      async function convertToInteractive(key) {\n",
              "        const element = document.querySelector('#df-33fe6c0c-ce7f-4cfc-9672-9622c4910cdc');\n",
              "        const dataTable =\n",
              "          await google.colab.kernel.invokeFunction('convertToInteractive',\n",
              "                                                    [key], {});\n",
              "        if (!dataTable) return;\n",
              "\n",
              "        const docLinkHtml = 'Like what you see? Visit the ' +\n",
              "          '<a target=\"_blank\" href=https://colab.research.google.com/notebooks/data_table.ipynb>data table notebook</a>'\n",
              "          + ' to learn more about interactive tables.';\n",
              "        element.innerHTML = '';\n",
              "        dataTable['output_type'] = 'display_data';\n",
              "        await google.colab.output.renderOutput(dataTable, element);\n",
              "        const docLink = document.createElement('div');\n",
              "        docLink.innerHTML = docLinkHtml;\n",
              "        element.appendChild(docLink);\n",
              "      }\n",
              "    </script>\n",
              "  </div>\n",
              "\n",
              "\n",
              "    <div id=\"df-fa95a6f1-bce1-46c9-821c-1a043ecdb0b5\">\n",
              "      <button class=\"colab-df-quickchart\" onclick=\"quickchart('df-fa95a6f1-bce1-46c9-821c-1a043ecdb0b5')\"\n",
              "                title=\"Suggest charts\"\n",
              "                style=\"display:none;\">\n",
              "\n",
              "<svg xmlns=\"http://www.w3.org/2000/svg\" height=\"24px\"viewBox=\"0 0 24 24\"\n",
              "     width=\"24px\">\n",
              "    <g>\n",
              "        <path d=\"M19 3H5c-1.1 0-2 .9-2 2v14c0 1.1.9 2 2 2h14c1.1 0 2-.9 2-2V5c0-1.1-.9-2-2-2zM9 17H7v-7h2v7zm4 0h-2V7h2v10zm4 0h-2v-4h2v4z\"/>\n",
              "    </g>\n",
              "</svg>\n",
              "      </button>\n",
              "\n",
              "<style>\n",
              "  .colab-df-quickchart {\n",
              "      --bg-color: #E8F0FE;\n",
              "      --fill-color: #1967D2;\n",
              "      --hover-bg-color: #E2EBFA;\n",
              "      --hover-fill-color: #174EA6;\n",
              "      --disabled-fill-color: #AAA;\n",
              "      --disabled-bg-color: #DDD;\n",
              "  }\n",
              "\n",
              "  [theme=dark] .colab-df-quickchart {\n",
              "      --bg-color: #3B4455;\n",
              "      --fill-color: #D2E3FC;\n",
              "      --hover-bg-color: #434B5C;\n",
              "      --hover-fill-color: #FFFFFF;\n",
              "      --disabled-bg-color: #3B4455;\n",
              "      --disabled-fill-color: #666;\n",
              "  }\n",
              "\n",
              "  .colab-df-quickchart {\n",
              "    background-color: var(--bg-color);\n",
              "    border: none;\n",
              "    border-radius: 50%;\n",
              "    cursor: pointer;\n",
              "    display: none;\n",
              "    fill: var(--fill-color);\n",
              "    height: 32px;\n",
              "    padding: 0;\n",
              "    width: 32px;\n",
              "  }\n",
              "\n",
              "  .colab-df-quickchart:hover {\n",
              "    background-color: var(--hover-bg-color);\n",
              "    box-shadow: 0 1px 2px rgba(60, 64, 67, 0.3), 0 1px 3px 1px rgba(60, 64, 67, 0.15);\n",
              "    fill: var(--button-hover-fill-color);\n",
              "  }\n",
              "\n",
              "  .colab-df-quickchart-complete:disabled,\n",
              "  .colab-df-quickchart-complete:disabled:hover {\n",
              "    background-color: var(--disabled-bg-color);\n",
              "    fill: var(--disabled-fill-color);\n",
              "    box-shadow: none;\n",
              "  }\n",
              "\n",
              "  .colab-df-spinner {\n",
              "    border: 2px solid var(--fill-color);\n",
              "    border-color: transparent;\n",
              "    border-bottom-color: var(--fill-color);\n",
              "    animation:\n",
              "      spin 1s steps(1) infinite;\n",
              "  }\n",
              "\n",
              "  @keyframes spin {\n",
              "    0% {\n",
              "      border-color: transparent;\n",
              "      border-bottom-color: var(--fill-color);\n",
              "      border-left-color: var(--fill-color);\n",
              "    }\n",
              "    20% {\n",
              "      border-color: transparent;\n",
              "      border-left-color: var(--fill-color);\n",
              "      border-top-color: var(--fill-color);\n",
              "    }\n",
              "    30% {\n",
              "      border-color: transparent;\n",
              "      border-left-color: var(--fill-color);\n",
              "      border-top-color: var(--fill-color);\n",
              "      border-right-color: var(--fill-color);\n",
              "    }\n",
              "    40% {\n",
              "      border-color: transparent;\n",
              "      border-right-color: var(--fill-color);\n",
              "      border-top-color: var(--fill-color);\n",
              "    }\n",
              "    60% {\n",
              "      border-color: transparent;\n",
              "      border-right-color: var(--fill-color);\n",
              "    }\n",
              "    80% {\n",
              "      border-color: transparent;\n",
              "      border-right-color: var(--fill-color);\n",
              "      border-bottom-color: var(--fill-color);\n",
              "    }\n",
              "    90% {\n",
              "      border-color: transparent;\n",
              "      border-bottom-color: var(--fill-color);\n",
              "    }\n",
              "  }\n",
              "</style>\n",
              "\n",
              "      <script>\n",
              "        async function quickchart(key) {\n",
              "          const quickchartButtonEl =\n",
              "            document.querySelector('#' + key + ' button');\n",
              "          quickchartButtonEl.disabled = true;  // To prevent multiple clicks.\n",
              "          quickchartButtonEl.classList.add('colab-df-spinner');\n",
              "          try {\n",
              "            const charts = await google.colab.kernel.invokeFunction(\n",
              "                'suggestCharts', [key], {});\n",
              "          } catch (error) {\n",
              "            console.error('Error during call to suggestCharts:', error);\n",
              "          }\n",
              "          quickchartButtonEl.classList.remove('colab-df-spinner');\n",
              "          quickchartButtonEl.classList.add('colab-df-quickchart-complete');\n",
              "        }\n",
              "        (() => {\n",
              "          let quickchartButtonEl =\n",
              "            document.querySelector('#df-fa95a6f1-bce1-46c9-821c-1a043ecdb0b5 button');\n",
              "          quickchartButtonEl.style.display =\n",
              "            google.colab.kernel.accessAllowed ? 'block' : 'none';\n",
              "        })();\n",
              "      </script>\n",
              "    </div>\n",
              "\n",
              "  <div id=\"id_4182d108-6026-4deb-b653-cd5b14086828\">\n",
              "    <style>\n",
              "      .colab-df-generate {\n",
              "        background-color: #E8F0FE;\n",
              "        border: none;\n",
              "        border-radius: 50%;\n",
              "        cursor: pointer;\n",
              "        display: none;\n",
              "        fill: #1967D2;\n",
              "        height: 32px;\n",
              "        padding: 0 0 0 0;\n",
              "        width: 32px;\n",
              "      }\n",
              "\n",
              "      .colab-df-generate:hover {\n",
              "        background-color: #E2EBFA;\n",
              "        box-shadow: 0px 1px 2px rgba(60, 64, 67, 0.3), 0px 1px 3px 1px rgba(60, 64, 67, 0.15);\n",
              "        fill: #174EA6;\n",
              "      }\n",
              "\n",
              "      [theme=dark] .colab-df-generate {\n",
              "        background-color: #3B4455;\n",
              "        fill: #D2E3FC;\n",
              "      }\n",
              "\n",
              "      [theme=dark] .colab-df-generate:hover {\n",
              "        background-color: #434B5C;\n",
              "        box-shadow: 0px 1px 3px 1px rgba(0, 0, 0, 0.15);\n",
              "        filter: drop-shadow(0px 1px 2px rgba(0, 0, 0, 0.3));\n",
              "        fill: #FFFFFF;\n",
              "      }\n",
              "    </style>\n",
              "    <button class=\"colab-df-generate\" onclick=\"generateWithVariable('results_df')\"\n",
              "            title=\"Generate code using this dataframe.\"\n",
              "            style=\"display:none;\">\n",
              "\n",
              "  <svg xmlns=\"http://www.w3.org/2000/svg\" height=\"24px\"viewBox=\"0 0 24 24\"\n",
              "       width=\"24px\">\n",
              "    <path d=\"M7,19H8.4L18.45,9,17,7.55,7,17.6ZM5,21V16.75L18.45,3.32a2,2,0,0,1,2.83,0l1.4,1.43a1.91,1.91,0,0,1,.58,1.4,1.91,1.91,0,0,1-.58,1.4L9.25,21ZM18.45,9,17,7.55Zm-12,3A5.31,5.31,0,0,0,4.9,8.1,5.31,5.31,0,0,0,1,6.5,5.31,5.31,0,0,0,4.9,4.9,5.31,5.31,0,0,0,6.5,1,5.31,5.31,0,0,0,8.1,4.9,5.31,5.31,0,0,0,12,6.5,5.46,5.46,0,0,0,6.5,12Z\"/>\n",
              "  </svg>\n",
              "    </button>\n",
              "    <script>\n",
              "      (() => {\n",
              "      const buttonEl =\n",
              "        document.querySelector('#id_4182d108-6026-4deb-b653-cd5b14086828 button.colab-df-generate');\n",
              "      buttonEl.style.display =\n",
              "        google.colab.kernel.accessAllowed ? 'block' : 'none';\n",
              "\n",
              "      buttonEl.onclick = () => {\n",
              "        google.colab.notebook.generateWithVariable('results_df');\n",
              "      }\n",
              "      })();\n",
              "    </script>\n",
              "  </div>\n",
              "\n",
              "    </div>\n",
              "  </div>\n"
            ],
            "text/plain": [
              "                Model  Accuracy  Precision    Recall  F1-score\n",
              "0  LogisticRegression  0.870621   0.870385  0.870621  0.870486\n",
              "1                 KNN  0.952870   0.952812  0.952870  0.952708"
            ]
          },
          "execution_count": 45,
          "metadata": {},
          "output_type": "execute_result"
        }
      ],
      "source": [
        "results_df"
      ]
    },
    {
      "cell_type": "code",
      "execution_count": null,
      "metadata": {
        "colab": {
          "base_uri": "https://localhost:8080/",
          "height": 508
        },
        "id": "i96PBmyxRbiC",
        "outputId": "a0da8695-fa09-48ae-f900-5d9548ef47ae"
      },
      "outputs": [
        {
          "data": {
            "image/png": "[encoded data removed]",
            "text/plain": [
              "<Figure size 1000x600 with 1 Axes>"
            ]
          },
          "metadata": {},
          "output_type": "display_data"
        }
      ],
      "source": [
        "def plot_metrics(df):\n",
        "    df.set_index('Model', inplace=True)\n",
        "    df.plot(kind='bar', figsize=(10,6), xlabel='Model', ylabel='Score', legend=True)\n",
        "    plt.title('Comparison of Model Performance')\n",
        "    plt.show()\n",
        "\n",
        "plot_metrics(results_df.copy())"
      ]
    },
    {
      "cell_type": "code",
      "execution_count": null,
      "metadata": {
        "id": "fYfx9AqfXIFB"
      },
      "outputs": [],
      "source": [
        "X_test.to_csv('test.csv')"
      ]
    },
    {
      "cell_type": "markdown",
      "metadata": {
        "id": "fSMmFBQiD2de"
      },
      "source": [
        "# ***Train Test Split Ratio (60:40)***"
      ]
    },
    {
      "cell_type": "code",
      "execution_count": null,
      "metadata": {
        "id": "7ZpFkJuAUp2-"
      },
      "outputs": [],
      "source": [
        "X_train_2, X_test_2, y_train_2, y_test_2 = train_test_split(X_normalized, y_resampled, test_size=0.4, random_state=42)"
      ]
    },
    {
      "cell_type": "markdown",
      "metadata": {
        "id": "0eHW9o2WII_Z"
      },
      "source": [
        "## Logistic Regression"
      ]
    },
    {
      "cell_type": "code",
      "source": [
        "# Initialize data structures to store results\n",
        "logistic_results = []\n",
        "knn_results = []\n",
        "ann_results = []"
      ],
      "metadata": {
        "id": "_YWeopm6zg6Y"
      },
      "execution_count": null,
      "outputs": []
    },
    {
      "cell_type": "code",
      "source": [
        "C_values = [0.01, 1, 100]\n",
        "max_iters = [2000, 5000, 10000]\n",
        "\n",
        "print(\"Logistic Regression Results\")\n",
        "for c, max_iter in zip(C_values, max_iters):\n",
        "    model = LogisticRegression(multi_class='multinomial', random_state=42, C=c, max_iter=max_iter)\n",
        "    model.fit(X_train_2, y_train_2)\n",
        "    train_acc = model.score(X_train_2, y_train_2)\n",
        "    test_pred = model.predict(X_test_2)\n",
        "    test_acc = accuracy_score(y_test_2, test_pred)\n",
        "    logistic_results.append({\n",
        "        'C': c,\n",
        "        'max_iter': max_iter,\n",
        "        'train_acc': train_acc,\n",
        "        'test_acc': test_acc\n",
        "    })\n",
        "    print(f\"\\nC={c}, max_iter={max_iter}\")\n",
        "    print(f\"Train Accuracy: {train_acc:.4f}\")\n",
        "    print(f\"Test Accuracy: {test_acc:.4f}\")\n",
        "    print(f\"Precision (Macro): {precision_score(y_test_2, test_pred, average='macro'):.4f}\")\n",
        "    print(f\"Recall (Macro):    {recall_score(y_test_2, test_pred, average='macro'):.4f}\")\n",
        "    print(f\"F1 Score (Macro):  {f1_score(y_test_2, test_pred, average='macro'):.4f}\")\n",
        "    print(\"Classification Report\",classification_report(y_test_2, test_pred))"
      ],
      "metadata": {
        "colab": {
          "base_uri": "https://localhost:8080/"
        },
        "id": "oOYudlXyzqTn",
        "outputId": "f9e96bf0-ab1b-4342-f0c4-265d69b9dac0"
      },
      "execution_count": null,
      "outputs": [
        {
          "output_type": "stream",
          "name": "stdout",
          "text": [
            "Logistic Regression Results\n",
            "\n",
            "C=0.01, max_iter=2000\n",
            "Train Accuracy: 0.8675\n",
            "Test Accuracy: 0.8683\n",
            "Precision (Macro): 0.8675\n",
            "Recall (Macro):    0.8683\n",
            "F1 Score (Macro):  0.8679\n",
            "Classification Report               precision    recall  f1-score   support\n",
            "\n",
            "           0       0.74      0.73      0.74     33438\n",
            "           1       0.98      1.00      0.99     33507\n",
            "           2       0.75      0.75      0.75     33425\n",
            "           3       1.00      0.99      0.99     33346\n",
            "\n",
            "    accuracy                           0.87    133716\n",
            "   macro avg       0.87      0.87      0.87    133716\n",
            "weighted avg       0.87      0.87      0.87    133716\n",
            "\n",
            "\n",
            "C=1, max_iter=5000\n",
            "Train Accuracy: 0.8705\n",
            "Test Accuracy: 0.8709\n",
            "Precision (Macro): 0.8706\n",
            "Recall (Macro):    0.8709\n",
            "F1 Score (Macro):  0.8707\n",
            "Classification Report               precision    recall  f1-score   support\n",
            "\n",
            "           0       0.75      0.74      0.74     33438\n",
            "           1       0.99      1.00      1.00     33507\n",
            "           2       0.75      0.75      0.75     33425\n",
            "           3       1.00      0.99      0.99     33346\n",
            "\n",
            "    accuracy                           0.87    133716\n",
            "   macro avg       0.87      0.87      0.87    133716\n",
            "weighted avg       0.87      0.87      0.87    133716\n",
            "\n",
            "\n",
            "C=100, max_iter=10000\n",
            "Train Accuracy: 0.8707\n",
            "Test Accuracy: 0.8710\n",
            "Precision (Macro): 0.8708\n",
            "Recall (Macro):    0.8711\n",
            "F1 Score (Macro):  0.8709\n",
            "Classification Report               precision    recall  f1-score   support\n",
            "\n",
            "           0       0.75      0.74      0.74     33438\n",
            "           1       0.99      1.00      1.00     33507\n",
            "           2       0.75      0.75      0.75     33425\n",
            "           3       1.00      0.99      0.99     33346\n",
            "\n",
            "    accuracy                           0.87    133716\n",
            "   macro avg       0.87      0.87      0.87    133716\n",
            "weighted avg       0.87      0.87      0.87    133716\n",
            "\n"
          ]
        }
      ]
    },
    {
      "cell_type": "markdown",
      "metadata": {
        "id": "cvY4kfb_Kyds"
      },
      "source": [
        "## KNN"
      ]
    },
    {
      "cell_type": "code",
      "source": [
        "n_neighbors_list = [3, 5, 7]\n",
        "algorithms = ['ball_tree', 'kd_tree', 'brute']\n",
        "\n",
        "print(\"\\nKNN Classifier Results\")\n",
        "for n, algo in zip(n_neighbors_list, algorithms):\n",
        "    model = KNeighborsClassifier(n_neighbors=n, algorithm=algo)\n",
        "    model.fit(X_train_2, y_train_2)\n",
        "    train_acc = model.score(X_train_2, y_train_2)\n",
        "    test_pred = model.predict(X_test_2)\n",
        "    test_acc = accuracy_score(y_test_2, test_pred)\n",
        "    knn_results.append({\n",
        "        'n': n,\n",
        "        'algo': algo,\n",
        "        'train_acc': train_acc,\n",
        "        'test_acc': test_acc\n",
        "    })\n",
        "    print(f\"\\nK={n}, Algorithm={algo}\")\n",
        "    print(f\"Train Accuracy: {train_acc:.4f}\")\n",
        "    print(f\"Test Accuracy: {test_acc:.4f}\")\n",
        "    print(f\"Precision (Macro): {precision_score(y_test_2, test_pred, average='macro'):.4f}\")\n",
        "    print(f\"Recall (Macro):    {recall_score(y_test_2, test_pred, average='macro'):.4f}\")\n",
        "    print(f\"F1 Score (Macro):  {f1_score(y_test_2, test_pred, average='macro'):.4f}\")\n",
        "    print(\"Classification Report\",classification_report(y_test_2, test_pred))"
      ],
      "metadata": {
        "colab": {
          "base_uri": "https://localhost:8080/"
        },
        "id": "_8yB_zrez7oX",
        "outputId": "1b1739d7-88e4-40be-caa5-19e30b52c9a3"
      },
      "execution_count": null,
      "outputs": [
        {
          "output_type": "stream",
          "name": "stdout",
          "text": [
            "\n",
            "KNN Classifier Results\n",
            "\n",
            "K=3, Algorithm=ball_tree\n",
            "Train Accuracy: 0.9763\n",
            "Test Accuracy: 0.9459\n",
            "Precision (Macro): 0.9456\n",
            "Recall (Macro):    0.9459\n",
            "F1 Score (Macro):  0.9457\n",
            "Classification Report               precision    recall  f1-score   support\n",
            "\n",
            "           0       0.91      0.88      0.89     33438\n",
            "           1       0.98      1.00      0.99     33507\n",
            "           2       0.89      0.91      0.90     33425\n",
            "           3       1.00      1.00      1.00     33346\n",
            "\n",
            "    accuracy                           0.95    133716\n",
            "   macro avg       0.95      0.95      0.95    133716\n",
            "weighted avg       0.95      0.95      0.95    133716\n",
            "\n",
            "\n",
            "K=5, Algorithm=kd_tree\n",
            "Train Accuracy: 0.9642\n",
            "Test Accuracy: 0.9412\n",
            "Precision (Macro): 0.9408\n",
            "Recall (Macro):    0.9412\n",
            "F1 Score (Macro):  0.9409\n",
            "Classification Report               precision    recall  f1-score   support\n",
            "\n",
            "           0       0.90      0.87      0.88     33438\n",
            "           1       0.98      1.00      0.99     33507\n",
            "           2       0.89      0.90      0.89     33425\n",
            "           3       1.00      1.00      1.00     33346\n",
            "\n",
            "    accuracy                           0.94    133716\n",
            "   macro avg       0.94      0.94      0.94    133716\n",
            "weighted avg       0.94      0.94      0.94    133716\n",
            "\n",
            "\n",
            "K=7, Algorithm=brute\n",
            "Train Accuracy: 0.9561\n",
            "Test Accuracy: 0.9373\n",
            "Precision (Macro): 0.9367\n",
            "Recall (Macro):    0.9373\n",
            "F1 Score (Macro):  0.9369\n",
            "Classification Report               precision    recall  f1-score   support\n",
            "\n",
            "           0       0.89      0.87      0.88     33438\n",
            "           1       0.98      1.00      0.99     33507\n",
            "           2       0.88      0.89      0.88     33425\n",
            "           3       1.00      1.00      1.00     33346\n",
            "\n",
            "    accuracy                           0.94    133716\n",
            "   macro avg       0.94      0.94      0.94    133716\n",
            "weighted avg       0.94      0.94      0.94    133716\n",
            "\n"
          ]
        }
      ]
    },
    {
      "cell_type": "markdown",
      "metadata": {
        "id": "qFUavYfRM6Nq"
      },
      "source": [
        "## Neural Network"
      ]
    },
    {
      "cell_type": "markdown",
      "metadata": {
        "id": "5-iVOKPSRBaL"
      },
      "source": [
        "### Basic (128-64-32)"
      ]
    },
    {
      "cell_type": "code",
      "execution_count": null,
      "metadata": {
        "id": "wq5p8fYRNSbr"
      },
      "outputs": [],
      "source": [
        "y_train_2 = tf.keras.utils.to_categorical(y_train_2, num_classes=4)\n",
        "y_test_2 = tf.keras.utils.to_categorical(y_test_2, num_classes=4)"
      ]
    },
    {
      "cell_type": "code",
      "source": [
        "model1 = Sequential([\n",
        "    Dense(128, activation='relu', input_shape=(X_train_2.shape[1],)),\n",
        "    Dense(64, activation='relu'),\n",
        "    Dense(32, activation='relu'),\n",
        "    Dense(4, activation='softmax')\n",
        "])\n",
        "model1.compile(optimizer='adam', loss='categorical_crossentropy', metrics=['accuracy'])\n",
        "history1 = model1.fit(X_train_2, y_train_2, epochs=50, batch_size=256, validation_split=0.2,\n",
        "                     callbacks=[tf.keras.callbacks.EarlyStopping(patience=5, restore_best_weights=True)],\n",
        "                     verbose=1)\n",
        "\n",
        "# Store results\n",
        "train_acc1 = model1.evaluate(X_train_2, y_train_2, verbose=0)[1]\n",
        "test_acc1 = model1.evaluate(X_test_2, y_test_2, verbose=0)[1]\n",
        "ann_results.append({\n",
        "    'arch': 'Basic (128-64-32)',\n",
        "    'train_acc': train_acc1,\n",
        "    'test_acc': test_acc1,\n",
        "    'history': history1\n",
        "})\n",
        "\n",
        "# Plot for Model 1\n",
        "plt.figure(figsize=(12, 4))\n",
        "plt.subplot(1, 2, 1)\n",
        "plt.plot(history1.history['accuracy'], label='Train')\n",
        "plt.plot(history1.history['val_accuracy'], label='Validation')\n",
        "plt.title('Model 1: Training History\\n(Basic Architecture)')\n",
        "plt.subplot(1, 2, 2)\n",
        "plt.bar(['Train', 'Test'], [train_acc1, test_acc1], color=['blue', 'orange'])\n",
        "plt.tight_layout()\n",
        "plt.show()\n"
      ],
      "metadata": {
        "colab": {
          "base_uri": "https://localhost:8080/",
          "height": 1000
        },
        "id": "E4yLAKAGDuem",
        "outputId": "9b08107e-4e20-44f1-cccf-3a167f02ea5c"
      },
      "execution_count": null,
      "outputs": [
        {
          "output_type": "stream",
          "name": "stdout",
          "text": [
            "Epoch 1/50\n",
            "\u001b[1m627/627\u001b[0m \u001b[32m━━━━━━━━━━━━━━━━━━━━\u001b[0m\u001b[37m\u001b[0m \u001b[1m7s\u001b[0m 6ms/step - accuracy: 0.8261 - loss: 0.4070 - val_accuracy: 0.9271 - val_loss: 0.1721\n",
            "Epoch 2/50\n",
            "\u001b[1m627/627\u001b[0m \u001b[32m━━━━━━━━━━━━━━━━━━━━\u001b[0m\u001b[37m\u001b[0m \u001b[1m2s\u001b[0m 3ms/step - accuracy: 0.9329 - loss: 0.1590 - val_accuracy: 0.9436 - val_loss: 0.1377\n",
            "Epoch 3/50\n",
            "\u001b[1m627/627\u001b[0m \u001b[32m━━━━━━━━━━━━━━━━━━━━\u001b[0m\u001b[37m\u001b[0m \u001b[1m2s\u001b[0m 3ms/step - accuracy: 0.9440 - loss: 0.1336 - val_accuracy: 0.9463 - val_loss: 0.1284\n",
            "Epoch 4/50\n",
            "\u001b[1m627/627\u001b[0m \u001b[32m━━━━━━━━━━━━━━━━━━━━\u001b[0m\u001b[37m\u001b[0m \u001b[1m2s\u001b[0m 3ms/step - accuracy: 0.9469 - loss: 0.1254 - val_accuracy: 0.9493 - val_loss: 0.1237\n",
            "Epoch 5/50\n",
            "\u001b[1m627/627\u001b[0m \u001b[32m━━━━━━━━━━━━━━━━━━━━\u001b[0m\u001b[37m\u001b[0m \u001b[1m3s\u001b[0m 5ms/step - accuracy: 0.9490 - loss: 0.1185 - val_accuracy: 0.9507 - val_loss: 0.1191\n",
            "Epoch 6/50\n",
            "\u001b[1m627/627\u001b[0m \u001b[32m━━━━━━━━━━━━━━━━━━━━\u001b[0m\u001b[37m\u001b[0m \u001b[1m4s\u001b[0m 4ms/step - accuracy: 0.9510 - loss: 0.1159 - val_accuracy: 0.9473 - val_loss: 0.1199\n",
            "Epoch 7/50\n",
            "\u001b[1m627/627\u001b[0m \u001b[32m━━━━━━━━━━━━━━━━━━━━\u001b[0m\u001b[37m\u001b[0m \u001b[1m2s\u001b[0m 3ms/step - accuracy: 0.9525 - loss: 0.1114 - val_accuracy: 0.9536 - val_loss: 0.1135\n",
            "Epoch 8/50\n",
            "\u001b[1m627/627\u001b[0m \u001b[32m━━━━━━━━━━━━━━━━━━━━\u001b[0m\u001b[37m\u001b[0m \u001b[1m2s\u001b[0m 3ms/step - accuracy: 0.9531 - loss: 0.1095 - val_accuracy: 0.9509 - val_loss: 0.1174\n",
            "Epoch 9/50\n",
            "\u001b[1m627/627\u001b[0m \u001b[32m━━━━━━━━━━━━━━━━━━━━\u001b[0m\u001b[37m\u001b[0m \u001b[1m2s\u001b[0m 3ms/step - accuracy: 0.9536 - loss: 0.1076 - val_accuracy: 0.9495 - val_loss: 0.1144\n",
            "Epoch 10/50\n",
            "\u001b[1m627/627\u001b[0m \u001b[32m━━━━━━━━━━━━━━━━━━━━\u001b[0m\u001b[37m\u001b[0m \u001b[1m3s\u001b[0m 4ms/step - accuracy: 0.9549 - loss: 0.1044 - val_accuracy: 0.9520 - val_loss: 0.1106\n",
            "Epoch 11/50\n",
            "\u001b[1m627/627\u001b[0m \u001b[32m━━━━━━━━━━━━━━━━━━━━\u001b[0m\u001b[37m\u001b[0m \u001b[1m2s\u001b[0m 3ms/step - accuracy: 0.9562 - loss: 0.1025 - val_accuracy: 0.9535 - val_loss: 0.1109\n",
            "Epoch 12/50\n",
            "\u001b[1m627/627\u001b[0m \u001b[32m━━━━━━━━━━━━━━━━━━━━\u001b[0m\u001b[37m\u001b[0m \u001b[1m3s\u001b[0m 3ms/step - accuracy: 0.9556 - loss: 0.1026 - val_accuracy: 0.9537 - val_loss: 0.1113\n",
            "Epoch 13/50\n",
            "\u001b[1m627/627\u001b[0m \u001b[32m━━━━━━━━━━━━━━━━━━━━\u001b[0m\u001b[37m\u001b[0m \u001b[1m3s\u001b[0m 3ms/step - accuracy: 0.9576 - loss: 0.0993 - val_accuracy: 0.9531 - val_loss: 0.1124\n",
            "Epoch 14/50\n",
            "\u001b[1m627/627\u001b[0m \u001b[32m━━━━━━━━━━━━━━━━━━━━\u001b[0m\u001b[37m\u001b[0m \u001b[1m2s\u001b[0m 3ms/step - accuracy: 0.9573 - loss: 0.0996 - val_accuracy: 0.9563 - val_loss: 0.1049\n",
            "Epoch 15/50\n",
            "\u001b[1m627/627\u001b[0m \u001b[32m━━━━━━━━━━━━━━━━━━━━\u001b[0m\u001b[37m\u001b[0m \u001b[1m2s\u001b[0m 3ms/step - accuracy: 0.9580 - loss: 0.0985 - val_accuracy: 0.9532 - val_loss: 0.1073\n",
            "Epoch 16/50\n",
            "\u001b[1m627/627\u001b[0m \u001b[32m━━━━━━━━━━━━━━━━━━━━\u001b[0m\u001b[37m\u001b[0m \u001b[1m2s\u001b[0m 3ms/step - accuracy: 0.9586 - loss: 0.0961 - val_accuracy: 0.9528 - val_loss: 0.1099\n",
            "Epoch 17/50\n",
            "\u001b[1m627/627\u001b[0m \u001b[32m━━━━━━━━━━━━━━━━━━━━\u001b[0m\u001b[37m\u001b[0m \u001b[1m2s\u001b[0m 3ms/step - accuracy: 0.9587 - loss: 0.0961 - val_accuracy: 0.9549 - val_loss: 0.1086\n",
            "Epoch 18/50\n",
            "\u001b[1m627/627\u001b[0m \u001b[32m━━━━━━━━━━━━━━━━━━━━\u001b[0m\u001b[37m\u001b[0m \u001b[1m3s\u001b[0m 3ms/step - accuracy: 0.9591 - loss: 0.0950 - val_accuracy: 0.9568 - val_loss: 0.1030\n",
            "Epoch 19/50\n",
            "\u001b[1m627/627\u001b[0m \u001b[32m━━━━━━━━━━━━━━━━━━━━\u001b[0m\u001b[37m\u001b[0m \u001b[1m2s\u001b[0m 3ms/step - accuracy: 0.9591 - loss: 0.0946 - val_accuracy: 0.9580 - val_loss: 0.1012\n",
            "Epoch 20/50\n",
            "\u001b[1m627/627\u001b[0m \u001b[32m━━━━━━━━━━━━━━━━━━━━\u001b[0m\u001b[37m\u001b[0m \u001b[1m2s\u001b[0m 4ms/step - accuracy: 0.9593 - loss: 0.0952 - val_accuracy: 0.9564 - val_loss: 0.1032\n",
            "Epoch 21/50\n",
            "\u001b[1m627/627\u001b[0m \u001b[32m━━━━━━━━━━━━━━━━━━━━\u001b[0m\u001b[37m\u001b[0m \u001b[1m2s\u001b[0m 3ms/step - accuracy: 0.9607 - loss: 0.0920 - val_accuracy: 0.9514 - val_loss: 0.1110\n",
            "Epoch 22/50\n",
            "\u001b[1m627/627\u001b[0m \u001b[32m━━━━━━━━━━━━━━━━━━━━\u001b[0m\u001b[37m\u001b[0m \u001b[1m2s\u001b[0m 3ms/step - accuracy: 0.9602 - loss: 0.0931 - val_accuracy: 0.9538 - val_loss: 0.1076\n",
            "Epoch 23/50\n",
            "\u001b[1m627/627\u001b[0m \u001b[32m━━━━━━━━━━━━━━━━━━━━\u001b[0m\u001b[37m\u001b[0m \u001b[1m2s\u001b[0m 3ms/step - accuracy: 0.9601 - loss: 0.0929 - val_accuracy: 0.9590 - val_loss: 0.0978\n",
            "Epoch 24/50\n",
            "\u001b[1m627/627\u001b[0m \u001b[32m━━━━━━━━━━━━━━━━━━━━\u001b[0m\u001b[37m\u001b[0m \u001b[1m2s\u001b[0m 3ms/step - accuracy: 0.9605 - loss: 0.0912 - val_accuracy: 0.9582 - val_loss: 0.1008\n",
            "Epoch 25/50\n",
            "\u001b[1m627/627\u001b[0m \u001b[32m━━━━━━━━━━━━━━━━━━━━\u001b[0m\u001b[37m\u001b[0m \u001b[1m2s\u001b[0m 3ms/step - accuracy: 0.9613 - loss: 0.0899 - val_accuracy: 0.9592 - val_loss: 0.0984\n",
            "Epoch 26/50\n",
            "\u001b[1m627/627\u001b[0m \u001b[32m━━━━━━━━━━━━━━━━━━━━\u001b[0m\u001b[37m\u001b[0m \u001b[1m3s\u001b[0m 4ms/step - accuracy: 0.9624 - loss: 0.0883 - val_accuracy: 0.9559 - val_loss: 0.1042\n",
            "Epoch 27/50\n",
            "\u001b[1m627/627\u001b[0m \u001b[32m━━━━━━━━━━━━━━━━━━━━\u001b[0m\u001b[37m\u001b[0m \u001b[1m2s\u001b[0m 3ms/step - accuracy: 0.9615 - loss: 0.0902 - val_accuracy: 0.9583 - val_loss: 0.0987\n",
            "Epoch 28/50\n",
            "\u001b[1m627/627\u001b[0m \u001b[32m━━━━━━━━━━━━━━━━━━━━\u001b[0m\u001b[37m\u001b[0m \u001b[1m2s\u001b[0m 3ms/step - accuracy: 0.9612 - loss: 0.0898 - val_accuracy: 0.9586 - val_loss: 0.0999\n"
          ]
        },
        {
          "output_type": "display_data",
          "data": {
            "text/plain": [
              "<Figure size 1200x400 with 2 Axes>"
            ],
            "image/png": "[encoded data removed]"
          },
          "metadata": {}
        }
      ]
    },
    {
      "cell_type": "code",
      "execution_count": null,
      "metadata": {
        "colab": {
          "base_uri": "https://localhost:8080/"
        },
        "id": "sezjQfg2OPWx",
        "outputId": "d2004fa4-c93f-45a9-94e6-bf070c935e6c"
      },
      "outputs": [
        {
          "output_type": "stream",
          "name": "stdout",
          "text": [
            "Test Accuracy for the test data is 0.9583\n"
          ]
        }
      ],
      "source": [
        "test_loss, test_acc = model1.evaluate(X_test_2, y_test_2, verbose=0)\n",
        "print(f\"Test Accuracy for the test data is {test_acc:.4f}\")"
      ]
    },
    {
      "cell_type": "code",
      "execution_count": null,
      "metadata": {
        "colab": {
          "base_uri": "https://localhost:8080/"
        },
        "id": "XV_fGASdQiwi",
        "outputId": "17e2ee61-4ae1-4a5e-c9a6-e1947e5c6e08"
      },
      "outputs": [
        {
          "output_type": "stream",
          "name": "stdout",
          "text": [
            "\u001b[1m4179/4179\u001b[0m \u001b[32m━━━━━━━━━━━━━━━━━━━━\u001b[0m\u001b[37m\u001b[0m \u001b[1m6s\u001b[0m 1ms/step\n",
            "              precision    recall  f1-score   support\n",
            "\n",
            "      Cloudy     0.8949    0.9444    0.9190     33438\n",
            "       Windy     0.9972    0.9994    0.9983     33507\n",
            "   Clear/Dry     0.9446    0.8893    0.9161     33425\n",
            "       Rainy     0.9989    1.0000    0.9995     33346\n",
            "\n",
            "    accuracy                         0.9583    133716\n",
            "   macro avg     0.9589    0.9583    0.9582    133716\n",
            "weighted avg     0.9589    0.9583    0.9582    133716\n",
            "\n"
          ]
        }
      ],
      "source": [
        "y_pred = model1.predict(X_test_2)\n",
        "y_pred_classes = np.argmax(y_pred, axis=1)\n",
        "y_true_classes = np.argmax(y_test_2, axis=1)\n",
        "\n",
        "print(classification_report(\n",
        "    y_true_classes,\n",
        "    y_pred_classes,\n",
        "    target_names=['Cloudy', 'Windy', 'Clear/Dry', 'Rainy'],\n",
        "    digits=4\n",
        "))"
      ]
    },
    {
      "cell_type": "markdown",
      "metadata": {
        "id": "LP-TocWxRHUL"
      },
      "source": [
        "### With BatchNorm & Dropout (128-64-32)"
      ]
    },
    {
      "cell_type": "code",
      "source": [
        "model2 = Sequential([\n",
        "    Dense(128, activation='relu', input_shape=(X_train_2.shape[1],)),\n",
        "    BatchNormalization(),\n",
        "    Dropout(0.3),\n",
        "    Dense(64, activation='relu'),\n",
        "    BatchNormalization(),\n",
        "    Dropout(0.2),\n",
        "    Dense(32, activation='relu'),\n",
        "    BatchNormalization(),\n",
        "    Dropout(0.2),\n",
        "    Dense(4, activation='softmax')\n",
        "])\n",
        "model2.compile(optimizer='adam', loss='categorical_crossentropy', metrics=['accuracy'])\n",
        "history2 = model2.fit(X_train_2, y_train_2, epochs=50, batch_size=256, validation_split=0.2,\n",
        "                     callbacks=[tf.keras.callbacks.EarlyStopping(patience=5, restore_best_weights=True)],\n",
        "                     verbose=1)\n",
        "\n",
        "# Store results\n",
        "train_acc2 = model2.evaluate(X_train_2, y_train_2, verbose=0)[1]\n",
        "test_acc2 = model2.evaluate(X_test_2, y_test_2, verbose=0)[1]\n",
        "ann_results.append({\n",
        "    'arch': 'With BatchNorm & Dropout',\n",
        "    'train_acc': train_acc2,\n",
        "    'test_acc': test_acc2,\n",
        "    'history': history2\n",
        "})\n",
        "\n",
        "# Plot for Model 2\n",
        "plt.figure(figsize=(12, 4))\n",
        "plt.subplot(1, 2, 1)\n",
        "plt.plot(history2.history['accuracy'], label='Train')\n",
        "plt.plot(history2.history['val_accuracy'], label='Validation')\n",
        "plt.title('Model 2: Training History\\n(With BatchNorm & Dropout)')\n",
        "plt.subplot(1, 2, 2)\n",
        "plt.bar(['Train', 'Test'], [train_acc2, test_acc2], color=['blue', 'orange'])\n",
        "plt.tight_layout()\n",
        "plt.show()"
      ],
      "metadata": {
        "colab": {
          "base_uri": "https://localhost:8080/",
          "height": 1000
        },
        "id": "O38FjW6pFLHs",
        "outputId": "af5e3828-ddcc-4cb2-a595-4ea52b948aaa"
      },
      "execution_count": null,
      "outputs": [
        {
          "output_type": "stream",
          "name": "stdout",
          "text": [
            "Epoch 1/50\n",
            "\u001b[1m627/627\u001b[0m \u001b[32m━━━━━━━━━━━━━━━━━━━━\u001b[0m\u001b[37m\u001b[0m \u001b[1m11s\u001b[0m 9ms/step - accuracy: 0.7952 - loss: 0.4913 - val_accuracy: 0.9078 - val_loss: 0.2128\n",
            "Epoch 2/50\n",
            "\u001b[1m627/627\u001b[0m \u001b[32m━━━━━━━━━━━━━━━━━━━━\u001b[0m\u001b[37m\u001b[0m \u001b[1m2s\u001b[0m 3ms/step - accuracy: 0.8966 - loss: 0.2369 - val_accuracy: 0.9243 - val_loss: 0.1807\n",
            "Epoch 3/50\n",
            "\u001b[1m627/627\u001b[0m \u001b[32m━━━━━━━━━━━━━━━━━━━━\u001b[0m\u001b[37m\u001b[0m \u001b[1m3s\u001b[0m 3ms/step - accuracy: 0.9097 - loss: 0.2087 - val_accuracy: 0.9350 - val_loss: 0.1550\n",
            "Epoch 4/50\n",
            "\u001b[1m627/627\u001b[0m \u001b[32m━━━━━━━━━━━━━━━━━━━━\u001b[0m\u001b[37m\u001b[0m \u001b[1m2s\u001b[0m 3ms/step - accuracy: 0.9183 - loss: 0.1907 - val_accuracy: 0.9388 - val_loss: 0.1473\n",
            "Epoch 5/50\n",
            "\u001b[1m627/627\u001b[0m \u001b[32m━━━━━━━━━━━━━━━━━━━━\u001b[0m\u001b[37m\u001b[0m \u001b[1m3s\u001b[0m 4ms/step - accuracy: 0.9228 - loss: 0.1779 - val_accuracy: 0.9402 - val_loss: 0.1416\n",
            "Epoch 6/50\n",
            "\u001b[1m627/627\u001b[0m \u001b[32m━━━━━━━━━━━━━━━━━━━━\u001b[0m\u001b[37m\u001b[0m \u001b[1m3s\u001b[0m 4ms/step - accuracy: 0.9270 - loss: 0.1694 - val_accuracy: 0.9411 - val_loss: 0.1372\n",
            "Epoch 7/50\n",
            "\u001b[1m627/627\u001b[0m \u001b[32m━━━━━━━━━━━━━━━━━━━━\u001b[0m\u001b[37m\u001b[0m \u001b[1m2s\u001b[0m 3ms/step - accuracy: 0.9294 - loss: 0.1636 - val_accuracy: 0.9427 - val_loss: 0.1327\n",
            "Epoch 8/50\n",
            "\u001b[1m627/627\u001b[0m \u001b[32m━━━━━━━━━━━━━━━━━━━━\u001b[0m\u001b[37m\u001b[0m \u001b[1m2s\u001b[0m 4ms/step - accuracy: 0.9322 - loss: 0.1589 - val_accuracy: 0.9465 - val_loss: 0.1281\n",
            "Epoch 9/50\n",
            "\u001b[1m627/627\u001b[0m \u001b[32m━━━━━━━━━━━━━━━━━━━━\u001b[0m\u001b[37m\u001b[0m \u001b[1m3s\u001b[0m 4ms/step - accuracy: 0.9358 - loss: 0.1517 - val_accuracy: 0.9477 - val_loss: 0.1266\n",
            "Epoch 10/50\n",
            "\u001b[1m627/627\u001b[0m \u001b[32m━━━━━━━━━━━━━━━━━━━━\u001b[0m\u001b[37m\u001b[0m \u001b[1m3s\u001b[0m 4ms/step - accuracy: 0.9357 - loss: 0.1512 - val_accuracy: 0.9489 - val_loss: 0.1244\n",
            "Epoch 11/50\n",
            "\u001b[1m627/627\u001b[0m \u001b[32m━━━━━━━━━━━━━━━━━━━━\u001b[0m\u001b[37m\u001b[0m \u001b[1m5s\u001b[0m 4ms/step - accuracy: 0.9359 - loss: 0.1485 - val_accuracy: 0.9461 - val_loss: 0.1249\n",
            "Epoch 12/50\n",
            "\u001b[1m627/627\u001b[0m \u001b[32m━━━━━━━━━━━━━━━━━━━━\u001b[0m\u001b[37m\u001b[0m \u001b[1m3s\u001b[0m 4ms/step - accuracy: 0.9377 - loss: 0.1459 - val_accuracy: 0.9483 - val_loss: 0.1248\n",
            "Epoch 13/50\n",
            "\u001b[1m627/627\u001b[0m \u001b[32m━━━━━━━━━━━━━━━━━━━━\u001b[0m\u001b[37m\u001b[0m \u001b[1m2s\u001b[0m 3ms/step - accuracy: 0.9383 - loss: 0.1439 - val_accuracy: 0.9490 - val_loss: 0.1174\n",
            "Epoch 14/50\n",
            "\u001b[1m627/627\u001b[0m \u001b[32m━━━━━━━━━━━━━━━━━━━━\u001b[0m\u001b[37m\u001b[0m \u001b[1m3s\u001b[0m 4ms/step - accuracy: 0.9405 - loss: 0.1395 - val_accuracy: 0.9502 - val_loss: 0.1170\n",
            "Epoch 15/50\n",
            "\u001b[1m627/627\u001b[0m \u001b[32m━━━━━━━━━━━━━━━━━━━━\u001b[0m\u001b[37m\u001b[0m \u001b[1m5s\u001b[0m 4ms/step - accuracy: 0.9409 - loss: 0.1395 - val_accuracy: 0.9504 - val_loss: 0.1143\n",
            "Epoch 16/50\n",
            "\u001b[1m627/627\u001b[0m \u001b[32m━━━━━━━━━━━━━━━━━━━━\u001b[0m\u001b[37m\u001b[0m \u001b[1m2s\u001b[0m 3ms/step - accuracy: 0.9420 - loss: 0.1375 - val_accuracy: 0.9533 - val_loss: 0.1135\n",
            "Epoch 17/50\n",
            "\u001b[1m627/627\u001b[0m \u001b[32m━━━━━━━━━━━━━━━━━━━━\u001b[0m\u001b[37m\u001b[0m \u001b[1m2s\u001b[0m 3ms/step - accuracy: 0.9425 - loss: 0.1336 - val_accuracy: 0.9501 - val_loss: 0.1163\n",
            "Epoch 18/50\n",
            "\u001b[1m627/627\u001b[0m \u001b[32m━━━━━━━━━━━━━━━━━━━━\u001b[0m\u001b[37m\u001b[0m \u001b[1m3s\u001b[0m 5ms/step - accuracy: 0.9427 - loss: 0.1335 - val_accuracy: 0.9543 - val_loss: 0.1119\n",
            "Epoch 19/50\n",
            "\u001b[1m627/627\u001b[0m \u001b[32m━━━━━━━━━━━━━━━━━━━━\u001b[0m\u001b[37m\u001b[0m \u001b[1m2s\u001b[0m 3ms/step - accuracy: 0.9446 - loss: 0.1312 - val_accuracy: 0.9539 - val_loss: 0.1085\n",
            "Epoch 20/50\n",
            "\u001b[1m627/627\u001b[0m \u001b[32m━━━━━━━━━━━━━━━━━━━━\u001b[0m\u001b[37m\u001b[0m \u001b[1m3s\u001b[0m 3ms/step - accuracy: 0.9455 - loss: 0.1288 - val_accuracy: 0.9537 - val_loss: 0.1109\n",
            "Epoch 21/50\n",
            "\u001b[1m627/627\u001b[0m \u001b[32m━━━━━━━━━━━━━━━━━━━━\u001b[0m\u001b[37m\u001b[0m \u001b[1m2s\u001b[0m 3ms/step - accuracy: 0.9449 - loss: 0.1286 - val_accuracy: 0.9533 - val_loss: 0.1099\n",
            "Epoch 22/50\n",
            "\u001b[1m627/627\u001b[0m \u001b[32m━━━━━━━━━━━━━━━━━━━━\u001b[0m\u001b[37m\u001b[0m \u001b[1m2s\u001b[0m 4ms/step - accuracy: 0.9449 - loss: 0.1291 - val_accuracy: 0.9526 - val_loss: 0.1095\n",
            "Epoch 23/50\n",
            "\u001b[1m627/627\u001b[0m \u001b[32m━━━━━━━━━━━━━━━━━━━━\u001b[0m\u001b[37m\u001b[0m \u001b[1m3s\u001b[0m 4ms/step - accuracy: 0.9465 - loss: 0.1254 - val_accuracy: 0.9551 - val_loss: 0.1075\n",
            "Epoch 24/50\n",
            "\u001b[1m627/627\u001b[0m \u001b[32m━━━━━━━━━━━━━━━━━━━━\u001b[0m\u001b[37m\u001b[0m \u001b[1m4s\u001b[0m 3ms/step - accuracy: 0.9461 - loss: 0.1260 - val_accuracy: 0.9532 - val_loss: 0.1099\n",
            "Epoch 25/50\n",
            "\u001b[1m627/627\u001b[0m \u001b[32m━━━━━━━━━━━━━━━━━━━━\u001b[0m\u001b[37m\u001b[0m \u001b[1m2s\u001b[0m 3ms/step - accuracy: 0.9465 - loss: 0.1260 - val_accuracy: 0.9549 - val_loss: 0.1081\n",
            "Epoch 26/50\n",
            "\u001b[1m627/627\u001b[0m \u001b[32m━━━━━━━━━━━━━━━━━━━━\u001b[0m\u001b[37m\u001b[0m \u001b[1m2s\u001b[0m 3ms/step - accuracy: 0.9477 - loss: 0.1230 - val_accuracy: 0.9541 - val_loss: 0.1071\n",
            "Epoch 27/50\n",
            "\u001b[1m627/627\u001b[0m \u001b[32m━━━━━━━━━━━━━━━━━━━━\u001b[0m\u001b[37m\u001b[0m \u001b[1m3s\u001b[0m 4ms/step - accuracy: 0.9455 - loss: 0.1265 - val_accuracy: 0.9554 - val_loss: 0.1059\n",
            "Epoch 28/50\n",
            "\u001b[1m627/627\u001b[0m \u001b[32m━━━━━━━━━━━━━━━━━━━━\u001b[0m\u001b[37m\u001b[0m \u001b[1m4s\u001b[0m 3ms/step - accuracy: 0.9475 - loss: 0.1221 - val_accuracy: 0.9539 - val_loss: 0.1065\n",
            "Epoch 29/50\n",
            "\u001b[1m627/627\u001b[0m \u001b[32m━━━━━━━━━━━━━━━━━━━━\u001b[0m\u001b[37m\u001b[0m \u001b[1m3s\u001b[0m 3ms/step - accuracy: 0.9481 - loss: 0.1209 - val_accuracy: 0.9546 - val_loss: 0.1069\n",
            "Epoch 30/50\n",
            "\u001b[1m627/627\u001b[0m \u001b[32m━━━━━━━━━━━━━━━━━━━━\u001b[0m\u001b[37m\u001b[0m \u001b[1m2s\u001b[0m 3ms/step - accuracy: 0.9477 - loss: 0.1220 - val_accuracy: 0.9557 - val_loss: 0.1048\n",
            "Epoch 31/50\n",
            "\u001b[1m627/627\u001b[0m \u001b[32m━━━━━━━━━━━━━━━━━━━━\u001b[0m\u001b[37m\u001b[0m \u001b[1m3s\u001b[0m 4ms/step - accuracy: 0.9481 - loss: 0.1221 - val_accuracy: 0.9541 - val_loss: 0.1070\n",
            "Epoch 32/50\n",
            "\u001b[1m627/627\u001b[0m \u001b[32m━━━━━━━━━━━━━━━━━━━━\u001b[0m\u001b[37m\u001b[0m \u001b[1m2s\u001b[0m 3ms/step - accuracy: 0.9491 - loss: 0.1203 - val_accuracy: 0.9556 - val_loss: 0.1039\n",
            "Epoch 33/50\n",
            "\u001b[1m627/627\u001b[0m \u001b[32m━━━━━━━━━━━━━━━━━━━━\u001b[0m\u001b[37m\u001b[0m \u001b[1m3s\u001b[0m 4ms/step - accuracy: 0.9478 - loss: 0.1203 - val_accuracy: 0.9562 - val_loss: 0.1035\n",
            "Epoch 34/50\n",
            "\u001b[1m627/627\u001b[0m \u001b[32m━━━━━━━━━━━━━━━━━━━━\u001b[0m\u001b[37m\u001b[0m \u001b[1m2s\u001b[0m 3ms/step - accuracy: 0.9498 - loss: 0.1189 - val_accuracy: 0.9558 - val_loss: 0.1032\n",
            "Epoch 35/50\n",
            "\u001b[1m627/627\u001b[0m \u001b[32m━━━━━━━━━━━━━━━━━━━━\u001b[0m\u001b[37m\u001b[0m \u001b[1m3s\u001b[0m 4ms/step - accuracy: 0.9474 - loss: 0.1201 - val_accuracy: 0.9552 - val_loss: 0.1052\n",
            "Epoch 36/50\n",
            "\u001b[1m627/627\u001b[0m \u001b[32m━━━━━━━━━━━━━━━━━━━━\u001b[0m\u001b[37m\u001b[0m \u001b[1m3s\u001b[0m 5ms/step - accuracy: 0.9488 - loss: 0.1193 - val_accuracy: 0.9576 - val_loss: 0.1013\n",
            "Epoch 37/50\n",
            "\u001b[1m627/627\u001b[0m \u001b[32m━━━━━━━━━━━━━━━━━━━━\u001b[0m\u001b[37m\u001b[0m \u001b[1m4s\u001b[0m 3ms/step - accuracy: 0.9483 - loss: 0.1200 - val_accuracy: 0.9560 - val_loss: 0.1043\n",
            "Epoch 38/50\n",
            "\u001b[1m627/627\u001b[0m \u001b[32m━━━━━━━━━━━━━━━━━━━━\u001b[0m\u001b[37m\u001b[0m \u001b[1m2s\u001b[0m 3ms/step - accuracy: 0.9505 - loss: 0.1173 - val_accuracy: 0.9564 - val_loss: 0.1016\n",
            "Epoch 39/50\n",
            "\u001b[1m627/627\u001b[0m \u001b[32m━━━━━━━━━━━━━━━━━━━━\u001b[0m\u001b[37m\u001b[0m \u001b[1m2s\u001b[0m 3ms/step - accuracy: 0.9501 - loss: 0.1167 - val_accuracy: 0.9565 - val_loss: 0.1013\n",
            "Epoch 40/50\n",
            "\u001b[1m627/627\u001b[0m \u001b[32m━━━━━━━━━━━━━━━━━━━━\u001b[0m\u001b[37m\u001b[0m \u001b[1m3s\u001b[0m 4ms/step - accuracy: 0.9480 - loss: 0.1191 - val_accuracy: 0.9567 - val_loss: 0.1021\n",
            "Epoch 41/50\n",
            "\u001b[1m627/627\u001b[0m \u001b[32m━━━━━━━━━━━━━━━━━━━━\u001b[0m\u001b[37m\u001b[0m \u001b[1m2s\u001b[0m 4ms/step - accuracy: 0.9500 - loss: 0.1174 - val_accuracy: 0.9559 - val_loss: 0.1032\n"
          ]
        },
        {
          "output_type": "display_data",
          "data": {
            "text/plain": [
              "<Figure size 1200x400 with 2 Axes>"
            ],
            "image/png": "[encoded data removed]"
          },
          "metadata": {}
        }
      ]
    },
    {
      "cell_type": "code",
      "execution_count": null,
      "metadata": {
        "colab": {
          "base_uri": "https://localhost:8080/"
        },
        "id": "J3eE41vqaVGr",
        "outputId": "d27ef274-181a-4c93-d7a3-8f75b365a30d"
      },
      "outputs": [
        {
          "output_type": "stream",
          "name": "stdout",
          "text": [
            "Train Accuracy: 0.957436740398407\n",
            "Test Accuracy: 0.956534743309021\n",
            "\u001b[1m4179/4179\u001b[0m \u001b[32m━━━━━━━━━━━━━━━━━━━━\u001b[0m\u001b[37m\u001b[0m \u001b[1m7s\u001b[0m 2ms/step\n",
            "              precision    recall  f1-score   support\n",
            "\n",
            "      Cloudy     0.8801    0.9569    0.9169     33438\n",
            "       Windy     0.9981    0.9996    0.9988     33507\n",
            "   Clear/Dry     0.9553    0.8696    0.9105     33425\n",
            "       Rainy     0.9991    1.0000    0.9995     33346\n",
            "\n",
            "    accuracy                         0.9565    133716\n",
            "   macro avg     0.9582    0.9565    0.9564    133716\n",
            "weighted avg     0.9582    0.9565    0.9564    133716\n",
            "\n"
          ]
        }
      ],
      "source": [
        "print(f\"Train Accuracy: {train_acc2}\")\n",
        "print(f\"Test Accuracy: {test_acc2}\")\n",
        "\n",
        "y_pred2 = model2.predict(X_test_2)\n",
        "y_pred_classes = np.argmax(y_pred2, axis=1)\n",
        "y_true_classes = np.argmax(y_test_2, axis=1)\n",
        "print(classification_report(\n",
        "    y_true_classes,\n",
        "    y_pred_classes,\n",
        "    target_names=['Cloudy', 'Windy', 'Clear/Dry', 'Rainy'],\n",
        "    digits=4\n",
        "))"
      ]
    },
    {
      "cell_type": "markdown",
      "metadata": {
        "id": "xMIZU0JJU7Nj"
      },
      "source": [
        "### Smaller with BatchNorm (64-32-16)"
      ]
    },
    {
      "cell_type": "code",
      "source": [
        "model3 = Sequential([\n",
        "    Dense(64, activation='relu', input_shape=(X_train_2.shape[1],)),\n",
        "    BatchNormalization(),\n",
        "    Dense(32, activation='relu'),\n",
        "    BatchNormalization(),\n",
        "    Dense(16, activation='relu'),\n",
        "    BatchNormalization(),\n",
        "    Dense(4, activation='softmax')\n",
        "])\n",
        "model3.compile(optimizer='adam', loss='categorical_crossentropy', metrics=['accuracy'])\n",
        "history3 = model3.fit(X_train_2, y_train_2, epochs=50, batch_size=256, validation_split=0.2,\n",
        "                     callbacks=[tf.keras.callbacks.EarlyStopping(patience=5, restore_best_weights=True)],\n",
        "                     verbose=1)\n",
        "\n",
        "# Store results\n",
        "train_acc3 = model3.evaluate(X_train_2, y_train_2, verbose=0)[1]\n",
        "test_acc3 = model3.evaluate(X_test_2, y_test_2, verbose=0)[1]\n",
        "ann_results.append({\n",
        "    'arch': 'Smaller with BatchNorm',\n",
        "    'train_acc': train_acc3,\n",
        "    'test_acc': test_acc3,\n",
        "    'history': history3\n",
        "})\n",
        "\n",
        "# Plot for Model 3\n",
        "plt.figure(figsize=(12, 4))\n",
        "plt.subplot(1, 2, 1)\n",
        "plt.plot(history3.history['accuracy'], label='Train')\n",
        "plt.plot(history3.history['val_accuracy'], label='Validation')\n",
        "plt.title('Model 3: Training History\\n(Smaller with BatchNorm)')\n",
        "plt.subplot(1, 2, 2)\n",
        "plt.bar(['Train', 'Test'], [train_acc3, test_acc3], color=['blue', 'orange'])\n",
        "plt.tight_layout()\n",
        "plt.show()"
      ],
      "metadata": {
        "colab": {
          "base_uri": "https://localhost:8080/",
          "height": 1000
        },
        "id": "IB3MttWDHA6z",
        "outputId": "f03795f7-487b-489a-d6b6-7dc8f83216ea"
      },
      "execution_count": null,
      "outputs": [
        {
          "output_type": "stream",
          "name": "stdout",
          "text": [
            "Epoch 1/50\n",
            "\u001b[1m627/627\u001b[0m \u001b[32m━━━━━━━━━━━━━━━━━━━━\u001b[0m\u001b[37m\u001b[0m \u001b[1m12s\u001b[0m 14ms/step - accuracy: 0.8047 - loss: 0.4847 - val_accuracy: 0.9199 - val_loss: 0.1913\n",
            "Epoch 2/50\n",
            "\u001b[1m627/627\u001b[0m \u001b[32m━━━━━━━━━━━━━━━━━━━━\u001b[0m\u001b[37m\u001b[0m \u001b[1m4s\u001b[0m 6ms/step - accuracy: 0.9249 - loss: 0.1768 - val_accuracy: 0.9360 - val_loss: 0.1499\n",
            "Epoch 3/50\n",
            "\u001b[1m627/627\u001b[0m \u001b[32m━━━━━━━━━━━━━━━━━━━━\u001b[0m\u001b[37m\u001b[0m \u001b[1m4s\u001b[0m 4ms/step - accuracy: 0.9354 - loss: 0.1515 - val_accuracy: 0.9426 - val_loss: 0.1391\n",
            "Epoch 4/50\n",
            "\u001b[1m627/627\u001b[0m \u001b[32m━━━━━━━━━━━━━━━━━━━━\u001b[0m\u001b[37m\u001b[0m \u001b[1m2s\u001b[0m 3ms/step - accuracy: 0.9395 - loss: 0.1402 - val_accuracy: 0.9465 - val_loss: 0.1288\n",
            "Epoch 5/50\n",
            "\u001b[1m627/627\u001b[0m \u001b[32m━━━━━━━━━━━━━━━━━━━━\u001b[0m\u001b[37m\u001b[0m \u001b[1m3s\u001b[0m 4ms/step - accuracy: 0.9433 - loss: 0.1319 - val_accuracy: 0.9486 - val_loss: 0.1230\n",
            "Epoch 6/50\n",
            "\u001b[1m627/627\u001b[0m \u001b[32m━━━━━━━━━━━━━━━━━━━━\u001b[0m\u001b[37m\u001b[0m \u001b[1m4s\u001b[0m 3ms/step - accuracy: 0.9457 - loss: 0.1272 - val_accuracy: 0.9488 - val_loss: 0.1184\n",
            "Epoch 7/50\n",
            "\u001b[1m627/627\u001b[0m \u001b[32m━━━━━━━━━━━━━━━━━━━━\u001b[0m\u001b[37m\u001b[0m \u001b[1m2s\u001b[0m 3ms/step - accuracy: 0.9473 - loss: 0.1223 - val_accuracy: 0.9503 - val_loss: 0.1171\n",
            "Epoch 8/50\n",
            "\u001b[1m627/627\u001b[0m \u001b[32m━━━━━━━━━━━━━━━━━━━━\u001b[0m\u001b[37m\u001b[0m \u001b[1m2s\u001b[0m 3ms/step - accuracy: 0.9488 - loss: 0.1183 - val_accuracy: 0.9512 - val_loss: 0.1157\n",
            "Epoch 9/50\n",
            "\u001b[1m627/627\u001b[0m \u001b[32m━━━━━━━━━━━━━━━━━━━━\u001b[0m\u001b[37m\u001b[0m \u001b[1m3s\u001b[0m 4ms/step - accuracy: 0.9505 - loss: 0.1162 - val_accuracy: 0.9514 - val_loss: 0.1123\n",
            "Epoch 10/50\n",
            "\u001b[1m627/627\u001b[0m \u001b[32m━━━━━━━━━━━━━━━━━━━━\u001b[0m\u001b[37m\u001b[0m \u001b[1m2s\u001b[0m 3ms/step - accuracy: 0.9505 - loss: 0.1153 - val_accuracy: 0.9543 - val_loss: 0.1092\n",
            "Epoch 11/50\n",
            "\u001b[1m627/627\u001b[0m \u001b[32m━━━━━━━━━━━━━━━━━━━━\u001b[0m\u001b[37m\u001b[0m \u001b[1m3s\u001b[0m 4ms/step - accuracy: 0.9499 - loss: 0.1154 - val_accuracy: 0.9508 - val_loss: 0.1170\n",
            "Epoch 12/50\n",
            "\u001b[1m627/627\u001b[0m \u001b[32m━━━━━━━━━━━━━━━━━━━━\u001b[0m\u001b[37m\u001b[0m \u001b[1m2s\u001b[0m 4ms/step - accuracy: 0.9514 - loss: 0.1117 - val_accuracy: 0.9491 - val_loss: 0.1140\n",
            "Epoch 13/50\n",
            "\u001b[1m627/627\u001b[0m \u001b[32m━━━━━━━━━━━━━━━━━━━━\u001b[0m\u001b[37m\u001b[0m \u001b[1m2s\u001b[0m 3ms/step - accuracy: 0.9522 - loss: 0.1109 - val_accuracy: 0.9530 - val_loss: 0.1117\n",
            "Epoch 14/50\n",
            "\u001b[1m627/627\u001b[0m \u001b[32m━━━━━━━━━━━━━━━━━━━━\u001b[0m\u001b[37m\u001b[0m \u001b[1m2s\u001b[0m 4ms/step - accuracy: 0.9519 - loss: 0.1105 - val_accuracy: 0.9563 - val_loss: 0.1053\n",
            "Epoch 15/50\n",
            "\u001b[1m627/627\u001b[0m \u001b[32m━━━━━━━━━━━━━━━━━━━━\u001b[0m\u001b[37m\u001b[0m \u001b[1m2s\u001b[0m 4ms/step - accuracy: 0.9531 - loss: 0.1100 - val_accuracy: 0.9532 - val_loss: 0.1085\n",
            "Epoch 16/50\n",
            "\u001b[1m627/627\u001b[0m \u001b[32m━━━━━━━━━━━━━━━━━━━━\u001b[0m\u001b[37m\u001b[0m \u001b[1m2s\u001b[0m 3ms/step - accuracy: 0.9533 - loss: 0.1083 - val_accuracy: 0.9520 - val_loss: 0.1118\n",
            "Epoch 17/50\n",
            "\u001b[1m627/627\u001b[0m \u001b[32m━━━━━━━━━━━━━━━━━━━━\u001b[0m\u001b[37m\u001b[0m \u001b[1m2s\u001b[0m 3ms/step - accuracy: 0.9534 - loss: 0.1075 - val_accuracy: 0.9548 - val_loss: 0.1068\n",
            "Epoch 18/50\n",
            "\u001b[1m627/627\u001b[0m \u001b[32m━━━━━━━━━━━━━━━━━━━━\u001b[0m\u001b[37m\u001b[0m \u001b[1m2s\u001b[0m 3ms/step - accuracy: 0.9548 - loss: 0.1058 - val_accuracy: 0.9516 - val_loss: 0.1129\n",
            "Epoch 19/50\n",
            "\u001b[1m627/627\u001b[0m \u001b[32m━━━━━━━━━━━━━━━━━━━━\u001b[0m\u001b[37m\u001b[0m \u001b[1m3s\u001b[0m 4ms/step - accuracy: 0.9535 - loss: 0.1072 - val_accuracy: 0.9536 - val_loss: 0.1087\n"
          ]
        },
        {
          "output_type": "display_data",
          "data": {
            "text/plain": [
              "<Figure size 1200x400 with 2 Axes>"
            ],
            "image/png": "[encoded data removed]"
          },
          "metadata": {}
        }
      ]
    },
    {
      "cell_type": "code",
      "execution_count": null,
      "metadata": {
        "colab": {
          "base_uri": "https://localhost:8080/"
        },
        "collapsed": true,
        "id": "XEqBP3uraRJr",
        "outputId": "61c745b6-9f37-475a-8b31-941f8e2df2c6"
      },
      "outputs": [
        {
          "output_type": "stream",
          "name": "stdout",
          "text": [
            "Train Accuracy: 0.9580300450325012\n",
            "Test Accuracy: 0.955053985118866\n",
            "\u001b[1m4179/4179\u001b[0m \u001b[32m━━━━━━━━━━━━━━━━━━━━\u001b[0m\u001b[37m\u001b[0m \u001b[1m7s\u001b[0m 2ms/step\n",
            "              precision    recall  f1-score   support\n",
            "\n",
            "      Cloudy     0.8795    0.9517    0.9142     33438\n",
            "       Windy     0.9976    0.9978    0.9977     33507\n",
            "   Clear/Dry     0.9501    0.8707    0.9087     33425\n",
            "       Rainy     0.9988    1.0000    0.9994     33346\n",
            "\n",
            "    accuracy                         0.9551    133716\n",
            "   macro avg     0.9565    0.9551    0.9550    133716\n",
            "weighted avg     0.9565    0.9551    0.9550    133716\n",
            "\n"
          ]
        }
      ],
      "source": [
        "print(f\"Train Accuracy: {train_acc3}\")\n",
        "print(f\"Test Accuracy: {test_acc3}\")\n",
        "\n",
        "y_pred3 = model3.predict(X_test_2)\n",
        "y_pred_classes = np.argmax(y_pred3, axis=1)\n",
        "y_true_classes = np.argmax(y_test_2, axis=1)\n",
        "\n",
        "print(classification_report(\n",
        "    y_true_classes,\n",
        "    y_pred_classes,\n",
        "    target_names=['Cloudy', 'Windy', 'Clear/Dry', 'Rainy'],\n",
        "    digits=4\n",
        "))"
      ]
    },
    {
      "cell_type": "markdown",
      "source": [
        "## Finding the best model on 60:40 ratio"
      ],
      "metadata": {
        "id": "sMyppYGIIJI7"
      }
    },
    {
      "cell_type": "code",
      "source": [
        "best_lr = max(logistic_results, key=lambda x: x['test_acc'])\n",
        "best_knn = max(knn_results, key=lambda x: x['test_acc'])\n",
        "best_ann = max(ann_results, key=lambda x: x['test_acc'])\n",
        "\n",
        "plt.figure(figsize=(10, 6))\n",
        "models = ['Logistic Regression', 'KNN', 'ANN']\n",
        "accuracies = [best_lr['test_acc'],best_knn['test_acc'],best_ann['test_acc']]\n",
        "\n",
        "bars = plt.bar(models, accuracies, color=['#1f77b4', '#ff7f0e', '#2ca02c'])\n",
        "plt.ylabel('Test Accuracy')\n",
        "plt.title('Best Model Comparison Across Algorithms')\n",
        "plt.ylim(0, 1.05)\n",
        "\n",
        "labels = [\n",
        "    f\"C={best_lr['C']}\\nmax_iter={best_lr['max_iter']}\",\n",
        "    f\"K={best_knn['n']}\\n{algo}\",\n",
        "    best_ann['arch']\n",
        "]\n",
        "\n",
        "for bar, label in zip(bars, labels):\n",
        "    height = bar.get_height()\n",
        "    plt.text(bar.get_x() + bar.get_width()/2., height,\n",
        "             f'{height:.4f}\\n({label})',\n",
        "             ha='center', va='bottom')\n",
        "\n",
        "plt.tight_layout()\n",
        "plt.show()"
      ],
      "metadata": {
        "colab": {
          "base_uri": "https://localhost:8080/",
          "height": 607
        },
        "id": "hPv2KhofIM5a",
        "outputId": "7c5128c3-c7b0-4797-d87d-4884b2f4b9a7"
      },
      "execution_count": null,
      "outputs": [
        {
          "output_type": "display_data",
          "data": {
            "text/plain": [
              "<Figure size 1000x600 with 1 Axes>"
            ],
            "image/png": "[encoded data removed]"
          },
          "metadata": {}
        }
      ]
    },
    {
      "cell_type": "markdown",
      "metadata": {
        "id": "vVInzSnqSCmm"
      },
      "source": [
        "# Train Test Split Ratio (80:20)"
      ]
    },
    {
      "cell_type": "code",
      "execution_count": null,
      "metadata": {
        "id": "5B4mfJOaaR7J"
      },
      "outputs": [],
      "source": [
        "X_train_3, X_test_3, y_train_3, y_test_3 = train_test_split(X_normalized, y_resampled, test_size=0.2, random_state=42)"
      ]
    },
    {
      "cell_type": "code",
      "source": [
        "# Initialize data structures to store results\n",
        "logistic_results = []\n",
        "knn_results = []\n",
        "ann_results = []"
      ],
      "metadata": {
        "id": "kbxbypavKGhL"
      },
      "execution_count": null,
      "outputs": []
    },
    {
      "cell_type": "markdown",
      "metadata": {
        "id": "psfNt3W9TXeW"
      },
      "source": [
        "## Logistic Regression"
      ]
    },
    {
      "cell_type": "code",
      "execution_count": null,
      "metadata": {
        "colab": {
          "base_uri": "https://localhost:8080/"
        },
        "id": "Y3NaFljg3_92",
        "outputId": "3a687a75-607a-4e8e-a468-148a0f16d807"
      },
      "outputs": [
        {
          "output_type": "stream",
          "name": "stdout",
          "text": [
            "Logistic Regression Results\n",
            "\n",
            "C=0.01, max_iter=2000\n",
            "Train Accuracy: 0.8682\n",
            "Test Accuracy: 0.8686\n",
            "Precision (Macro): 0.8674\n",
            "Recall (Macro):    0.8680\n",
            "F1 Score (Macro):  0.8677\n",
            "Classification Report               precision    recall  f1-score   support\n",
            "\n",
            "           0       0.74      0.73      0.74     16679\n",
            "           1       0.98      1.00      0.99     16899\n",
            "           2       0.74      0.75      0.75     16609\n",
            "           3       1.00      0.99      1.00     16671\n",
            "\n",
            "    accuracy                           0.87     66858\n",
            "   macro avg       0.87      0.87      0.87     66858\n",
            "weighted avg       0.87      0.87      0.87     66858\n",
            "\n",
            "\n",
            "C=1, max_iter=5000\n",
            "Train Accuracy: 0.8708\n",
            "Test Accuracy: 0.8705\n",
            "Precision (Macro): 0.8697\n",
            "Recall (Macro):    0.8700\n",
            "F1 Score (Macro):  0.8698\n",
            "Classification Report               precision    recall  f1-score   support\n",
            "\n",
            "           0       0.75      0.73      0.74     16679\n",
            "           1       0.99      1.00      1.00     16899\n",
            "           2       0.74      0.75      0.75     16609\n",
            "           3       1.00      0.99      1.00     16671\n",
            "\n",
            "    accuracy                           0.87     66858\n",
            "   macro avg       0.87      0.87      0.87     66858\n",
            "weighted avg       0.87      0.87      0.87     66858\n",
            "\n",
            "\n",
            "C=100, max_iter=10000\n",
            "Train Accuracy: 0.8711\n",
            "Test Accuracy: 0.8709\n",
            "Precision (Macro): 0.8702\n",
            "Recall (Macro):    0.8704\n",
            "F1 Score (Macro):  0.8703\n",
            "Classification Report               precision    recall  f1-score   support\n",
            "\n",
            "           0       0.75      0.74      0.74     16679\n",
            "           1       0.99      1.00      1.00     16899\n",
            "           2       0.74      0.75      0.75     16609\n",
            "           3       1.00      0.99      1.00     16671\n",
            "\n",
            "    accuracy                           0.87     66858\n",
            "   macro avg       0.87      0.87      0.87     66858\n",
            "weighted avg       0.87      0.87      0.87     66858\n",
            "\n"
          ]
        }
      ],
      "source": [
        "C_values = [0.01, 1, 100]\n",
        "max_iters = [2000, 5000, 10000]\n",
        "\n",
        "print(\"Logistic Regression Results\")\n",
        "for c, max_iter in zip(C_values, max_iters):\n",
        "    model = LogisticRegression(multi_class='multinomial', random_state=42, C=c, max_iter=max_iter)\n",
        "    model.fit(X_train_3, y_train_3)\n",
        "    train_acc = model.score(X_train_3, y_train_3)\n",
        "    test_pred = model.predict(X_test_3)\n",
        "    test_acc = accuracy_score(y_test_3, test_pred)\n",
        "    logistic_results.append({\n",
        "        'C': c,\n",
        "        'max_iter': max_iter,\n",
        "        'train_acc': train_acc,\n",
        "        'test_acc': test_acc\n",
        "    })\n",
        "    print(f\"\\nC={c}, max_iter={max_iter}\")\n",
        "    print(f\"Train Accuracy: {train_acc:.4f}\")\n",
        "    print(f\"Test Accuracy: {test_acc:.4f}\")\n",
        "    print(f\"Precision (Macro): {precision_score(y_test_3, test_pred, average='macro'):.4f}\")\n",
        "    print(f\"Recall (Macro):    {recall_score(y_test_3, test_pred, average='macro'):.4f}\")\n",
        "    print(f\"F1 Score (Macro):  {f1_score(y_test_3, test_pred, average='macro'):.4f}\")\n",
        "    print(\"Classification Report\",classification_report(y_test_3, test_pred))"
      ]
    },
    {
      "cell_type": "markdown",
      "metadata": {
        "id": "2iG7KNTaTwef"
      },
      "source": [
        "## KNN\n"
      ]
    },
    {
      "cell_type": "code",
      "execution_count": null,
      "metadata": {
        "colab": {
          "base_uri": "https://localhost:8080/"
        },
        "id": "lN0KCg-NT0rX",
        "outputId": "9358f190-ae7f-4b16-be63-5ac795956eeb"
      },
      "outputs": [
        {
          "output_type": "stream",
          "name": "stdout",
          "text": [
            "\n",
            "KNN Classifier Results\n",
            "\n",
            "K=3, Algorithm=ball_tree\n",
            "Train Accuracy: 0.9798\n",
            "Test Accuracy: 0.9529\n",
            "Precision (Macro): 0.9526\n",
            "Recall (Macro):    0.9527\n",
            "F1 Score (Macro):  0.9525\n",
            "Classification Report               precision    recall  f1-score   support\n",
            "\n",
            "           0       0.92      0.89      0.91     16679\n",
            "           1       0.99      1.00      0.99     16899\n",
            "           2       0.90      0.92      0.91     16609\n",
            "           3       1.00      1.00      1.00     16671\n",
            "\n",
            "    accuracy                           0.95     66858\n",
            "   macro avg       0.95      0.95      0.95     66858\n",
            "weighted avg       0.95      0.95      0.95     66858\n",
            "\n",
            "\n",
            "K=5, Algorithm=kd_tree\n",
            "Train Accuracy: 0.9691\n",
            "Test Accuracy: 0.9475\n",
            "Precision (Macro): 0.9472\n",
            "Recall (Macro):    0.9473\n",
            "F1 Score (Macro):  0.9471\n",
            "Classification Report               precision    recall  f1-score   support\n",
            "\n",
            "           0       0.91      0.88      0.89     16679\n",
            "           1       0.98      1.00      0.99     16899\n",
            "           2       0.89      0.91      0.90     16609\n",
            "           3       1.00      1.00      1.00     16671\n",
            "\n",
            "    accuracy                           0.95     66858\n",
            "   macro avg       0.95      0.95      0.95     66858\n",
            "weighted avg       0.95      0.95      0.95     66858\n",
            "\n",
            "\n",
            "K=7, Algorithm=brute\n",
            "Train Accuracy: 0.9611\n",
            "Test Accuracy: 0.9436\n",
            "Precision (Macro): 0.9431\n",
            "Recall (Macro):    0.9434\n",
            "F1 Score (Macro):  0.9432\n",
            "Classification Report               precision    recall  f1-score   support\n",
            "\n",
            "           0       0.90      0.87      0.89     16679\n",
            "           1       0.98      1.00      0.99     16899\n",
            "           2       0.89      0.90      0.90     16609\n",
            "           3       1.00      1.00      1.00     16671\n",
            "\n",
            "    accuracy                           0.94     66858\n",
            "   macro avg       0.94      0.94      0.94     66858\n",
            "weighted avg       0.94      0.94      0.94     66858\n",
            "\n"
          ]
        }
      ],
      "source": [
        "n_neighbors_list = [3, 5, 7]\n",
        "algorithms = ['ball_tree', 'kd_tree', 'brute']\n",
        "\n",
        "print(\"\\nKNN Classifier Results\")\n",
        "for n, algo in zip(n_neighbors_list, algorithms):\n",
        "    model = KNeighborsClassifier(n_neighbors=n, algorithm=algo)\n",
        "    model.fit(X_train_3, y_train_3)\n",
        "    train_acc = model.score(X_train_3, y_train_3)\n",
        "    test_pred = model.predict(X_test_3)\n",
        "    test_acc = accuracy_score(y_test_3, test_pred)\n",
        "    knn_results.append({\n",
        "        'n': n,\n",
        "        'algo': algo,\n",
        "        'train_acc': train_acc,\n",
        "        'test_acc': test_acc\n",
        "    })\n",
        "    print(f\"\\nK={n}, Algorithm={algo}\")\n",
        "    print(f\"Train Accuracy: {train_acc:.4f}\")\n",
        "    print(f\"Test Accuracy: {test_acc:.4f}\")\n",
        "    print(f\"Precision (Macro): {precision_score(y_test_3, test_pred, average='macro'):.4f}\")\n",
        "    print(f\"Recall (Macro):    {recall_score(y_test_3, test_pred, average='macro'):.4f}\")\n",
        "    print(f\"F1 Score (Macro):  {f1_score(y_test_3, test_pred, average='macro'):.4f}\")\n",
        "    print(\"Classification Report\",classification_report(y_test_3, test_pred))"
      ]
    },
    {
      "cell_type": "markdown",
      "metadata": {
        "id": "-epXDn9mUGUd"
      },
      "source": [
        "## Neural Network"
      ]
    },
    {
      "cell_type": "markdown",
      "metadata": {
        "id": "zvDlnYHWUIdj"
      },
      "source": [
        "### Basic (128-64-32)"
      ]
    },
    {
      "cell_type": "code",
      "execution_count": null,
      "metadata": {
        "id": "Z9rwSx5zUH-A"
      },
      "outputs": [],
      "source": [
        "y_train_3 = tf.keras.utils.to_categorical(y_train_3, num_classes=4)\n",
        "y_test_3 = tf.keras.utils.to_categorical(y_test_3, num_classes=4)"
      ]
    },
    {
      "cell_type": "code",
      "execution_count": null,
      "metadata": {
        "colab": {
          "base_uri": "https://localhost:8080/",
          "height": 1000
        },
        "id": "xzIzJOcwUU1L",
        "outputId": "73a94c88-10f7-4533-8524-bc9c729bea45"
      },
      "outputs": [
        {
          "output_type": "stream",
          "name": "stdout",
          "text": [
            "Epoch 1/50\n",
            "\u001b[1m836/836\u001b[0m \u001b[32m━━━━━━━━━━━━━━━━━━━━\u001b[0m\u001b[37m\u001b[0m \u001b[1m6s\u001b[0m 6ms/step - accuracy: 0.8549 - loss: 0.3658 - val_accuracy: 0.9329 - val_loss: 0.1569\n",
            "Epoch 2/50\n",
            "\u001b[1m836/836\u001b[0m \u001b[32m━━━━━━━━━━━━━━━━━━━━\u001b[0m\u001b[37m\u001b[0m \u001b[1m3s\u001b[0m 3ms/step - accuracy: 0.9360 - loss: 0.1514 - val_accuracy: 0.9327 - val_loss: 0.1503\n",
            "Epoch 3/50\n",
            "\u001b[1m836/836\u001b[0m \u001b[32m━━━━━━━━━━━━━━━━━━━━\u001b[0m\u001b[37m\u001b[0m \u001b[1m5s\u001b[0m 3ms/step - accuracy: 0.9451 - loss: 0.1293 - val_accuracy: 0.9490 - val_loss: 0.1227\n",
            "Epoch 4/50\n",
            "\u001b[1m836/836\u001b[0m \u001b[32m━━━━━━━━━━━━━━━━━━━━\u001b[0m\u001b[37m\u001b[0m \u001b[1m3s\u001b[0m 3ms/step - accuracy: 0.9501 - loss: 0.1177 - val_accuracy: 0.9548 - val_loss: 0.1099\n",
            "Epoch 5/50\n",
            "\u001b[1m836/836\u001b[0m \u001b[32m━━━━━━━━━━━━━━━━━━━━\u001b[0m\u001b[37m\u001b[0m \u001b[1m3s\u001b[0m 3ms/step - accuracy: 0.9509 - loss: 0.1152 - val_accuracy: 0.9539 - val_loss: 0.1093\n",
            "Epoch 6/50\n",
            "\u001b[1m836/836\u001b[0m \u001b[32m━━━━━━━━━━━━━━━━━━━━\u001b[0m\u001b[37m\u001b[0m \u001b[1m3s\u001b[0m 3ms/step - accuracy: 0.9536 - loss: 0.1093 - val_accuracy: 0.9481 - val_loss: 0.1254\n",
            "Epoch 7/50\n",
            "\u001b[1m836/836\u001b[0m \u001b[32m━━━━━━━━━━━━━━━━━━━━\u001b[0m\u001b[37m\u001b[0m \u001b[1m5s\u001b[0m 3ms/step - accuracy: 0.9546 - loss: 0.1071 - val_accuracy: 0.9537 - val_loss: 0.1114\n",
            "Epoch 8/50\n",
            "\u001b[1m836/836\u001b[0m \u001b[32m━━━━━━━━━━━━━━━━━━━━\u001b[0m\u001b[37m\u001b[0m \u001b[1m3s\u001b[0m 3ms/step - accuracy: 0.9558 - loss: 0.1040 - val_accuracy: 0.9556 - val_loss: 0.1056\n",
            "Epoch 9/50\n",
            "\u001b[1m836/836\u001b[0m \u001b[32m━━━━━━━━━━━━━━━━━━━━\u001b[0m\u001b[37m\u001b[0m \u001b[1m3s\u001b[0m 3ms/step - accuracy: 0.9563 - loss: 0.1029 - val_accuracy: 0.9565 - val_loss: 0.1035\n",
            "Epoch 10/50\n",
            "\u001b[1m836/836\u001b[0m \u001b[32m━━━━━━━━━━━━━━━━━━━━\u001b[0m\u001b[37m\u001b[0m \u001b[1m3s\u001b[0m 3ms/step - accuracy: 0.9565 - loss: 0.1023 - val_accuracy: 0.9532 - val_loss: 0.1078\n",
            "Epoch 11/50\n",
            "\u001b[1m836/836\u001b[0m \u001b[32m━━━━━━━━━━━━━━━━━━━━\u001b[0m\u001b[37m\u001b[0m \u001b[1m5s\u001b[0m 3ms/step - accuracy: 0.9578 - loss: 0.0988 - val_accuracy: 0.9551 - val_loss: 0.1042\n",
            "Epoch 12/50\n",
            "\u001b[1m836/836\u001b[0m \u001b[32m━━━━━━━━━━━━━━━━━━━━\u001b[0m\u001b[37m\u001b[0m \u001b[1m3s\u001b[0m 3ms/step - accuracy: 0.9577 - loss: 0.0998 - val_accuracy: 0.9527 - val_loss: 0.1074\n",
            "Epoch 13/50\n",
            "\u001b[1m836/836\u001b[0m \u001b[32m━━━━━━━━━━━━━━━━━━━━\u001b[0m\u001b[37m\u001b[0m \u001b[1m5s\u001b[0m 3ms/step - accuracy: 0.9589 - loss: 0.0970 - val_accuracy: 0.9598 - val_loss: 0.0985\n",
            "Epoch 14/50\n",
            "\u001b[1m836/836\u001b[0m \u001b[32m━━━━━━━━━━━━━━━━━━━━\u001b[0m\u001b[37m\u001b[0m \u001b[1m2s\u001b[0m 3ms/step - accuracy: 0.9585 - loss: 0.0976 - val_accuracy: 0.9603 - val_loss: 0.0969\n",
            "Epoch 15/50\n",
            "\u001b[1m836/836\u001b[0m \u001b[32m━━━━━━━━━━━━━━━━━━━━\u001b[0m\u001b[37m\u001b[0m \u001b[1m3s\u001b[0m 3ms/step - accuracy: 0.9595 - loss: 0.0958 - val_accuracy: 0.9545 - val_loss: 0.1055\n",
            "Epoch 16/50\n",
            "\u001b[1m836/836\u001b[0m \u001b[32m━━━━━━━━━━━━━━━━━━━━\u001b[0m\u001b[37m\u001b[0m \u001b[1m2s\u001b[0m 3ms/step - accuracy: 0.9592 - loss: 0.0953 - val_accuracy: 0.9582 - val_loss: 0.1018\n",
            "Epoch 17/50\n",
            "\u001b[1m836/836\u001b[0m \u001b[32m━━━━━━━━━━━━━━━━━━━━\u001b[0m\u001b[37m\u001b[0m \u001b[1m3s\u001b[0m 3ms/step - accuracy: 0.9606 - loss: 0.0929 - val_accuracy: 0.9609 - val_loss: 0.0942\n",
            "Epoch 18/50\n",
            "\u001b[1m836/836\u001b[0m \u001b[32m━━━━━━━━━━━━━━━━━━━━\u001b[0m\u001b[37m\u001b[0m \u001b[1m2s\u001b[0m 3ms/step - accuracy: 0.9595 - loss: 0.0934 - val_accuracy: 0.9580 - val_loss: 0.1004\n",
            "Epoch 19/50\n",
            "\u001b[1m836/836\u001b[0m \u001b[32m━━━━━━━━━━━━━━━━━━━━\u001b[0m\u001b[37m\u001b[0m \u001b[1m3s\u001b[0m 3ms/step - accuracy: 0.9615 - loss: 0.0906 - val_accuracy: 0.9581 - val_loss: 0.0999\n",
            "Epoch 20/50\n",
            "\u001b[1m836/836\u001b[0m \u001b[32m━━━━━━━━━━━━━━━━━━━━\u001b[0m\u001b[37m\u001b[0m \u001b[1m3s\u001b[0m 3ms/step - accuracy: 0.9612 - loss: 0.0917 - val_accuracy: 0.9585 - val_loss: 0.1008\n",
            "Epoch 21/50\n",
            "\u001b[1m836/836\u001b[0m \u001b[32m━━━━━━━━━━━━━━━━━━━━\u001b[0m\u001b[37m\u001b[0m \u001b[1m3s\u001b[0m 3ms/step - accuracy: 0.9608 - loss: 0.0918 - val_accuracy: 0.9589 - val_loss: 0.0997\n",
            "Epoch 22/50\n",
            "\u001b[1m836/836\u001b[0m \u001b[32m━━━━━━━━━━━━━━━━━━━━\u001b[0m\u001b[37m\u001b[0m \u001b[1m5s\u001b[0m 3ms/step - accuracy: 0.9614 - loss: 0.0913 - val_accuracy: 0.9580 - val_loss: 0.1037\n"
          ]
        },
        {
          "output_type": "display_data",
          "data": {
            "text/plain": [
              "<Figure size 1200x400 with 2 Axes>"
            ],
            "image/png": "[encoded data removed]"
          },
          "metadata": {}
        }
      ],
      "source": [
        "model4 = Sequential([\n",
        "    Dense(128, activation='relu', input_shape=(X_train_3.shape[1],)),\n",
        "    Dense(64, activation='relu'),\n",
        "    Dense(32, activation='relu'),\n",
        "    Dense(4, activation='softmax')\n",
        "])\n",
        "model4.compile(optimizer='adam', loss='categorical_crossentropy', metrics=['accuracy'])\n",
        "history4 = model4.fit(X_train_3, y_train_3, epochs=50, batch_size=256, validation_split=0.2,\n",
        "                     callbacks=[tf.keras.callbacks.EarlyStopping(patience=5, restore_best_weights=True)],\n",
        "                     verbose=1)\n",
        "\n",
        "# Store results\n",
        "train_acc4 = model4.evaluate(X_train_3, y_train_3, verbose=0)[1]\n",
        "test_acc4 = model4.evaluate(X_test_3, y_test_3, verbose=0)[1]\n",
        "ann_results.append({\n",
        "    'arch': 'Basic (128-64-32)',\n",
        "    'train_acc': train_acc4,\n",
        "    'test_acc': test_acc4,\n",
        "    'history': history4\n",
        "})\n",
        "\n",
        "# Plot for Model 1\n",
        "plt.figure(figsize=(12, 4))\n",
        "plt.subplot(1, 2, 1)\n",
        "plt.plot(history4.history['accuracy'], label='Train')\n",
        "plt.plot(history4.history['val_accuracy'], label='Validation')\n",
        "plt.title('Model 1: Training History\\n(Basic Architecture)')\n",
        "plt.subplot(1, 2, 2)\n",
        "plt.bar(['Train', 'Test'], [train_acc4, test_acc4], color=['blue', 'orange'])\n",
        "plt.tight_layout()\n",
        "plt.show()\n"
      ]
    },
    {
      "cell_type": "code",
      "execution_count": null,
      "metadata": {
        "colab": {
          "base_uri": "https://localhost:8080/"
        },
        "id": "SReDEYx6UnaB",
        "outputId": "4ac9c0e6-daf6-4f8f-e552-111741b6c8b6"
      },
      "outputs": [
        {
          "output_type": "stream",
          "name": "stdout",
          "text": [
            "Test Accuracy for the test data is 0.96\n"
          ]
        }
      ],
      "source": [
        "test_loss, test_acc = model4.evaluate(X_test_3, y_test_3, verbose=0)\n",
        "print(f\"Test Accuracy for the test data is {test_acc:.2f}\")"
      ]
    },
    {
      "cell_type": "code",
      "execution_count": null,
      "metadata": {
        "colab": {
          "base_uri": "https://localhost:8080/"
        },
        "id": "oeATtepuUx2a",
        "outputId": "83982669-0708-4c57-ff8b-68223c04fe9a"
      },
      "outputs": [
        {
          "output_type": "stream",
          "name": "stdout",
          "text": [
            "\u001b[1m2090/2090\u001b[0m \u001b[32m━━━━━━━━━━━━━━━━━━━━\u001b[0m\u001b[37m\u001b[0m \u001b[1m3s\u001b[0m 1ms/step\n",
            "              precision    recall  f1-score   support\n",
            "\n",
            "      Cloudy     0.8945    0.9459    0.9195     16679\n",
            "       Windy     0.9982    0.9989    0.9986     16899\n",
            "   Clear/Dry     0.9445    0.8889    0.9159     16609\n",
            "       Rainy     0.9994    1.0000    0.9997     16671\n",
            "\n",
            "    accuracy                         0.9586     66858\n",
            "   macro avg     0.9592    0.9584    0.9584     66858\n",
            "weighted avg     0.9593    0.9586    0.9586     66858\n",
            "\n"
          ]
        }
      ],
      "source": [
        "y_pred = model4.predict(X_test_3)\n",
        "y_pred_classes = np.argmax(y_pred, axis=1)\n",
        "y_true_classes = np.argmax(y_test_3, axis=1)\n",
        "\n",
        "print(classification_report(\n",
        "    y_true_classes,\n",
        "    y_pred_classes,\n",
        "    target_names=['Cloudy', 'Windy', 'Clear/Dry', 'Rainy'],\n",
        "    digits=4\n",
        "))"
      ]
    },
    {
      "cell_type": "markdown",
      "metadata": {
        "id": "imq-saDxVOYZ"
      },
      "source": [
        "### With BatchNorm & Dropout (128-64-32)"
      ]
    },
    {
      "cell_type": "code",
      "execution_count": null,
      "metadata": {
        "colab": {
          "base_uri": "https://localhost:8080/",
          "height": 1000
        },
        "id": "bkBQpVHHVQmD",
        "outputId": "535e7d2c-0d69-4ec5-b261-4234de38eba3"
      },
      "outputs": [
        {
          "output_type": "stream",
          "name": "stdout",
          "text": [
            "Epoch 1/50\n",
            "\u001b[1m836/836\u001b[0m \u001b[32m━━━━━━━━━━━━━━━━━━━━\u001b[0m\u001b[37m\u001b[0m \u001b[1m11s\u001b[0m 8ms/step - accuracy: 0.8090 - loss: 0.4531 - val_accuracy: 0.9124 - val_loss: 0.2004\n",
            "Epoch 2/50\n",
            "\u001b[1m836/836\u001b[0m \u001b[32m━━━━━━━━━━━━━━━━━━━━\u001b[0m\u001b[37m\u001b[0m \u001b[1m3s\u001b[0m 3ms/step - accuracy: 0.9001 - loss: 0.2313 - val_accuracy: 0.9254 - val_loss: 0.1727\n",
            "Epoch 3/50\n",
            "\u001b[1m836/836\u001b[0m \u001b[32m━━━━━━━━━━━━━━━━━━━━\u001b[0m\u001b[37m\u001b[0m \u001b[1m3s\u001b[0m 3ms/step - accuracy: 0.9157 - loss: 0.1964 - val_accuracy: 0.9383 - val_loss: 0.1463\n",
            "Epoch 4/50\n",
            "\u001b[1m836/836\u001b[0m \u001b[32m━━━━━━━━━━━━━━━━━━━━\u001b[0m\u001b[37m\u001b[0m \u001b[1m3s\u001b[0m 3ms/step - accuracy: 0.9217 - loss: 0.1795 - val_accuracy: 0.9435 - val_loss: 0.1372\n",
            "Epoch 5/50\n",
            "\u001b[1m836/836\u001b[0m \u001b[32m━━━━━━━━━━━━━━━━━━━━\u001b[0m\u001b[37m\u001b[0m \u001b[1m3s\u001b[0m 3ms/step - accuracy: 0.9283 - loss: 0.1671 - val_accuracy: 0.9431 - val_loss: 0.1345\n",
            "Epoch 6/50\n",
            "\u001b[1m836/836\u001b[0m \u001b[32m━━━━━━━━━━━━━━━━━━━━\u001b[0m\u001b[37m\u001b[0m \u001b[1m3s\u001b[0m 4ms/step - accuracy: 0.9304 - loss: 0.1613 - val_accuracy: 0.9473 - val_loss: 0.1271\n",
            "Epoch 7/50\n",
            "\u001b[1m836/836\u001b[0m \u001b[32m━━━━━━━━━━━━━━━━━━━━\u001b[0m\u001b[37m\u001b[0m \u001b[1m5s\u001b[0m 3ms/step - accuracy: 0.9355 - loss: 0.1518 - val_accuracy: 0.9473 - val_loss: 0.1245\n",
            "Epoch 8/50\n",
            "\u001b[1m836/836\u001b[0m \u001b[32m━━━━━━━━━━━━━━━━━━━━\u001b[0m\u001b[37m\u001b[0m \u001b[1m6s\u001b[0m 4ms/step - accuracy: 0.9368 - loss: 0.1468 - val_accuracy: 0.9477 - val_loss: 0.1222\n",
            "Epoch 9/50\n",
            "\u001b[1m836/836\u001b[0m \u001b[32m━━━━━━━━━━━━━━━━━━━━\u001b[0m\u001b[37m\u001b[0m \u001b[1m3s\u001b[0m 3ms/step - accuracy: 0.9373 - loss: 0.1468 - val_accuracy: 0.9496 - val_loss: 0.1212\n",
            "Epoch 10/50\n",
            "\u001b[1m836/836\u001b[0m \u001b[32m━━━━━━━━━━━━━━━━━━━━\u001b[0m\u001b[37m\u001b[0m \u001b[1m5s\u001b[0m 3ms/step - accuracy: 0.9401 - loss: 0.1402 - val_accuracy: 0.9512 - val_loss: 0.1181\n",
            "Epoch 11/50\n",
            "\u001b[1m836/836\u001b[0m \u001b[32m━━━━━━━━━━━━━━━━━━━━\u001b[0m\u001b[37m\u001b[0m \u001b[1m5s\u001b[0m 5ms/step - accuracy: 0.9411 - loss: 0.1372 - val_accuracy: 0.9520 - val_loss: 0.1155\n",
            "Epoch 12/50\n",
            "\u001b[1m836/836\u001b[0m \u001b[32m━━━━━━━━━━━━━━━━━━━━\u001b[0m\u001b[37m\u001b[0m \u001b[1m3s\u001b[0m 3ms/step - accuracy: 0.9418 - loss: 0.1357 - val_accuracy: 0.9535 - val_loss: 0.1135\n",
            "Epoch 13/50\n",
            "\u001b[1m836/836\u001b[0m \u001b[32m━━━━━━━━━━━━━━━━━━━━\u001b[0m\u001b[37m\u001b[0m \u001b[1m3s\u001b[0m 3ms/step - accuracy: 0.9426 - loss: 0.1331 - val_accuracy: 0.9528 - val_loss: 0.1119\n",
            "Epoch 14/50\n",
            "\u001b[1m836/836\u001b[0m \u001b[32m━━━━━━━━━━━━━━━━━━━━\u001b[0m\u001b[37m\u001b[0m \u001b[1m6s\u001b[0m 4ms/step - accuracy: 0.9429 - loss: 0.1338 - val_accuracy: 0.9539 - val_loss: 0.1086\n",
            "Epoch 15/50\n",
            "\u001b[1m836/836\u001b[0m \u001b[32m━━━━━━━━━━━━━━━━━━━━\u001b[0m\u001b[37m\u001b[0m \u001b[1m3s\u001b[0m 3ms/step - accuracy: 0.9455 - loss: 0.1288 - val_accuracy: 0.9538 - val_loss: 0.1095\n",
            "Epoch 16/50\n",
            "\u001b[1m836/836\u001b[0m \u001b[32m━━━━━━━━━━━━━━━━━━━━\u001b[0m\u001b[37m\u001b[0m \u001b[1m5s\u001b[0m 3ms/step - accuracy: 0.9454 - loss: 0.1290 - val_accuracy: 0.9522 - val_loss: 0.1112\n",
            "Epoch 17/50\n",
            "\u001b[1m836/836\u001b[0m \u001b[32m━━━━━━━━━━━━━━━━━━━━\u001b[0m\u001b[37m\u001b[0m \u001b[1m3s\u001b[0m 3ms/step - accuracy: 0.9446 - loss: 0.1298 - val_accuracy: 0.9537 - val_loss: 0.1066\n",
            "Epoch 18/50\n",
            "\u001b[1m836/836\u001b[0m \u001b[32m━━━━━━━━━━━━━━━━━━━━\u001b[0m\u001b[37m\u001b[0m \u001b[1m3s\u001b[0m 4ms/step - accuracy: 0.9458 - loss: 0.1271 - val_accuracy: 0.9557 - val_loss: 0.1063\n",
            "Epoch 19/50\n",
            "\u001b[1m836/836\u001b[0m \u001b[32m━━━━━━━━━━━━━━━━━━━━\u001b[0m\u001b[37m\u001b[0m \u001b[1m3s\u001b[0m 3ms/step - accuracy: 0.9469 - loss: 0.1254 - val_accuracy: 0.9545 - val_loss: 0.1079\n",
            "Epoch 20/50\n",
            "\u001b[1m836/836\u001b[0m \u001b[32m━━━━━━━━━━━━━━━━━━━━\u001b[0m\u001b[37m\u001b[0m \u001b[1m5s\u001b[0m 3ms/step - accuracy: 0.9463 - loss: 0.1252 - val_accuracy: 0.9553 - val_loss: 0.1072\n",
            "Epoch 21/50\n",
            "\u001b[1m836/836\u001b[0m \u001b[32m━━━━━━━━━━━━━━━━━━━━\u001b[0m\u001b[37m\u001b[0m \u001b[1m5s\u001b[0m 3ms/step - accuracy: 0.9471 - loss: 0.1242 - val_accuracy: 0.9529 - val_loss: 0.1105\n",
            "Epoch 22/50\n",
            "\u001b[1m836/836\u001b[0m \u001b[32m━━━━━━━━━━━━━━━━━━━━\u001b[0m\u001b[37m\u001b[0m \u001b[1m5s\u001b[0m 3ms/step - accuracy: 0.9479 - loss: 0.1241 - val_accuracy: 0.9535 - val_loss: 0.1090\n",
            "Epoch 23/50\n",
            "\u001b[1m836/836\u001b[0m \u001b[32m━━━━━━━━━━━━━━━━━━━━\u001b[0m\u001b[37m\u001b[0m \u001b[1m5s\u001b[0m 4ms/step - accuracy: 0.9478 - loss: 0.1232 - val_accuracy: 0.9552 - val_loss: 0.1044\n",
            "Epoch 24/50\n",
            "\u001b[1m836/836\u001b[0m \u001b[32m━━━━━━━━━━━━━━━━━━━━\u001b[0m\u001b[37m\u001b[0m \u001b[1m3s\u001b[0m 3ms/step - accuracy: 0.9476 - loss: 0.1228 - val_accuracy: 0.9560 - val_loss: 0.1037\n",
            "Epoch 25/50\n",
            "\u001b[1m836/836\u001b[0m \u001b[32m━━━━━━━━━━━━━━━━━━━━\u001b[0m\u001b[37m\u001b[0m \u001b[1m5s\u001b[0m 3ms/step - accuracy: 0.9486 - loss: 0.1213 - val_accuracy: 0.9568 - val_loss: 0.1037\n",
            "Epoch 26/50\n",
            "\u001b[1m836/836\u001b[0m \u001b[32m━━━━━━━━━━━━━━━━━━━━\u001b[0m\u001b[37m\u001b[0m \u001b[1m3s\u001b[0m 4ms/step - accuracy: 0.9493 - loss: 0.1203 - val_accuracy: 0.9544 - val_loss: 0.1059\n",
            "Epoch 27/50\n",
            "\u001b[1m836/836\u001b[0m \u001b[32m━━━━━━━━━━━━━━━━━━━━\u001b[0m\u001b[37m\u001b[0m \u001b[1m4s\u001b[0m 3ms/step - accuracy: 0.9489 - loss: 0.1210 - val_accuracy: 0.9547 - val_loss: 0.1045\n",
            "Epoch 28/50\n",
            "\u001b[1m836/836\u001b[0m \u001b[32m━━━━━━━━━━━━━━━━━━━━\u001b[0m\u001b[37m\u001b[0m \u001b[1m3s\u001b[0m 3ms/step - accuracy: 0.9494 - loss: 0.1198 - val_accuracy: 0.9576 - val_loss: 0.1012\n",
            "Epoch 29/50\n",
            "\u001b[1m836/836\u001b[0m \u001b[32m━━━━━━━━━━━━━━━━━━━━\u001b[0m\u001b[37m\u001b[0m \u001b[1m3s\u001b[0m 3ms/step - accuracy: 0.9492 - loss: 0.1190 - val_accuracy: 0.9581 - val_loss: 0.1018\n",
            "Epoch 30/50\n",
            "\u001b[1m836/836\u001b[0m \u001b[32m━━━━━━━━━━━━━━━━━━━━\u001b[0m\u001b[37m\u001b[0m \u001b[1m3s\u001b[0m 4ms/step - accuracy: 0.9489 - loss: 0.1192 - val_accuracy: 0.9560 - val_loss: 0.1045\n",
            "Epoch 31/50\n",
            "\u001b[1m836/836\u001b[0m \u001b[32m━━━━━━━━━━━━━━━━━━━━\u001b[0m\u001b[37m\u001b[0m \u001b[1m3s\u001b[0m 3ms/step - accuracy: 0.9491 - loss: 0.1191 - val_accuracy: 0.9569 - val_loss: 0.1029\n",
            "Epoch 32/50\n",
            "\u001b[1m836/836\u001b[0m \u001b[32m━━━━━━━━━━━━━━━━━━━━\u001b[0m\u001b[37m\u001b[0m \u001b[1m5s\u001b[0m 3ms/step - accuracy: 0.9500 - loss: 0.1167 - val_accuracy: 0.9570 - val_loss: 0.1025\n",
            "Epoch 33/50\n",
            "\u001b[1m836/836\u001b[0m \u001b[32m━━━━━━━━━━━━━━━━━━━━\u001b[0m\u001b[37m\u001b[0m \u001b[1m3s\u001b[0m 4ms/step - accuracy: 0.9494 - loss: 0.1192 - val_accuracy: 0.9557 - val_loss: 0.1030\n"
          ]
        },
        {
          "output_type": "display_data",
          "data": {
            "text/plain": [
              "<Figure size 1200x400 with 2 Axes>"
            ],
            "image/png": "[encoded data removed]"
          },
          "metadata": {}
        }
      ],
      "source": [
        "model5 = Sequential([\n",
        "    Dense(128, activation='relu', input_shape=(X_train_3.shape[1],)),\n",
        "    BatchNormalization(),\n",
        "    Dropout(0.3),\n",
        "    Dense(64, activation='relu'),\n",
        "    BatchNormalization(),\n",
        "    Dropout(0.2),\n",
        "    Dense(32, activation='relu'),\n",
        "    BatchNormalization(),\n",
        "    Dropout(0.2),\n",
        "    Dense(4, activation='softmax')\n",
        "])\n",
        "model5.compile(optimizer='adam', loss='categorical_crossentropy', metrics=['accuracy'])\n",
        "history5 = model5.fit(X_train_3, y_train_3, epochs=50, batch_size=256, validation_split=0.2,\n",
        "                     callbacks=[tf.keras.callbacks.EarlyStopping(patience=5, restore_best_weights=True)],\n",
        "                     verbose=1)\n",
        "\n",
        "# Store results\n",
        "train_acc5 = model5.evaluate(X_train_3, y_train_3, verbose=0)[1]\n",
        "test_acc5 = model5.evaluate(X_test_3, y_test_3, verbose=0)[1]\n",
        "ann_results.append({\n",
        "    'arch': 'With BatchNorm & Dropout',\n",
        "    'train_acc': train_acc5,\n",
        "    'test_acc': test_acc5,\n",
        "    'history': history5\n",
        "})\n",
        "\n",
        "# Plot for Model 2\n",
        "plt.figure(figsize=(12, 4))\n",
        "plt.subplot(1, 2, 1)\n",
        "plt.plot(history5.history['accuracy'], label='Train')\n",
        "plt.plot(history5.history['val_accuracy'], label='Validation')\n",
        "plt.title('Model 5: Training History\\n(With BatchNorm & Dropout)')\n",
        "plt.subplot(1, 2, 2)\n",
        "plt.bar(['Train', 'Test'], [train_acc5, test_acc5], color=['blue', 'orange'])\n",
        "plt.tight_layout()\n",
        "plt.show()"
      ]
    },
    {
      "cell_type": "code",
      "execution_count": null,
      "metadata": {
        "colab": {
          "base_uri": "https://localhost:8080/"
        },
        "id": "tE2EfMClWBNp",
        "outputId": "2a5ead07-e9fd-4e59-f208-c5e62759999e"
      },
      "outputs": [
        {
          "output_type": "stream",
          "name": "stdout",
          "text": [
            "Test Accuracyfor the test data is 0.9560\n",
            "\u001b[1m2090/2090\u001b[0m \u001b[32m━━━━━━━━━━━━━━━━━━━━\u001b[0m\u001b[37m\u001b[0m \u001b[1m3s\u001b[0m 2ms/step\n",
            "              precision    recall  f1-score   support\n",
            "\n",
            "      Cloudy     0.8826    0.9505    0.9153     16679\n",
            "       Windy     0.9980    0.9995    0.9987     16899\n",
            "   Clear/Dry     0.9485    0.8731    0.9092     16609\n",
            "       Rainy     0.9993    1.0000    0.9997     16671\n",
            "\n",
            "    accuracy                         0.9560     66858\n",
            "   macro avg     0.9571    0.9558    0.9557     66858\n",
            "weighted avg     0.9572    0.9560    0.9559     66858\n",
            "\n"
          ]
        }
      ],
      "source": [
        "test_loss, test_acc = model5.evaluate(X_test_3, y_test_3, verbose=0)\n",
        "print(f\"Test Accuracyfor the test data is {test_acc:.4f}\")\n",
        "\n",
        "y_pred2 = model5.predict(X_test_3)\n",
        "y_pred_classes = np.argmax(y_pred2, axis=1)\n",
        "y_true_classes = np.argmax(y_test_3, axis=1)\n",
        "\n",
        "print(classification_report(\n",
        "    y_true_classes,\n",
        "    y_pred_classes,\n",
        "    target_names=['Cloudy', 'Windy', 'Clear/Dry', 'Rainy'],\n",
        "    digits=4\n",
        "))"
      ]
    },
    {
      "cell_type": "markdown",
      "metadata": {
        "id": "xj-7tXauWcxh"
      },
      "source": [
        "### Smaller with BatchNorm (64-32-16)"
      ]
    },
    {
      "cell_type": "code",
      "execution_count": null,
      "metadata": {
        "colab": {
          "base_uri": "https://localhost:8080/",
          "height": 1000
        },
        "id": "sHff1xhtWedi",
        "outputId": "0201fe12-32ba-4f61-d5b5-ceafec285720"
      },
      "outputs": [
        {
          "output_type": "stream",
          "name": "stdout",
          "text": [
            "Epoch 1/50\n",
            "\u001b[1m836/836\u001b[0m \u001b[32m━━━━━━━━━━━━━━━━━━━━\u001b[0m\u001b[37m\u001b[0m \u001b[1m8s\u001b[0m 6ms/step - accuracy: 0.8444 - loss: 0.3931 - val_accuracy: 0.9327 - val_loss: 0.1632\n",
            "Epoch 2/50\n",
            "\u001b[1m836/836\u001b[0m \u001b[32m━━━━━━━━━━━━━━━━━━━━\u001b[0m\u001b[37m\u001b[0m \u001b[1m7s\u001b[0m 3ms/step - accuracy: 0.9301 - loss: 0.1633 - val_accuracy: 0.9445 - val_loss: 0.1335\n",
            "Epoch 3/50\n",
            "\u001b[1m836/836\u001b[0m \u001b[32m━━━━━━━━━━━━━━━━━━━━\u001b[0m\u001b[37m\u001b[0m \u001b[1m5s\u001b[0m 3ms/step - accuracy: 0.9405 - loss: 0.1406 - val_accuracy: 0.9474 - val_loss: 0.1270\n",
            "Epoch 4/50\n",
            "\u001b[1m836/836\u001b[0m \u001b[32m━━━━━━━━━━━━━━━━━━━━\u001b[0m\u001b[37m\u001b[0m \u001b[1m3s\u001b[0m 3ms/step - accuracy: 0.9443 - loss: 0.1308 - val_accuracy: 0.9446 - val_loss: 0.1250\n",
            "Epoch 5/50\n",
            "\u001b[1m836/836\u001b[0m \u001b[32m━━━━━━━━━━━━━━━━━━━━\u001b[0m\u001b[37m\u001b[0m \u001b[1m5s\u001b[0m 3ms/step - accuracy: 0.9463 - loss: 0.1260 - val_accuracy: 0.9519 - val_loss: 0.1151\n",
            "Epoch 6/50\n",
            "\u001b[1m836/836\u001b[0m \u001b[32m━━━━━━━━━━━━━━━━━━━━\u001b[0m\u001b[37m\u001b[0m \u001b[1m6s\u001b[0m 4ms/step - accuracy: 0.9480 - loss: 0.1227 - val_accuracy: 0.9488 - val_loss: 0.1255\n",
            "Epoch 7/50\n",
            "\u001b[1m836/836\u001b[0m \u001b[32m━━━━━━━━━━━━━━━━━━━━\u001b[0m\u001b[37m\u001b[0m \u001b[1m5s\u001b[0m 3ms/step - accuracy: 0.9498 - loss: 0.1185 - val_accuracy: 0.9536 - val_loss: 0.1110\n",
            "Epoch 8/50\n",
            "\u001b[1m836/836\u001b[0m \u001b[32m━━━━━━━━━━━━━━━━━━━━\u001b[0m\u001b[37m\u001b[0m \u001b[1m3s\u001b[0m 3ms/step - accuracy: 0.9500 - loss: 0.1173 - val_accuracy: 0.9537 - val_loss: 0.1099\n",
            "Epoch 9/50\n",
            "\u001b[1m836/836\u001b[0m \u001b[32m━━━━━━━━━━━━━━━━━━━━\u001b[0m\u001b[37m\u001b[0m \u001b[1m5s\u001b[0m 4ms/step - accuracy: 0.9516 - loss: 0.1143 - val_accuracy: 0.9521 - val_loss: 0.1094\n",
            "Epoch 10/50\n",
            "\u001b[1m836/836\u001b[0m \u001b[32m━━━━━━━━━━━━━━━━━━━━\u001b[0m\u001b[37m\u001b[0m \u001b[1m3s\u001b[0m 3ms/step - accuracy: 0.9518 - loss: 0.1131 - val_accuracy: 0.9544 - val_loss: 0.1121\n",
            "Epoch 11/50\n",
            "\u001b[1m836/836\u001b[0m \u001b[32m━━━━━━━━━━━━━━━━━━━━\u001b[0m\u001b[37m\u001b[0m \u001b[1m5s\u001b[0m 3ms/step - accuracy: 0.9529 - loss: 0.1115 - val_accuracy: 0.9585 - val_loss: 0.1014\n",
            "Epoch 12/50\n",
            "\u001b[1m836/836\u001b[0m \u001b[32m━━━━━━━━━━━━━━━━━━━━\u001b[0m\u001b[37m\u001b[0m \u001b[1m5s\u001b[0m 3ms/step - accuracy: 0.9539 - loss: 0.1091 - val_accuracy: 0.9568 - val_loss: 0.1057\n",
            "Epoch 13/50\n",
            "\u001b[1m836/836\u001b[0m \u001b[32m━━━━━━━━━━━━━━━━━━━━\u001b[0m\u001b[37m\u001b[0m \u001b[1m3s\u001b[0m 3ms/step - accuracy: 0.9545 - loss: 0.1073 - val_accuracy: 0.9565 - val_loss: 0.1026\n",
            "Epoch 14/50\n",
            "\u001b[1m836/836\u001b[0m \u001b[32m━━━━━━━━━━━━━━━━━━━━\u001b[0m\u001b[37m\u001b[0m \u001b[1m5s\u001b[0m 3ms/step - accuracy: 0.9542 - loss: 0.1072 - val_accuracy: 0.9526 - val_loss: 0.1080\n",
            "Epoch 15/50\n",
            "\u001b[1m836/836\u001b[0m \u001b[32m━━━━━━━━━━━━━━━━━━━━\u001b[0m\u001b[37m\u001b[0m \u001b[1m5s\u001b[0m 3ms/step - accuracy: 0.9554 - loss: 0.1061 - val_accuracy: 0.9577 - val_loss: 0.1029\n",
            "Epoch 16/50\n",
            "\u001b[1m836/836\u001b[0m \u001b[32m━━━━━━━━━━━━━━━━━━━━\u001b[0m\u001b[37m\u001b[0m \u001b[1m3s\u001b[0m 3ms/step - accuracy: 0.9539 - loss: 0.1069 - val_accuracy: 0.9584 - val_loss: 0.0988\n",
            "Epoch 17/50\n",
            "\u001b[1m836/836\u001b[0m \u001b[32m━━━━━━━━━━━━━━━━━━━━\u001b[0m\u001b[37m\u001b[0m \u001b[1m3s\u001b[0m 3ms/step - accuracy: 0.9554 - loss: 0.1043 - val_accuracy: 0.9579 - val_loss: 0.1014\n",
            "Epoch 18/50\n",
            "\u001b[1m836/836\u001b[0m \u001b[32m━━━━━━━━━━━━━━━━━━━━\u001b[0m\u001b[37m\u001b[0m \u001b[1m3s\u001b[0m 4ms/step - accuracy: 0.9555 - loss: 0.1037 - val_accuracy: 0.9589 - val_loss: 0.0982\n",
            "Epoch 19/50\n",
            "\u001b[1m836/836\u001b[0m \u001b[32m━━━━━━━━━━━━━━━━━━━━\u001b[0m\u001b[37m\u001b[0m \u001b[1m3s\u001b[0m 3ms/step - accuracy: 0.9557 - loss: 0.1034 - val_accuracy: 0.9594 - val_loss: 0.0994\n",
            "Epoch 20/50\n",
            "\u001b[1m836/836\u001b[0m \u001b[32m━━━━━━━━━━━━━━━━━━━━\u001b[0m\u001b[37m\u001b[0m \u001b[1m5s\u001b[0m 3ms/step - accuracy: 0.9568 - loss: 0.1013 - val_accuracy: 0.9566 - val_loss: 0.1016\n",
            "Epoch 21/50\n",
            "\u001b[1m836/836\u001b[0m \u001b[32m━━━━━━━━━━━━━━━━━━━━\u001b[0m\u001b[37m\u001b[0m \u001b[1m3s\u001b[0m 3ms/step - accuracy: 0.9564 - loss: 0.1019 - val_accuracy: 0.9554 - val_loss: 0.1023\n",
            "Epoch 22/50\n",
            "\u001b[1m836/836\u001b[0m \u001b[32m━━━━━━━━━━━━━━━━━━━━\u001b[0m\u001b[37m\u001b[0m \u001b[1m5s\u001b[0m 4ms/step - accuracy: 0.9579 - loss: 0.0994 - val_accuracy: 0.9568 - val_loss: 0.0995\n",
            "Epoch 23/50\n",
            "\u001b[1m836/836\u001b[0m \u001b[32m━━━━━━━━━━━━━━━━━━━━\u001b[0m\u001b[37m\u001b[0m \u001b[1m3s\u001b[0m 3ms/step - accuracy: 0.9574 - loss: 0.0999 - val_accuracy: 0.9572 - val_loss: 0.1047\n"
          ]
        },
        {
          "output_type": "display_data",
          "data": {
            "text/plain": [
              "<Figure size 1200x400 with 2 Axes>"
            ],
            "image/png": "[encoded data removed]"
          },
          "metadata": {}
        }
      ],
      "source": [
        "model6 = Sequential([\n",
        "    Dense(64, activation='relu', input_shape=(X_train_3.shape[1],)),\n",
        "    BatchNormalization(),\n",
        "    Dense(32, activation='relu'),\n",
        "    BatchNormalization(),\n",
        "    Dense(16, activation='relu'),\n",
        "    BatchNormalization(),\n",
        "    Dense(4, activation='softmax')\n",
        "])\n",
        "model6.compile(optimizer='adam', loss='categorical_crossentropy', metrics=['accuracy'])\n",
        "history6 = model6.fit(X_train_3, y_train_3, epochs=50, batch_size=256, validation_split=0.2,\n",
        "                     callbacks=[tf.keras.callbacks.EarlyStopping(patience=5, restore_best_weights=True)],\n",
        "                     verbose=1)\n",
        "\n",
        "# Store results\n",
        "train_acc6 = model6.evaluate(X_train_3, y_train_3, verbose=0)[1]\n",
        "test_acc6 = model6.evaluate(X_test_3, y_test_3, verbose=0)[1]\n",
        "ann_results.append({\n",
        "    'arch': 'Smaller with BatchNorm',\n",
        "    'train_acc': train_acc6,\n",
        "    'test_acc': test_acc6,\n",
        "    'history': history6\n",
        "})\n",
        "\n",
        "# Plot for Model 3\n",
        "plt.figure(figsize=(12, 4))\n",
        "plt.subplot(1, 2, 1)\n",
        "plt.plot(history6.history['accuracy'], label='Train')\n",
        "plt.plot(history6.history['val_accuracy'], label='Validation')\n",
        "plt.title('Model 6: Training History\\n(Smaller with BatchNorm)')\n",
        "plt.subplot(1, 2, 2)\n",
        "plt.bar(['Train', 'Test'], [train_acc6, test_acc6], color=['blue', 'orange'])\n",
        "plt.tight_layout()\n",
        "plt.show()"
      ]
    },
    {
      "cell_type": "code",
      "execution_count": null,
      "metadata": {
        "colab": {
          "base_uri": "https://localhost:8080/"
        },
        "id": "axDL65guWt5y",
        "outputId": "209dee3d-778b-4b6a-ed31-3bf229699053"
      },
      "outputs": [
        {
          "output_type": "stream",
          "name": "stdout",
          "text": [
            "Test Accuracyfor the test data is 0.9561\n",
            "\u001b[1m2090/2090\u001b[0m \u001b[32m━━━━━━━━━━━━━━━━━━━━\u001b[0m\u001b[37m\u001b[0m \u001b[1m4s\u001b[0m 2ms/step\n",
            "              precision    recall  f1-score   support\n",
            "\n",
            "      Cloudy     0.8870    0.9450    0.9151     16679\n",
            "       Windy     0.9978    0.9986    0.9982     16899\n",
            "   Clear/Dry     0.9433    0.8798    0.9104     16609\n",
            "       Rainy     0.9992    1.0000    0.9996     16671\n",
            "\n",
            "    accuracy                         0.9561     66858\n",
            "   macro avg     0.9568    0.9558    0.9558     66858\n",
            "weighted avg     0.9570    0.9561    0.9560     66858\n",
            "\n"
          ]
        }
      ],
      "source": [
        "test_loss, test_acc = model6.evaluate(X_test_3, y_test_3, verbose=0)\n",
        "print(f\"Test Accuracyfor the test data is {test_acc:.4f}\")\n",
        "\n",
        "y_pred3 = model6.predict(X_test_3)\n",
        "y_pred_classes = np.argmax(y_pred3, axis=1)\n",
        "y_true_classes = np.argmax(y_test_3, axis=1)\n",
        "\n",
        "print(classification_report(\n",
        "    y_true_classes,\n",
        "    y_pred_classes,\n",
        "    target_names=['Cloudy', 'Windy', 'Clear/Dry', 'Rainy'],\n",
        "    digits=4\n",
        "))"
      ]
    },
    {
      "cell_type": "markdown",
      "source": [
        "## Comparing all models on 80:20 ratio"
      ],
      "metadata": {
        "id": "WlqfMQaVjdwU"
      }
    },
    {
      "cell_type": "code",
      "execution_count": null,
      "metadata": {
        "id": "EgFqNNwXrd6Z",
        "colab": {
          "base_uri": "https://localhost:8080/",
          "height": 607
        },
        "outputId": "78bb5d9f-488a-4868-9996-c1c1f3f2f714"
      },
      "outputs": [
        {
          "output_type": "display_data",
          "data": {
            "text/plain": [
              "<Figure size 1000x600 with 1 Axes>"
            ],
            "image/png": "[encoded data removed]"
          },
          "metadata": {}
        }
      ],
      "source": [
        "best_lr = max(logistic_results, key=lambda x: x['test_acc'])\n",
        "best_knn = max(knn_results, key=lambda x: x['test_acc'])\n",
        "best_ann = max(ann_results, key=lambda x: x['test_acc'])\n",
        "\n",
        "plt.figure(figsize=(10, 6))\n",
        "models = ['Logistic Regression', 'KNN', 'ANN']\n",
        "accuracies = [best_lr['test_acc'],best_knn['test_acc'],best_ann['test_acc']]\n",
        "\n",
        "bars = plt.bar(models, accuracies, color=['#1f77b4', '#ff7f0e', '#2ca02c'])\n",
        "plt.ylabel('Test Accuracy')\n",
        "plt.title('Best Model Comparison Across Algorithms')\n",
        "plt.ylim(0, 1.05)\n",
        "\n",
        "labels = [\n",
        "    f\"C={best_lr['C']}\\nmax_iter={best_lr['max_iter']}\",\n",
        "    f\"K={best_knn['n']}\\n{algo}\",\n",
        "    best_ann['arch']\n",
        "]\n",
        "\n",
        "for bar, label in zip(bars, labels):\n",
        "    height = bar.get_height()\n",
        "    plt.text(bar.get_x() + bar.get_width()/2., height,\n",
        "             f'{height:.4f}\\n({label})',\n",
        "             ha='center', va='bottom')\n",
        "\n",
        "plt.tight_layout()\n",
        "plt.show()"
      ]
    },
    {
      "cell_type": "code",
      "source": [],
      "metadata": {
        "id": "b3EwkpbejZuq"
      },
      "execution_count": null,
      "outputs": []
    }
  ],
  "metadata": {
    "accelerator": "GPU",
    "colab": {
      "gpuType": "T4",
      "toc_visible": true,
      "provenance": []
    },
    "kernelspec": {
      "display_name": "Python 3",
      "name": "python3"
    },
    "language_info": {
      "name": "python"
    }
  },
  "nbformat": 4,
  "nbformat_minor": 0
}